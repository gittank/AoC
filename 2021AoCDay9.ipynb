{
 "cells": [
  {
   "cell_type": "markdown",
   "metadata": {},
   "source": [
    "## --- Day 9: Smoke Basin ---\n",
    "These caves seem to be lava tubes. Parts are even still volcanically active; small hydrothermal vents release smoke into the caves that slowly settles like rain.\n",
    "\n",
    "If you can model how the smoke flows through the caves, you might be able to avoid it and be that much safer. The submarine generates a heightmap of the floor of the nearby caves for you (your puzzle input).\n",
    "\n",
    "Smoke flows to the lowest point of the area it's in. For example, consider the following heightmap:\n",
    "\n",
    "2199943210\n",
    "3987894921\n",
    "9856789892\n",
    "8767896789\n",
    "9899965678\n",
    "Each number corresponds to the height of a particular location, where 9 is the highest and 0 is the lowest a location can be.\n",
    "\n",
    "Your first goal is to find the low points - the locations that are lower than any of its adjacent locations. Most locations have four adjacent locations (up, down, left, and right); locations on the edge or corner of the map have three or two adjacent locations, respectively. (Diagonal locations do not count as adjacent.)\n",
    "\n",
    "In the above example, there are four low points, all highlighted: two are in the first row (a 1 and a 0), one is in the third row (a 5), and one is in the bottom row (also a 5). All other locations on the heightmap have some lower adjacent location, and so are not low points.\n",
    "\n",
    "The risk level of a low point is 1 plus its height. In the above example, the risk levels of the low points are 2, 1, 6, and 6. The sum of the risk levels of all low points in the heightmap is therefore 15.\n",
    "\n",
    "Find all of the low points on your heightmap. What is the sum of the risk levels of all low points on your heightmap?\n",
    "\n",
    "Your puzzle answer was 480.\n",
    "\n",
    "## --- Part Two ---\n",
    "Next, you need to find the largest basins so you know what areas are most important to avoid.\n",
    "\n",
    "A basin is all locations that eventually flow downward to a single low point. Therefore, every low point has a basin, although some basins are very small. Locations of height 9 do not count as being in any basin, and all other locations will always be part of exactly one basin.\n",
    "\n",
    "The size of a basin is the number of locations within the basin, including the low point. The example above has four basins.\n",
    "\n",
    "The top-left basin, size 3:\n",
    "\n",
    "2199943210\n",
    "3987894921\n",
    "9856789892\n",
    "8767896789\n",
    "9899965678\n",
    "The top-right basin, size 9:\n",
    "\n",
    "2199943210\n",
    "3987894921\n",
    "9856789892\n",
    "8767896789\n",
    "9899965678\n",
    "The middle basin, size 14:\n",
    "\n",
    "2199943210\n",
    "3987894921\n",
    "9856789892\n",
    "8767896789\n",
    "9899965678\n",
    "The bottom-right basin, size 9:\n",
    "\n",
    "2199943210\n",
    "3987894921\n",
    "9856789892\n",
    "8767896789\n",
    "9899965678\n",
    "Find the three largest basins and multiply their sizes together. In the above example, this is 9 * 14 * 9 = 1134.\n",
    "\n",
    "What do you get if you multiply together the sizes of the three largest basins?\n",
    "\n",
    "Your puzzle answer was 1045660.\n",
    "\n",
    "Both parts of this puzzle are complete! They provide two gold stars: **"
   ]
  },
  {
   "cell_type": "code",
   "execution_count": 50,
   "metadata": {},
   "outputs": [],
   "source": [
    "import numpy as np\n",
    "from scipy import signal \n",
    "from collections import namedtuple\n",
    "\n",
    "def read_file(filename):\n",
    "    # read file\n",
    "    with open(filename) as f:\n",
    "        lines = f.readlines()\n",
    "    output = [str.rstrip(line) for line in lines]    \n",
    "    return output"
   ]
  },
  {
   "cell_type": "code",
   "execution_count": 190,
   "metadata": {},
   "outputs": [],
   "source": [
    "if False:\n",
    "    data = read_file('./day9_test.txt')\n",
    "else:\n",
    "    data = read_file('./day9.txt')\n",
    "\n",
    "big_array = []\n",
    "for row in data:\n",
    "    make_array = []\n",
    "    for val in row:\n",
    "        make_array.append(float(val))\n",
    "    big_array.append(np.array(make_array))\n",
    "\n",
    "data = np.array(big_array)"
   ]
  },
  {
   "cell_type": "code",
   "execution_count": 191,
   "metadata": {},
   "outputs": [],
   "source": [
    "def peaks(sig):\n",
    "    \"\"\"\n",
    "    detects peaks and valleys as defined by the first derivative changing signs\n",
    "    0  : no peak\n",
    "    2  : peak second derivative positve\n",
    "    -2 : peak second derivative negative\n",
    "    Parameters\n",
    "    ----------\n",
    "    signal : ndarray \n",
    "        input signal to be analyzed\n",
    "    Returns\n",
    "    -------\n",
    "    peak : ndarray\n",
    "        list of indicies corresponding to peaks/valleys found in the time-domain of the signal\n",
    "    \"\"\"\n",
    "\n",
    "    peak = signal.lfilter([-1, 1], [1], np.sign(np.diff(sig)))\n",
    "    peak[0] = 0\n",
    "    peak = np.append(peak, [0])\n",
    "    return peak\n"
   ]
  },
  {
   "cell_type": "code",
   "execution_count": 192,
   "metadata": {},
   "outputs": [],
   "source": [
    "border = np.zeros([data.shape[0]+2, data.shape[1]+2]) + 9\n",
    "border[1:-1,1:-1] = data\n",
    "\n",
    "rows = []\n",
    "for val in border:\n",
    "    rows.append(peaks(val))\n",
    "    \n",
    "cols = []\n",
    "for val in border.T:\n",
    "    cols.append(peaks(val))\n",
    "    \n",
    "out = np.array(rows) + np.array(cols).T    "
   ]
  },
  {
   "cell_type": "code",
   "execution_count": 193,
   "metadata": {},
   "outputs": [
    {
     "data": {
      "text/plain": [
       "480"
      ]
     },
     "execution_count": 193,
     "metadata": {},
     "output_type": "execute_result"
    }
   ],
   "source": [
    "int(sum(border[out == -4]+1))"
   ]
  },
  {
   "cell_type": "code",
   "execution_count": 194,
   "metadata": {},
   "outputs": [],
   "source": [
    "index = np.where(out == -4)"
   ]
  },
  {
   "cell_type": "code",
   "execution_count": 195,
   "metadata": {},
   "outputs": [],
   "source": [
    "Point = namedtuple('Point', ['x', 'y'])"
   ]
  },
  {
   "cell_type": "code",
   "execution_count": 196,
   "metadata": {},
   "outputs": [],
   "source": [
    "basins = []\n",
    "for val in zip(index[0], index[1]):\n",
    "    basins.append(Point(val[0],val[1]))"
   ]
  },
  {
   "cell_type": "code",
   "execution_count": 197,
   "metadata": {},
   "outputs": [],
   "source": [
    "\n",
    "def intersection(a,b):\n",
    "    return list(set(a).intersection(b))\n",
    "\n",
    "def not_intersection(a,b):\n",
    "    return list(set(a).symmetric_difference(b))\n",
    "\n",
    "def find_candidates(p,d):\n",
    "    mask = [Point(p.x-1,p.y),Point(p.x+1,p.y),Point(p.x,p.y-1),Point(p.x,p.y+1)]\n",
    "    return [q for q in mask if d[q.x,q.y] != 9]\n",
    "\n",
    "def basin(p,d):\n",
    "    \n",
    "    found.append(p)\n",
    "    new = find_candidates(p,d)\n",
    "    new = not_intersection(new,intersection(new, found))\n",
    "\n",
    "    candidates.extend(new)\n",
    "    if not candidates:\n",
    "        return 1\n",
    "    else:\n",
    "        winner = candidates.pop(0)\n",
    "        return(1 + basin(winner,d))"
   ]
  },
  {
   "cell_type": "code",
   "execution_count": 198,
   "metadata": {},
   "outputs": [
    {
     "data": {
      "text/plain": [
       "Point(x=1, y=74)"
      ]
     },
     "execution_count": 198,
     "metadata": {},
     "output_type": "execute_result"
    }
   ],
   "source": [
    "basins[2]"
   ]
  },
  {
   "cell_type": "code",
   "execution_count": 199,
   "metadata": {},
   "outputs": [
    {
     "data": {
      "text/plain": [
       "array([[9., 9., 9., ..., 9., 9., 9.],\n",
       "       [9., 7., 6., ..., 6., 5., 9.],\n",
       "       [9., 6., 5., ..., 9., 3., 9.],\n",
       "       ...,\n",
       "       [9., 6., 7., ..., 8., 7., 9.],\n",
       "       [9., 7., 9., ..., 9., 8., 9.],\n",
       "       [9., 9., 9., ..., 9., 9., 9.]])"
      ]
     },
     "execution_count": 199,
     "metadata": {},
     "output_type": "execute_result"
    }
   ],
   "source": [
    "border"
   ]
  },
  {
   "cell_type": "code",
   "execution_count": 200,
   "metadata": {},
   "outputs": [],
   "source": [
    "deep = []\n",
    "for val in basins:\n",
    "    found = []\n",
    "    candidates = []\n",
    "    basin(val,border)\n",
    "    deep.append(len(set(found)))"
   ]
  },
  {
   "cell_type": "code",
   "execution_count": 201,
   "metadata": {},
   "outputs": [],
   "source": [
    "out = 1\n",
    "for count in range(3):\n",
    "    max_val = max(deep)\n",
    "    out = out * max_val\n",
    "    idx = [ii for ii, val in enumerate(deep) if val == max_val]\n",
    "    deep.pop(idx[0])\n",
    "    "
   ]
  },
  {
   "cell_type": "code",
   "execution_count": 202,
   "metadata": {},
   "outputs": [
    {
     "data": {
      "text/plain": [
       "1045660"
      ]
     },
     "execution_count": 202,
     "metadata": {},
     "output_type": "execute_result"
    }
   ],
   "source": [
    "out"
   ]
  },
  {
   "cell_type": "code",
   "execution_count": null,
   "metadata": {},
   "outputs": [],
   "source": []
  }
 ],
 "metadata": {
  "kernelspec": {
   "display_name": "Python 3",
   "language": "python",
   "name": "python3"
  },
  "language_info": {
   "codemirror_mode": {
    "name": "ipython",
    "version": 3
   },
   "file_extension": ".py",
   "mimetype": "text/x-python",
   "name": "python",
   "nbconvert_exporter": "python",
   "pygments_lexer": "ipython3",
   "version": "3.6.9"
  }
 },
 "nbformat": 4,
 "nbformat_minor": 4
}
