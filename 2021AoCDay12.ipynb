{
 "cells": [
  {
   "cell_type": "markdown",
   "metadata": {},
   "source": [
    "## "
   ]
  },
  {
   "cell_type": "code",
   "execution_count": 69,
   "metadata": {},
   "outputs": [],
   "source": [
    "import urllib.request\n",
    "\n",
    "def gather_input_data(url, sessionId, transform=lambda x: str(x, \"utf-8\").strip('\\n')):\n",
    "    request = urllib.request.Request(url)\n",
    "    request.add_header(\"cookie\", \"session={}\".format(sessionId)) # Source the data directly from AoC\n",
    "\n",
    "    values = []\n",
    "    with urllib.request.urlopen(request) as data:\n",
    "        for line in data:\n",
    "            values.append(transform(line))\n",
    "\n",
    "    return values"
   ]
  },
  {
   "cell_type": "code",
   "execution_count": 70,
   "metadata": {},
   "outputs": [],
   "source": [
    "sessionId = '53616c7465645f5f8470e6a4190008858c3b31263eba45359fbf74d0372f05e0c54b1d484b0a6510947dd2e09f9300f9'\n",
    "url = \"https://adventofcode.com/2021/day/12/input\"\n",
    "data = gather_input_data(url, sessionId)\n"
   ]
  },
  {
   "cell_type": "code",
   "execution_count": 71,
   "metadata": {},
   "outputs": [],
   "source": [
    "from collections import (defaultdict, deque)\n",
    "\n",
    "def parse_graph(input):\n",
    "    graph = defaultdict(set)\n",
    "    for connection in input:\n",
    "        (v1, v2) = tuple(connection.split('-'))\n",
    "        graph[v1].add(v2) \n",
    "        graph[v2].add(v1)\n",
    "\n",
    "    return graph"
   ]
  },
  {
   "cell_type": "code",
   "execution_count": 72,
   "metadata": {},
   "outputs": [
    {
     "data": {
      "text/plain": [
       "defaultdict(set,\n",
       "            {'LP': {'bf', 'cb', 'yk'},\n",
       "             'cb': {'LP', 'PK', 'end', 'lj'},\n",
       "             'PK': {'bf', 'cb', 'my', 'start', 'yk'},\n",
       "             'yk': {'BN', 'EP', 'LP', 'PK', 'bf', 'cd'},\n",
       "             'bf': {'BN', 'LP', 'PK', 'end', 'lj', 'yk'},\n",
       "             'end': {'BN', 'bf', 'cb'},\n",
       "             'my': {'BN', 'PK', 'lj', 'start'},\n",
       "             'BN': {'bf', 'end', 'lj', 'my', 'yk'},\n",
       "             'cd': {'yk'},\n",
       "             'lj': {'BN', 'bf', 'cb', 'my', 'start'},\n",
       "             'start': {'PK', 'lj', 'my'},\n",
       "             'EP': {'yk'}})"
      ]
     },
     "execution_count": 72,
     "metadata": {},
     "output_type": "execute_result"
    }
   ],
   "source": [
    "parse_graph(data)"
   ]
  },
  {
   "cell_type": "code",
   "execution_count": null,
   "metadata": {},
   "outputs": [],
   "source": []
  }
 ],
 "metadata": {
  "kernelspec": {
   "display_name": "Python 3",
   "language": "python",
   "name": "python3"
  },
  "language_info": {
   "codemirror_mode": {
    "name": "ipython",
    "version": 3
   },
   "file_extension": ".py",
   "mimetype": "text/x-python",
   "name": "python",
   "nbconvert_exporter": "python",
   "pygments_lexer": "ipython3",
   "version": "3.6.9"
  }
 },
 "nbformat": 4,
 "nbformat_minor": 4
}
