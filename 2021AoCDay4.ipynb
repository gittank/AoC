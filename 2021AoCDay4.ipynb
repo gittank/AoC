{
 "cells": [
  {
   "cell_type": "code",
   "execution_count": null,
   "metadata": {},
   "outputs": [],
   "source": [
    "import numpy as np"
   ]
  },
  {
   "cell_type": "code",
   "execution_count": 206,
   "metadata": {},
   "outputs": [],
   "source": [
    "def read_file(filename):\n",
    "    # read file\n",
    "    with open(filename) as f:\n",
    "        lines = f.readlines()\n",
    "    output = [str.rstrip(line) for line in lines]    \n",
    "    return output\n",
    "\n",
    "def is_board_winner(mask):\n",
    "    return (np.any(mask.sum(axis=1)==5)) | (np.any(mask.sum(axis=0)==5))\n",
    "\n",
    "def is_winner(mask_list):\n",
    "    winners = []\n",
    "    for ii,val in enumerate(mask_list):\n",
    "        if is_board_winner(val):\n",
    "            winners.append(ii)\n",
    "    return winners\n",
    "\n",
    "def aggregate_masks(new, old):\n",
    "    agg = []\n",
    "    pairs = zip(new, old)\n",
    "    for val in pairs:\n",
    "        agg.append(val[0] + val[1])\n",
    "    return agg\n",
    "    \n",
    "def find_score(draw, idx):\n",
    "    return (draw * np.sum(boards[idx] * ~mask[idx] + 0))"
   ]
  },
  {
   "cell_type": "code",
   "execution_count": 209,
   "metadata": {},
   "outputs": [],
   "source": [
    "data = read_file('./day4.txt')\n",
    "\n",
    "## split a list into sublist by deliminator\n",
    "import itertools\n",
    "records = [' '.join(list(y)).split() for x, y in itertools.groupby(data, lambda z: z == '') if not x]\n",
    "\n",
    "draws = [int(val) for val in records[0][0].split(',')]\n",
    "boards = [np.array(val, dtype=int).reshape(5,5) for val in records[1:]]\n"
   ]
  },
  {
   "cell_type": "code",
   "execution_count": 210,
   "metadata": {},
   "outputs": [
    {
     "name": "stdout",
     "output_type": "stream",
     "text": [
      "Part 1 35711\n",
      "Part 2 5586\n"
     ]
    }
   ],
   "source": [
    "mask = [board == -1 for board in boards]\n",
    "idx = []\n",
    "score = []\n",
    "for draw in draws:\n",
    "    new_mask = [board == draw for board in boards]\n",
    "    mask = aggregate_masks(new_mask, mask)\n",
    "    win_index = is_winner(mask)\n",
    "\n",
    "    if len(win_index) != len(idx):\n",
    "        idx.extend(list(set(win_index) - set(idx)))\n",
    "        score.append(find_score(draw, idx[-1]))\n",
    "\n",
    "print('Part 1 %d'%score[0])\n",
    "print('Part 2 %d'% score[-1])\n",
    "\n",
    "        \n",
    "    "
   ]
  },
  {
   "cell_type": "code",
   "execution_count": null,
   "metadata": {},
   "outputs": [],
   "source": []
  },
  {
   "cell_type": "code",
   "execution_count": null,
   "metadata": {},
   "outputs": [],
   "source": []
  },
  {
   "cell_type": "code",
   "execution_count": null,
   "metadata": {},
   "outputs": [],
   "source": []
  },
  {
   "cell_type": "code",
   "execution_count": null,
   "metadata": {},
   "outputs": [],
   "source": []
  },
  {
   "cell_type": "code",
   "execution_count": null,
   "metadata": {},
   "outputs": [],
   "source": []
  },
  {
   "cell_type": "code",
   "execution_count": null,
   "metadata": {},
   "outputs": [],
   "source": []
  }
 ],
 "metadata": {
  "kernelspec": {
   "display_name": "Python 3",
   "language": "python",
   "name": "python3"
  },
  "language_info": {
   "codemirror_mode": {
    "name": "ipython",
    "version": 3
   },
   "file_extension": ".py",
   "mimetype": "text/x-python",
   "name": "python",
   "nbconvert_exporter": "python",
   "pygments_lexer": "ipython3",
   "version": "3.6.9"
  }
 },
 "nbformat": 4,
 "nbformat_minor": 4
}
