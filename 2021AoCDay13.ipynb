{
 "cells": [
  {
   "cell_type": "markdown",
   "metadata": {},
   "source": [
    "## "
   ]
  },
  {
   "cell_type": "code",
   "execution_count": 257,
   "metadata": {},
   "outputs": [],
   "source": [
    "import numpy as np\n",
    "\n",
    "def read_file(filename):\n",
    "    # read file\n",
    "    with open(filename) as f:\n",
    "        lines = f.readlines()\n",
    "    output = [str.rstrip(line) for line in lines]    \n",
    "    return output"
   ]
  },
  {
   "cell_type": "code",
   "execution_count": 258,
   "metadata": {},
   "outputs": [
    {
     "name": "stdout",
     "output_type": "stream",
     "text": [
      "689\n"
     ]
    }
   ],
   "source": [
    "data = read_file('./day13.txt')\n",
    "split_index = [ii for ii, val in enumerate(data) if val ==''][0]\n",
    "coordinates = data[0:split_index]\n",
    "instructions = data[split_index+1:]\n",
    "\n",
    "x = []\n",
    "y = []\n",
    "for val in coordinates:\n",
    "    r,c = val.split(',')\n",
    "    x.append(int(r))\n",
    "    y.append(int(c))\n",
    "\n",
    "\n",
    "\n",
    "grid = np.zeros([max(y)+1,max(x)+1])\n",
    "for point in zip(y,x):\n",
    "    grid[point[0],point[1]] = 1\n",
    "\n",
    "    \n",
    "\n",
    "instructions = [val.split()[2] for val in instructions]\n",
    "\n",
    "\n",
    "for ii,task in enumerate(instructions):\n",
    "    axis, value = task.split('=')\n",
    "    value = int(value)\n",
    "    if axis == 'y':\n",
    "        new = grid[0:value,:] + np.flipud(grid[value+1:,:])    \n",
    "    else:\n",
    "        new = grid[:,0:value] + np.fliplr(grid[:,value+1:])\n",
    "    grid = new\n",
    "    if ii==0: print(np.sum((grid > 0) + 0))"
   ]
  },
  {
   "cell_type": "code",
   "execution_count": 259,
   "metadata": {},
   "outputs": [],
   "source": [
    "new = (grid>0) + 0\n",
    "new = new.astype('str')\n",
    "new[new=='0'] = '.'\n",
    "new[new=='1'] = '#'"
   ]
  },
  {
   "cell_type": "code",
   "execution_count": 273,
   "metadata": {},
   "outputs": [
    {
     "ename": "NameError",
     "evalue": "name 'prtin' is not defined",
     "output_type": "error",
     "traceback": [
      "\u001b[0;31m---------------------------------------------------------------------------\u001b[0m",
      "\u001b[0;31mNameError\u001b[0m                                 Traceback (most recent call last)",
      "\u001b[0;32m<ipython-input-273-abd2ff0de86d>\u001b[0m in \u001b[0;36m<module>\u001b[0;34m\u001b[0m\n\u001b[1;32m      1\u001b[0m \u001b[0;32mfor\u001b[0m \u001b[0mval\u001b[0m \u001b[0;32min\u001b[0m \u001b[0mnew\u001b[0m\u001b[0;34m:\u001b[0m\u001b[0;34m\u001b[0m\u001b[0;34m\u001b[0m\u001b[0m\n\u001b[0;32m----> 2\u001b[0;31m     \u001b[0mprtin\u001b[0m\u001b[0;34m(\u001b[0m\u001b[0;34m''\u001b[0m\u001b[0;34m.\u001b[0m\u001b[0mjoin\u001b[0m\u001b[0;34m(\u001b[0m\u001b[0mlist\u001b[0m\u001b[0;34m(\u001b[0m\u001b[0mval\u001b[0m\u001b[0;34m)\u001b[0m\u001b[0;34m)\u001b[0m\u001b[0;34m)\u001b[0m\u001b[0;34m\u001b[0m\u001b[0;34m\u001b[0m\u001b[0m\n\u001b[0m",
      "\u001b[0;31mNameError\u001b[0m: name 'prtin' is not defined"
     ]
    }
   ],
   "source": [
    "for val in new:\n",
    "    prtin(''.join(list(val)))"
   ]
  },
  {
   "cell_type": "code",
   "execution_count": 267,
   "metadata": {},
   "outputs": [
    {
     "name": "stdout",
     "output_type": "stream",
     "text": [
      "[['#' '#' '#' '.']\n",
      " ['#' '.' '.' '#']\n",
      " ['#' '.' '.' '#']\n",
      " ['#' '#' '#' '.']\n",
      " ['#' '.' '#' '.']\n",
      " ['#' '.' '.' '#']]\n",
      "\n",
      "[['#' '.' '.' '.']\n",
      " ['#' '.' '.' '.']\n",
      " ['#' '.' '.' '.']\n",
      " ['#' '.' '.' '.']\n",
      " ['#' '.' '.' '.']\n",
      " ['#' '#' '#' '#']]\n",
      "\n",
      "[['#' '#' '#' '.']\n",
      " ['#' '.' '.' '#']\n",
      " ['#' '#' '#' '.']\n",
      " ['#' '.' '.' '#']\n",
      " ['#' '.' '.' '#']\n",
      " ['#' '#' '#' '.']]\n",
      "\n",
      "[['.' '#' '#' '.']\n",
      " ['#' '.' '.' '#']\n",
      " ['#' '.' '.' '.']\n",
      " ['#' '.' '.' '.']\n",
      " ['#' '.' '.' '#']\n",
      " ['.' '#' '#' '.']]\n",
      "\n",
      "[['.' '.' '#' '#']\n",
      " ['.' '.' '.' '#']\n",
      " ['.' '.' '.' '#']\n",
      " ['.' '.' '.' '#']\n",
      " ['#' '.' '.' '#']\n",
      " ['.' '#' '#' '.']]\n",
      "\n",
      "[['.' '#' '#' '.']\n",
      " ['#' '.' '.' '#']\n",
      " ['#' '.' '.' '.']\n",
      " ['#' '.' '#' '#']\n",
      " ['#' '.' '.' '#']\n",
      " ['.' '#' '#' '#']]\n",
      "\n",
      "[['#' '.' '.' '.']\n",
      " ['#' '.' '.' '.']\n",
      " ['#' '.' '.' '.']\n",
      " ['#' '.' '.' '.']\n",
      " ['#' '.' '.' '.']\n",
      " ['#' '#' '#' '#']]\n",
      "\n",
      "[['#' '.' '.' '#']\n",
      " ['#' '.' '.' '#']\n",
      " ['#' '.' '.' '#']\n",
      " ['#' '.' '.' '#']\n",
      " ['#' '.' '.' '#']\n",
      " ['.' '#' '#' '.']]\n",
      "\n"
     ]
    }
   ],
   "source": [
    "index = list(range(0,new.shape[1],5)) \n",
    "for val in index:\n",
    "    print(new[:,val:val+4])\n",
    "    print()"
   ]
  },
  {
   "cell_type": "code",
   "execution_count": null,
   "metadata": {},
   "outputs": [],
   "source": [
    "RLBCJGLU"
   ]
  },
  {
   "cell_type": "code",
   "execution_count": null,
   "metadata": {},
   "outputs": [],
   "source": []
  }
 ],
 "metadata": {
  "kernelspec": {
   "display_name": "Python 3",
   "language": "python",
   "name": "python3"
  },
  "language_info": {
   "codemirror_mode": {
    "name": "ipython",
    "version": 3
   },
   "file_extension": ".py",
   "mimetype": "text/x-python",
   "name": "python",
   "nbconvert_exporter": "python",
   "pygments_lexer": "ipython3",
   "version": "3.6.9"
  }
 },
 "nbformat": 4,
 "nbformat_minor": 4
}
