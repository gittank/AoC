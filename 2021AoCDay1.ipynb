{
 "cells": [
  {
   "cell_type": "code",
   "execution_count": 74,
   "metadata": {},
   "outputs": [],
   "source": [
    "#import numpy as np\n",
    "\n",
    "from itertools import islice\n",
    "from collections import deque"
   ]
  },
  {
   "cell_type": "code",
   "execution_count": 82,
   "metadata": {},
   "outputs": [],
   "source": [
    "# def total_increase(data):\n",
    "#     return np.nonzero(np.diff(np.array(data))>0)[0].shape[0]\n",
    "\n",
    "def read_file(filename):\n",
    "    # read file\n",
    "    with open(filename) as f:\n",
    "        lines = f.readlines()\n",
    "    output = [str.rstrip(line) for line in lines]    \n",
    "    return output\n",
    "\n",
    "def total_increase(data):\n",
    "    data0 = data[:-1]\n",
    "    data1 = data[1:]\n",
    "    b_increase = [(val[0]-val[1])<0 for val in zip(data0, data1)]\n",
    "    return len([val for val in b_increase if val])\n",
    "\n",
    "def sliding_window(data, size=2, step=1, fillvalue=None):\n",
    "    '''\n",
    "    Parameters\n",
    "    ----------\n",
    "    iterable : ndarray\n",
    "        data to move sliding window along\n",
    "    size : int\n",
    "        Window size in number of samples\n",
    "    step : int\n",
    "        Step size in number of samples to stride across signal\n",
    "\n",
    "    Returns\n",
    "    -------\n",
    "    sig : iterable\n",
    "\n",
    "    Example\n",
    "    -------\n",
    "    window = sliding_window(data, window_size, window_step, fillvalue=0)\n",
    "    ## get array of data from window\n",
    "    np.array([list(win) for win in window])\n",
    "    '''\n",
    "    if size < 0 or step < 1:\n",
    "        raise ValueError\n",
    "    it = iter(data)\n",
    "    q = deque(islice(it, size), maxlen=size)\n",
    "    if not q:\n",
    "        return  # empty iterable or size == 0\n",
    "    q.extend(fillvalue for _ in range(size - len(q)))  # pad to size\n",
    "    while True:\n",
    "        yield iter(q)  # iter() to avoid accidental outside modifications\n",
    "        try:\n",
    "            q.append(next(it))\n",
    "        except StopIteration:  # Python 3.5 pep 479 support\n",
    "            return\n",
    "        q.extend(next(it, fillvalue) for _ in range(step - 1))\n",
    "\n",
    "        "
   ]
  },
  {
   "cell_type": "code",
   "execution_count": 83,
   "metadata": {},
   "outputs": [],
   "source": [
    "data = read_file('./day1.txt')"
   ]
  },
  {
   "cell_type": "code",
   "execution_count": 85,
   "metadata": {},
   "outputs": [],
   "source": [
    "# strip <cr> and cast as integers\n",
    "data = [int(val) for val in data]"
   ]
  },
  {
   "cell_type": "code",
   "execution_count": 86,
   "metadata": {},
   "outputs": [
    {
     "name": "stdout",
     "output_type": "stream",
     "text": [
      "1713\n"
     ]
    }
   ],
   "source": [
    "print(total_increase(data))"
   ]
  },
  {
   "cell_type": "code",
   "execution_count": 88,
   "metadata": {},
   "outputs": [
    {
     "name": "stdout",
     "output_type": "stream",
     "text": [
      "1734\n"
     ]
    }
   ],
   "source": [
    "iwindow = sliding_window(data, 3, 1, fillvalue=None)\n",
    "print(total_increase([sum(window) for window in iwindow]))\n"
   ]
  },
  {
   "cell_type": "code",
   "execution_count": null,
   "metadata": {},
   "outputs": [],
   "source": []
  }
 ],
 "metadata": {
  "kernelspec": {
   "display_name": "python (terminator)",
   "language": "python",
   "name": "terminator"
  },
  "language_info": {
   "codemirror_mode": {
    "name": "ipython",
    "version": 3
   },
   "file_extension": ".py",
   "mimetype": "text/x-python",
   "name": "python",
   "nbconvert_exporter": "python",
   "pygments_lexer": "ipython3",
   "version": "3.7.7"
  }
 },
 "nbformat": 4,
 "nbformat_minor": 4
}
