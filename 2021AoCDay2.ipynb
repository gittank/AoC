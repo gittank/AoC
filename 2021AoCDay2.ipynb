{
 "cells": [
  {
   "cell_type": "code",
   "execution_count": 74,
   "metadata": {},
   "outputs": [],
   "source": [
    "#import numpy as np\n",
    "\n",
    "from itertools import islice\n",
    "from collections import deque"
   ]
  },
  {
   "cell_type": "code",
   "execution_count": 28,
   "metadata": {},
   "outputs": [],
   "source": [
    "# def total_increase(data):\n",
    "#     return np.nonzero(np.diff(np.array(data))>0)[0].shape[0]\n",
    "def read_file(filename):\n",
    "    # read file\n",
    "    with open(filename) as f:\n",
    "        lines = f.readlines()\n",
    "    output = [str.rstrip(line) for line in lines]    \n",
    "    return output\n",
    "\n",
    "def part1(data):\n",
    "    depth = 0\n",
    "    position = 0\n",
    "    for val in data:\n",
    "        parsed = val.split(' ')\n",
    "        direction = parsed[0]\n",
    "        value = int(parsed[1])\n",
    "        if direction == 'forward':\n",
    "            position = position + value\n",
    "        elif direction == 'up':\n",
    "            depth = depth - value\n",
    "        elif direction == 'down':\n",
    "            depth = depth + value\n",
    "        else:\n",
    "            print('error unknown direction: %s'%direction)\n",
    "    return depth*position\n",
    "\n",
    "def part2(data):\n",
    "    depth = 0\n",
    "    position = 0\n",
    "    aim = 0\n",
    "    for val in data:\n",
    "        parsed = val.split(' ')\n",
    "        direction = parsed[0]\n",
    "        value = int(parsed[1])\n",
    "        if direction == 'forward':\n",
    "            depth = depth + aim*value\n",
    "            position = position + value\n",
    "        elif direction == 'up':\n",
    "            aim = aim - value\n",
    "        elif direction == 'down':\n",
    "            aim = aim + value\n",
    "        else:\n",
    "            print('error unknown direction: %s'%direction)\n",
    "    return depth*position"
   ]
  },
  {
   "cell_type": "code",
   "execution_count": 30,
   "metadata": {},
   "outputs": [
    {
     "name": "stdout",
     "output_type": "stream",
     "text": [
      "part 1 solution: 1694130\n",
      "part 2 solution: 1698850445\n"
     ]
    }
   ],
   "source": [
    "data = read_file('./day2.txt')\n",
    "print('part 1 solution: %d'%part1(data))\n",
    "print('part 2 solution: %d'%part2(data))"
   ]
  },
  {
   "cell_type": "code",
   "execution_count": null,
   "metadata": {},
   "outputs": [],
   "source": []
  },
  {
   "cell_type": "code",
   "execution_count": 12,
   "metadata": {},
   "outputs": [
    {
     "data": {
      "text/plain": [
       "{'down', 'forward', 'up'}"
      ]
     },
     "execution_count": 12,
     "metadata": {},
     "output_type": "execute_result"
    }
   ],
   "source": [
    "# set of all possible directions\n",
    "set([val.split(' ')[0] for val in data])"
   ]
  },
  {
   "cell_type": "code",
   "execution_count": 21,
   "metadata": {},
   "outputs": [],
   "source": []
  },
  {
   "cell_type": "code",
   "execution_count": 18,
   "metadata": {},
   "outputs": [
    {
     "data": {
      "text/plain": [
       "894"
      ]
     },
     "execution_count": 18,
     "metadata": {},
     "output_type": "execute_result"
    }
   ],
   "source": [
    "depth"
   ]
  },
  {
   "cell_type": "code",
   "execution_count": 22,
   "metadata": {},
   "outputs": [
    {
     "data": {
      "text/plain": [
       "1895"
      ]
     },
     "execution_count": 22,
     "metadata": {},
     "output_type": "execute_result"
    }
   ],
   "source": [
    "position"
   ]
  },
  {
   "cell_type": "code",
   "execution_count": null,
   "metadata": {},
   "outputs": [],
   "source": []
  }
 ],
 "metadata": {
  "kernelspec": {
   "display_name": "python (terminator)",
   "language": "python",
   "name": "terminator"
  },
  "language_info": {
   "codemirror_mode": {
    "name": "ipython",
    "version": 3
   },
   "file_extension": ".py",
   "mimetype": "text/x-python",
   "name": "python",
   "nbconvert_exporter": "python",
   "pygments_lexer": "ipython3",
   "version": "3.7.7"
  }
 },
 "nbformat": 4,
 "nbformat_minor": 4
}
