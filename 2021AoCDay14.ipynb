{
 "cells": [
  {
   "cell_type": "code",
   "execution_count": 460,
   "metadata": {},
   "outputs": [
    {
     "data": {
      "text/html": [
       "\n",
       "        <iframe\n",
       "            width=\"1000\"\n",
       "            height=\"600\"\n",
       "            src=\"https://adventofcode.com/2021/day/14\"\n",
       "            frameborder=\"0\"\n",
       "            allowfullscreen\n",
       "        ></iframe>\n",
       "        "
      ],
      "text/plain": [
       "<IPython.lib.display.IFrame at 0x7f4f4cbe0c88>"
      ]
     },
     "execution_count": 460,
     "metadata": {},
     "output_type": "execute_result"
    }
   ],
   "source": [
    "from IPython.display import IFrame\n",
    "url = \"https://adventofcode.com/2021/day/14\"\n",
    "IFrame(src=url, width=1000, height=600)"
   ]
  },
  {
   "cell_type": "code",
   "execution_count": 418,
   "metadata": {},
   "outputs": [],
   "source": [
    "import urllib.request\n",
    "from itertools import islice\n",
    "from collections import deque\n",
    "\n",
    "\n",
    "def gather_input_data(url, sessionId, transform=lambda x: str(x, \"utf-8\").strip('\\n')):\n",
    "    request = urllib.request.Request(url)\n",
    "    request.add_header(\"cookie\", \"session={}\".format(sessionId)) # Source the data directly from AoC\n",
    "\n",
    "    values = []\n",
    "    with urllib.request.urlopen(request) as data:\n",
    "        for line in data:\n",
    "            values.append(transform(line))\n",
    "\n",
    "    return values\n",
    "\n",
    "def sliding_window(data, size=2, step=1, fillvalue=None):\n",
    "    '''\n",
    "    Parameters\n",
    "    ----------\n",
    "    iterable : ndarray\n",
    "        data to move sliding window along\n",
    "    size : int\n",
    "        Window size in number of samples\n",
    "    step : int\n",
    "        Step size in number of samples to stride across signal\n",
    "\n",
    "    Returns\n",
    "    -------\n",
    "    sig : iterable\n",
    "\n",
    "    Example\n",
    "    -------\n",
    "    window = sliding_window(data, window_size, window_step, fillvalue=0)\n",
    "    ## get array of data from window\n",
    "    np.array([list(win) for win in window])\n",
    "    '''\n",
    "    if size < 0 or step < 1:\n",
    "        raise ValueError\n",
    "    it = iter(data)\n",
    "    q = deque(islice(it, size), maxlen=size)\n",
    "    if not q:\n",
    "        return  # empty iterable or size == 0\n",
    "    q.extend(fillvalue for _ in range(size - len(q)))  # pad to size\n",
    "    while True:\n",
    "        yield iter(q)  # iter() to avoid accidental outside modifications\n",
    "        try:\n",
    "            q.append(next(it))\n",
    "        except StopIteration:  # Python 3.5 pep 479 support\n",
    "            return\n",
    "        q.extend(next(it, fillvalue) for _ in range(step - 1))\n",
    "        \n",
    "def answer(c,last):\n",
    "    res = {} \n",
    "    for ele in c:\n",
    "        if ele[0] in res:\n",
    "            res[ele[0]] = res[ele[0]] + c[ele]\n",
    "        else:\n",
    "            res[ele[0]] =c[ele]\n",
    "    res[last] = res[last] + 1\n",
    "    return max(res.values()) - min(res.values())"
   ]
  },
  {
   "cell_type": "code",
   "execution_count": 461,
   "metadata": {},
   "outputs": [],
   "source": [
    "url = \"https://adventofcode.com/2021/day/14/input\"\n",
    "data = gather_input_data(url, sessionId)\n",
    "base = data[0]\n",
    "rules = dict([val.split(' -> ')for val in data[2:]])\n"
   ]
  },
  {
   "cell_type": "code",
   "execution_count": 441,
   "metadata": {},
   "outputs": [],
   "source": [
    "# rules={'CH':'B','HH':'N','CB':'H','NH':'C','HB':'C','HC':'B','HN':'C','NN':'C','BH':'H','NC':'B','NB':'B',\n",
    "#        'BN':'B','BB':'N','BC':'B','CC':'N','CN':'C'}\n",
    "# base = 'NNCB'"
   ]
  },
  {
   "cell_type": "code",
   "execution_count": 442,
   "metadata": {},
   "outputs": [
    {
     "name": "stdout",
     "output_type": "stream",
     "text": [
      "Part 1\n",
      "2435\n"
     ]
    }
   ],
   "source": [
    "\n",
    "last = base[-1]\n",
    "from collections import Counter\n",
    "win = sliding_window(base, 2,1)\n",
    "c = Counter([''.join(list(val)) for val in win])\n",
    "\n",
    "for ii in range(40):\n",
    "    nc = Counter()\n",
    "\n",
    "    for ele in c:\n",
    "        new = rules[ele]\n",
    "        if c[ele] == 0:\n",
    "            nc[ele[0]+new] = nc[ele[0]+new] + 1\n",
    "            nc[new+ele[1]] = nc[new+ele[1]] + 1\n",
    "        else:\n",
    "            nc[ele[0]+new] = nc[ele[0]+new]+c[ele]\n",
    "            nc[new+ele[1]] = nc[new+ele[1]]+c[ele]\n",
    "    c = nc.copy()\n",
    "    if ii == 9:\n",
    "        print('Part 1')\n",
    "        print(answer(c, last))"
   ]
  },
  {
   "cell_type": "code",
   "execution_count": 443,
   "metadata": {},
   "outputs": [
    {
     "data": {
      "text/plain": [
       "2587447599164"
      ]
     },
     "execution_count": 443,
     "metadata": {},
     "output_type": "execute_result"
    }
   ],
   "source": [
    "answer(c,last)"
   ]
  },
  {
   "cell_type": "code",
   "execution_count": null,
   "metadata": {},
   "outputs": [],
   "source": []
  }
 ],
 "metadata": {
  "kernelspec": {
   "display_name": "Python 3",
   "language": "python",
   "name": "python3"
  },
  "language_info": {
   "codemirror_mode": {
    "name": "ipython",
    "version": 3
   },
   "file_extension": ".py",
   "mimetype": "text/x-python",
   "name": "python",
   "nbconvert_exporter": "python",
   "pygments_lexer": "ipython3",
   "version": "3.6.9"
  }
 },
 "nbformat": 4,
 "nbformat_minor": 4
}
