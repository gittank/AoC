{
 "cells": [
  {
   "cell_type": "code",
   "execution_count": null,
   "metadata": {},
   "outputs": [],
   "source": []
  },
  {
   "cell_type": "code",
   "execution_count": 273,
   "metadata": {},
   "outputs": [],
   "source": [
    "import numpy as np\n",
    "\n",
    "def read_file(filename):\n",
    "    # read file\n",
    "    with open(filename) as f:\n",
    "        lines = f.readlines()\n",
    "    output = [str.rstrip(line) for line in lines]    \n",
    "    return output\n",
    "\n",
    "class Point(object):\n",
    "    '''Creates a point on a coordinate plane with from a list [x,y].'''\n",
    "\n",
    "    def __init__(self, coord):\n",
    "        '''Defines x and y variables'''\n",
    "        self.x = int(coord[0])\n",
    "        self.y = int(coord[1])\n",
    "    \n",
    "    def display(self):\n",
    "        print(self.x, self.y)\n",
    "        \n",
    "def is_horizontal_or_vertical(coordinate):\n",
    "    return (coordinate[0].x == coordinate[1].x) | (coordinate[0].y == coordinate[1].y)"
   ]
  },
  {
   "cell_type": "code",
   "execution_count": 306,
   "metadata": {},
   "outputs": [],
   "source": [
    "data = read_file('./day5.txt')\n",
    "data = [val.split(' -> ') for val in data]\n",
    "coordinates = [[Point(val[0].split(',')),Point(val[1].split(','))]  for val in data]"
   ]
  },
  {
   "cell_type": "code",
   "execution_count": 307,
   "metadata": {},
   "outputs": [],
   "source": [
    "part1_coords = [val for val in coordinates if is_horizontal_or_vertical(val)]"
   ]
  },
  {
   "cell_type": "code",
   "execution_count": 308,
   "metadata": {},
   "outputs": [],
   "source": [
    "x_max = max([val[0].x for val in coordinates] + [val[1].x for val in coordinates])\n",
    "y_max = max([val[0].x for val in coordinates] + [val[1].x for val in coordinates])"
   ]
  },
  {
   "cell_type": "code",
   "execution_count": null,
   "metadata": {},
   "outputs": [],
   "source": []
  },
  {
   "cell_type": "code",
   "execution_count": null,
   "metadata": {},
   "outputs": [],
   "source": []
  },
  {
   "cell_type": "code",
   "execution_count": 309,
   "metadata": {},
   "outputs": [],
   "source": [
    "def sorted_coords(start, stop):\n",
    "    if start > stop:\n",
    "        start, stop = stop, start\n",
    "    return np.arange(start, stop+1)\n",
    "\n",
    "\n",
    "def sorted_coords(start, stop):\n",
    "    if start > stop:\n",
    "        stop = stop - 1\n",
    "        increment = -1\n",
    "    else:\n",
    "        stop = stop + 1\n",
    "        increment = 1\n",
    "    return np.arange(start, stop, increment)\n",
    "\n",
    "\n",
    "def points_on_line(coord):\n",
    "    if (coord[1].x - coord[0].x) == 0:\n",
    "        y = sorted_coords(coord[0].y, coord[1].y)\n",
    "        x = np.zeros_like(y) + coord[1].x\n",
    "    elif (coord[1].y - coord[0].y) == 0:\n",
    "        x = sorted_coords(coord[0].x, coord[1].x)\n",
    "        y = np.zeros_like(x) + coord[1].y\n",
    "    else:\n",
    "        y = sorted_coords(coord[0].y, coord[1].y)\n",
    "        x = sorted_coords(coord[0].x, coord[1].x)\n",
    "        \n",
    "    return np.stack([y,x]).T\n"
   ]
  },
  {
   "cell_type": "code",
   "execution_count": 310,
   "metadata": {},
   "outputs": [
    {
     "name": "stdout",
     "output_type": "stream",
     "text": [
      "18627\n"
     ]
    }
   ],
   "source": [
    "part1 = False\n",
    "if part1:\n",
    "    coord_list = part1_coords\n",
    "else:\n",
    "    coord_list = coordinates\n",
    "    \n",
    "mask = np.zeros([x_max+1,y_max+1])\n",
    "\n",
    "for coord in coord_list:\n",
    "    out = points_on_line(coord)\n",
    "    for val in out:\n",
    "        mask[val[0], val[1]] = mask[val[0], val[1]] + 1\n",
    "print(np.sum((mask>1) + 0))"
   ]
  },
  {
   "cell_type": "code",
   "execution_count": null,
   "metadata": {},
   "outputs": [],
   "source": []
  },
  {
   "cell_type": "code",
   "execution_count": null,
   "metadata": {},
   "outputs": [],
   "source": []
  },
  {
   "cell_type": "code",
   "execution_count": 300,
   "metadata": {},
   "outputs": [
    {
     "data": {
      "text/plain": [
       "array([9, 8, 7, 6, 5, 4])"
      ]
     },
     "execution_count": 300,
     "metadata": {},
     "output_type": "execute_result"
    }
   ],
   "source": [
    "np.arange(9,3,-1)"
   ]
  },
  {
   "cell_type": "code",
   "execution_count": null,
   "metadata": {},
   "outputs": [],
   "source": []
  }
 ],
 "metadata": {
  "kernelspec": {
   "display_name": "Python 3",
   "language": "python",
   "name": "python3"
  },
  "language_info": {
   "codemirror_mode": {
    "name": "ipython",
    "version": 3
   },
   "file_extension": ".py",
   "mimetype": "text/x-python",
   "name": "python",
   "nbconvert_exporter": "python",
   "pygments_lexer": "ipython3",
   "version": "3.6.9"
  }
 },
 "nbformat": 4,
 "nbformat_minor": 4
}
