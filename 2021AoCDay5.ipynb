{
 "cells": [
  {
   "cell_type": "markdown",
   "metadata": {},
   "source": [
    "## --- Day 5: Hydrothermal Venture ---\n",
    "You come across a field of hydrothermal vents on the ocean floor! These vents constantly produce large, opaque clouds, so it would be best to avoid them if possible.\n",
    "\n",
    "They tend to form in lines; the submarine helpfully produces a list of nearby lines of vents (your puzzle input) for you to review. For example:\n",
    "\n",
    "0,9 -> 5,9\n",
    "8,0 -> 0,8\n",
    "9,4 -> 3,4\n",
    "2,2 -> 2,1\n",
    "7,0 -> 7,4\n",
    "6,4 -> 2,0\n",
    "0,9 -> 2,9\n",
    "3,4 -> 1,4\n",
    "0,0 -> 8,8\n",
    "5,5 -> 8,2\n",
    "Each line of vents is given as a line segment in the format x1,y1 -> x2,y2 where x1,y1 are the coordinates of one end the line segment and x2,y2 are the coordinates of the other end. These line segments include the points at both ends. In other words:\n",
    "\n",
    "An entry like 1,1 -> 1,3 covers points 1,1, 1,2, and 1,3.\n",
    "An entry like 9,7 -> 7,7 covers points 9,7, 8,7, and 7,7.\n",
    "For now, only consider horizontal and vertical lines: lines where either x1 = x2 or y1 = y2.\n",
    "\n",
    "So, the horizontal and vertical lines from the above list would produce the following diagram:\n",
    "\n",
    ".......1..\n",
    "..1....1..\n",
    "..1....1..\n",
    ".......1..\n",
    ".112111211\n",
    "..........\n",
    "..........\n",
    "..........\n",
    "..........\n",
    "222111....\n",
    "In this diagram, the top left corner is 0,0 and the bottom right corner is 9,9. Each position is shown as the number of lines which cover that point or . if no line covers that point. The top-left pair of 1s, for example, comes from 2,2 -> 2,1; the very bottom row is formed by the overlapping lines 0,9 -> 5,9 and 0,9 -> 2,9.\n",
    "\n",
    "To avoid the most dangerous areas, you need to determine the number of points where at least two lines overlap. In the above example, this is anywhere in the diagram with a 2 or larger - a total of 5 points.\n",
    "\n",
    "Consider only horizontal and vertical lines. At how many points do at least two lines overlap?\n",
    "\n",
    "Your puzzle answer was 7644.\n",
    "\n",
    "## --- Part Two ---\n",
    "Unfortunately, considering only horizontal and vertical lines doesn't give you the full picture; you need to also consider diagonal lines.\n",
    "\n",
    "Because of the limits of the hydrothermal vent mapping system, the lines in your list will only ever be horizontal, vertical, or a diagonal line at exactly 45 degrees. In other words:\n",
    "\n",
    "An entry like 1,1 -> 3,3 covers points 1,1, 2,2, and 3,3.\n",
    "An entry like 9,7 -> 7,9 covers points 9,7, 8,8, and 7,9.\n",
    "Considering all lines from the above example would now produce the following diagram:\n",
    "\n",
    "1.1....11.\n",
    ".111...2..\n",
    "..2.1.111.\n",
    "...1.2.2..\n",
    ".112313211\n",
    "...1.2....\n",
    "..1...1...\n",
    ".1.....1..\n",
    "1.......1.\n",
    "222111....\n",
    "You still need to determine the number of points where at least two lines overlap. In the above example, this is still anywhere in the diagram with a 2 or larger - now a total of 12 points.\n",
    "\n",
    "Consider all of the lines. At how many points do at least two lines overlap?\n",
    "\n",
    "Your puzzle answer was 18627.\n",
    "\n",
    "Both parts of this puzzle are complete! They provide two gold stars: **"
   ]
  },
  {
   "cell_type": "code",
   "execution_count": 1,
   "metadata": {},
   "outputs": [],
   "source": [
    "import numpy as np\n",
    "\n",
    "def read_file(filename):\n",
    "    # read file\n",
    "    with open(filename) as f:\n",
    "        lines = f.readlines()\n",
    "    output = [str.rstrip(line) for line in lines]    \n",
    "    return output\n",
    "\n",
    "class Point(object):\n",
    "    '''Creates a point on a coordinate plane with from a list [x,y].'''\n",
    "\n",
    "    def __init__(self, coord):\n",
    "        '''Defines x and y variables'''\n",
    "        self.x = int(coord[0])\n",
    "        self.y = int(coord[1])\n",
    "    \n",
    "    def display(self):\n",
    "        print(self.x, self.y)\n",
    "        \n",
    "def is_horizontal_or_vertical(line):\n",
    "    return (line.start.x == line.stop.x) | (line.start.y == line.stop.y)"
   ]
  },
  {
   "cell_type": "code",
   "execution_count": 36,
   "metadata": {},
   "outputs": [],
   "source": [
    "def sorted_coords(start, stop):\n",
    "    if start > stop:\n",
    "        stop = stop - 1\n",
    "        increment = -1\n",
    "    else:\n",
    "        stop = stop + 1\n",
    "        increment = 1\n",
    "    return np.arange(start, stop, increment)\n",
    "\n",
    "def range_x(line):\n",
    "    return sorted_coords(line.start.x,line.stop.x)\n",
    "\n",
    "def range_y(line):\n",
    "    return sorted_coords(line.start.y,line.stop.y)\n",
    "\n",
    "def array_to_points(val):\n",
    "    val = list(val)\n",
    "    return [Point(coord) for coord in val]\n",
    "\n",
    "class Line(object):\n",
    "    \n",
    "    def __init__(self, point):\n",
    "        self.start = point[0]\n",
    "        self.stop = point[1]\n",
    "    \n",
    "    def display(self):\n",
    "        print('start x,y:', self.start.x, self.start.y)\n",
    "        print('stop x,y:', self.stop.x, self.stop.y)\n",
    "        \n",
    "    def max_x(self):\n",
    "        return max(self.start.x, self.stop.x)\n",
    "    \n",
    "    def max_y(self):\n",
    "        return max(self.start.y, self.stop.y)\n",
    "    \n",
    "    def all_points(self):\n",
    "        if (self.stop.x - self.start.x) == 0:\n",
    "            y = range_y(self)\n",
    "            x = np.zeros_like(y) + self.stop.x\n",
    "        else:\n",
    "            m = (self.stop.y - self.start.y) / (self.stop.x - self.start.x)\n",
    "            b = self.stop.y - (m*self.stop.x)\n",
    "            x = range_x(self)\n",
    "            y = m*x + b\n",
    "        return array_to_points(np.stack([y,x]).T.astype('int'))\n"
   ]
  },
  {
   "cell_type": "code",
   "execution_count": 37,
   "metadata": {},
   "outputs": [],
   "source": [
    "data = read_file('./day5.txt')\n",
    "data = [val.split(' -> ') for val in data]\n",
    "coordinates = [[Point(val[0].split(',')),Point(val[1].split(','))]  for val in data]\n",
    "lines = [Line(val) for val in coordinates]"
   ]
  },
  {
   "cell_type": "code",
   "execution_count": 38,
   "metadata": {},
   "outputs": [],
   "source": [
    "part1_lines = [val for val in lines if is_horizontal_or_vertical(val)]"
   ]
  },
  {
   "cell_type": "code",
   "execution_count": 39,
   "metadata": {},
   "outputs": [],
   "source": [
    "x_max = max([val.max_x() for val in lines])\n",
    "y_max = max([val.max_y() for val in lines])"
   ]
  },
  {
   "cell_type": "code",
   "execution_count": 42,
   "metadata": {},
   "outputs": [
    {
     "name": "stdout",
     "output_type": "stream",
     "text": [
      "18627\n"
     ]
    }
   ],
   "source": [
    "part1 = False\n",
    "if part1:\n",
    "    all_lines = part1_lines\n",
    "else:\n",
    "    all_lines = lines\n",
    "    \n",
    "mask = np.zeros([x_max+1,y_max+1])\n",
    "\n",
    "for line in all_lines:\n",
    "    out = line.all_points()\n",
    "    for val in out:\n",
    "        mask[val.x, val.y] = mask[val.x, val.y] + 1\n",
    "        \n",
    "print(np.sum((mask>1) + 0))"
   ]
  },
  {
   "cell_type": "code",
   "execution_count": null,
   "metadata": {},
   "outputs": [],
   "source": []
  }
 ],
 "metadata": {
  "kernelspec": {
   "display_name": "Python 3",
   "language": "python",
   "name": "python3"
  },
  "language_info": {
   "codemirror_mode": {
    "name": "ipython",
    "version": 3
   },
   "file_extension": ".py",
   "mimetype": "text/x-python",
   "name": "python",
   "nbconvert_exporter": "python",
   "pygments_lexer": "ipython3",
   "version": "3.6.9"
  }
 },
 "nbformat": 4,
 "nbformat_minor": 4
}
