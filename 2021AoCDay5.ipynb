{
 "cells": [
  {
   "cell_type": "code",
   "execution_count": 1,
   "metadata": {},
   "outputs": [
    {
     "data": {
      "text/html": [
       "\n",
       "        <iframe\n",
       "            width=\"1000\"\n",
       "            height=\"600\"\n",
       "            src=\"https://adventofcode.com/2021/day/5\"\n",
       "            frameborder=\"0\"\n",
       "            allowfullscreen\n",
       "        ></iframe>\n",
       "        "
      ],
      "text/plain": [
       "<IPython.lib.display.IFrame at 0x7f7bec845208>"
      ]
     },
     "execution_count": 1,
     "metadata": {},
     "output_type": "execute_result"
    }
   ],
   "source": [
    "from IPython.display import IFrame\n",
    "url = \"https://adventofcode.com/2021/day/5\"\n",
    "IFrame(src=url, width=1000, height=600)"
   ]
  },
  {
   "cell_type": "code",
   "execution_count": 1,
   "metadata": {},
   "outputs": [],
   "source": [
    "import numpy as np\n",
    "\n",
    "def read_file(filename):\n",
    "    # read file\n",
    "    with open(filename) as f:\n",
    "        lines = f.readlines()\n",
    "    output = [str.rstrip(line) for line in lines]    \n",
    "    return output\n",
    "\n",
    "class Point(object):\n",
    "    '''Creates a point on a coordinate plane with from a list [x,y].'''\n",
    "\n",
    "    def __init__(self, coord):\n",
    "        '''Defines x and y variables'''\n",
    "        self.x = int(coord[0])\n",
    "        self.y = int(coord[1])\n",
    "    \n",
    "    def display(self):\n",
    "        print(self.x, self.y)\n",
    "        \n",
    "def is_horizontal_or_vertical(line):\n",
    "    return (line.start.x == line.stop.x) | (line.start.y == line.stop.y)"
   ]
  },
  {
   "cell_type": "code",
   "execution_count": 36,
   "metadata": {},
   "outputs": [],
   "source": [
    "def sorted_coords(start, stop):\n",
    "    if start > stop:\n",
    "        stop = stop - 1\n",
    "        increment = -1\n",
    "    else:\n",
    "        stop = stop + 1\n",
    "        increment = 1\n",
    "    return np.arange(start, stop, increment)\n",
    "\n",
    "def range_x(line):\n",
    "    return sorted_coords(line.start.x,line.stop.x)\n",
    "\n",
    "def range_y(line):\n",
    "    return sorted_coords(line.start.y,line.stop.y)\n",
    "\n",
    "def array_to_points(val):\n",
    "    val = list(val)\n",
    "    return [Point(coord) for coord in val]\n",
    "\n",
    "class Line(object):\n",
    "    \n",
    "    def __init__(self, point):\n",
    "        self.start = point[0]\n",
    "        self.stop = point[1]\n",
    "    \n",
    "    def display(self):\n",
    "        print('start x,y:', self.start.x, self.start.y)\n",
    "        print('stop x,y:', self.stop.x, self.stop.y)\n",
    "        \n",
    "    def max_x(self):\n",
    "        return max(self.start.x, self.stop.x)\n",
    "    \n",
    "    def max_y(self):\n",
    "        return max(self.start.y, self.stop.y)\n",
    "    \n",
    "    def all_points(self):\n",
    "        if (self.stop.x - self.start.x) == 0:\n",
    "            y = range_y(self)\n",
    "            x = np.zeros_like(y) + self.stop.x\n",
    "        else:\n",
    "            m = (self.stop.y - self.start.y) / (self.stop.x - self.start.x)\n",
    "            b = self.stop.y - (m*self.stop.x)\n",
    "            x = range_x(self)\n",
    "            y = m*x + b\n",
    "        return array_to_points(np.stack([y,x]).T.astype('int'))\n"
   ]
  },
  {
   "cell_type": "code",
   "execution_count": 37,
   "metadata": {},
   "outputs": [],
   "source": [
    "data = read_file('./day5.txt')\n",
    "data = [val.split(' -> ') for val in data]\n",
    "coordinates = [[Point(val[0].split(',')),Point(val[1].split(','))]  for val in data]\n",
    "lines = [Line(val) for val in coordinates]"
   ]
  },
  {
   "cell_type": "code",
   "execution_count": 38,
   "metadata": {},
   "outputs": [],
   "source": [
    "part1_lines = [val for val in lines if is_horizontal_or_vertical(val)]"
   ]
  },
  {
   "cell_type": "code",
   "execution_count": 39,
   "metadata": {},
   "outputs": [],
   "source": [
    "x_max = max([val.max_x() for val in lines])\n",
    "y_max = max([val.max_y() for val in lines])"
   ]
  },
  {
   "cell_type": "code",
   "execution_count": 42,
   "metadata": {},
   "outputs": [
    {
     "name": "stdout",
     "output_type": "stream",
     "text": [
      "18627\n"
     ]
    }
   ],
   "source": [
    "part1 = False\n",
    "if part1:\n",
    "    all_lines = part1_lines\n",
    "else:\n",
    "    all_lines = lines\n",
    "    \n",
    "mask = np.zeros([x_max+1,y_max+1])\n",
    "\n",
    "for line in all_lines:\n",
    "    out = line.all_points()\n",
    "    for val in out:\n",
    "        mask[val.x, val.y] = mask[val.x, val.y] + 1\n",
    "        \n",
    "print(np.sum((mask>1) + 0))"
   ]
  },
  {
   "cell_type": "code",
   "execution_count": null,
   "metadata": {},
   "outputs": [],
   "source": []
  }
 ],
 "metadata": {
  "kernelspec": {
   "display_name": "Python 3",
   "language": "python",
   "name": "python3"
  },
  "language_info": {
   "codemirror_mode": {
    "name": "ipython",
    "version": 3
   },
   "file_extension": ".py",
   "mimetype": "text/x-python",
   "name": "python",
   "nbconvert_exporter": "python",
   "pygments_lexer": "ipython3",
   "version": "3.6.9"
  }
 },
 "nbformat": 4,
 "nbformat_minor": 4
}
