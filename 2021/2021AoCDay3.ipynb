{
 "cells": [
  {
   "cell_type": "code",
   "execution_count": 1,
   "metadata": {},
   "outputs": [
    {
     "data": {
      "text/html": [
       "\n",
       "        <iframe\n",
       "            width=\"1000\"\n",
       "            height=\"600\"\n",
       "            src=\"https://adventofcode.com/2021/day/3\"\n",
       "            frameborder=\"0\"\n",
       "            allowfullscreen\n",
       "        ></iframe>\n",
       "        "
      ],
      "text/plain": [
       "<IPython.lib.display.IFrame at 0x7f3d285da410>"
      ]
     },
     "execution_count": 1,
     "metadata": {},
     "output_type": "execute_result"
    }
   ],
   "source": [
    "from IPython.display import IFrame\n",
    "url = \"https://adventofcode.com/2021/day/3\"\n",
    "IFrame(src=url, width=1000, height=600)"
   ]
  },
  {
   "cell_type": "code",
   "execution_count": 10,
   "metadata": {},
   "outputs": [],
   "source": [
    "import pandas as pd\n",
    "import numpy as np"
   ]
  },
  {
   "cell_type": "code",
   "execution_count": 141,
   "metadata": {},
   "outputs": [],
   "source": [
    "def read_file(filename):\n",
    "    # read file\n",
    "    with open(filename) as f:\n",
    "        lines = f.readlines()\n",
    "    output = [str.rstrip(line) for line in lines]    \n",
    "    return output\n",
    "\n",
    "def array2bin(binary_array):\n",
    "    return binary_array.dot(2**np.arange(binary_array.size)[::-1])"
   ]
  },
  {
   "cell_type": "code",
   "execution_count": 101,
   "metadata": {},
   "outputs": [],
   "source": [
    "data = read_file('./day3.txt')\n",
    "\n"
   ]
  },
  {
   "cell_type": "markdown",
   "metadata": {},
   "source": [
    "## Part 1"
   ]
  },
  {
   "cell_type": "code",
   "execution_count": 144,
   "metadata": {},
   "outputs": [
    {
     "name": "stdout",
     "output_type": "stream",
     "text": [
      "2967914\n"
     ]
    }
   ],
   "source": [
    "df = pd.DataFrame([ pd.to_numeric([*val]) for val in data])\n",
    "ratio = df.sum() / df.shape[0]\n",
    "epsilon = array2bin((ratio > 0.5).values  + 0)\n",
    "gamma = array2bin((ratio < 0.5).values  + 0)\n",
    "\n",
    "print(epsilon * gamma)"
   ]
  },
  {
   "cell_type": "markdown",
   "metadata": {},
   "source": [
    "## Part 2"
   ]
  },
  {
   "cell_type": "code",
   "execution_count": 161,
   "metadata": {},
   "outputs": [],
   "source": [
    "df = pd.DataFrame([ pd.to_numeric([*val]) for val in data])\n",
    "keep_going = True\n",
    "ii = 0\n",
    "while (keep_going & (ii<df.shape[1])):\n",
    "    ratio = df.sum() / df.shape[0]\n",
    "    if ratio.iloc[ii] == .5:\n",
    "        keep = 1\n",
    "    else:\n",
    "        keep = ratio.iloc[ii] > .5\n",
    "        keep = keep + 0\n",
    "        \n",
    "    df = df[df.iloc[:,ii] == keep]\n",
    "    if df.shape[0] == 1:\n",
    "        keep_going = False\n",
    "    ii = ii + 1\n",
    "    "
   ]
  },
  {
   "cell_type": "code",
   "execution_count": 162,
   "metadata": {},
   "outputs": [],
   "source": [
    "if not keep_going:\n",
    "    oxygen_generator_rating = array2bin(df.values[0])\n",
    "else:\n",
    "    print('ogr needs more processing')\n"
   ]
  },
  {
   "cell_type": "code",
   "execution_count": 163,
   "metadata": {},
   "outputs": [],
   "source": [
    "df = pd.DataFrame([ pd.to_numeric([*val]) for val in data])\n",
    "keep_going = True\n",
    "ii = 0\n",
    "while (keep_going & (ii<df.shape[1])):\n",
    "    ratio = df.sum() / df.shape[0]\n",
    "    if ratio.iloc[ii] == .5:\n",
    "        keep = 0\n",
    "    else:\n",
    "        keep = ratio.iloc[ii] < .5\n",
    "        keep = keep + 0\n",
    "        \n",
    "    df = df[df.iloc[:,ii] == keep]\n",
    "    if df.shape[0] == 1:\n",
    "        keep_going = False\n",
    "    ii = ii + 1\n",
    "    "
   ]
  },
  {
   "cell_type": "code",
   "execution_count": 164,
   "metadata": {},
   "outputs": [],
   "source": [
    "if not keep_going:\n",
    "    co2_scrubber_rating = array2bin(df.values[0])\n",
    "else:\n",
    "    print('csr needs more processing')\n",
    "\n"
   ]
  },
  {
   "cell_type": "code",
   "execution_count": 165,
   "metadata": {},
   "outputs": [
    {
     "name": "stdout",
     "output_type": "stream",
     "text": [
      "7041258\n"
     ]
    }
   ],
   "source": [
    "print(oxygen_generator_ration*co2_scrubber_rating)"
   ]
  },
  {
   "cell_type": "code",
   "execution_count": null,
   "metadata": {},
   "outputs": [],
   "source": []
  },
  {
   "cell_type": "code",
   "execution_count": null,
   "metadata": {},
   "outputs": [],
   "source": []
  }
 ],
 "metadata": {
  "kernelspec": {
   "display_name": "python (terminator)",
   "language": "python",
   "name": "terminator"
  },
  "language_info": {
   "codemirror_mode": {
    "name": "ipython",
    "version": 3
   },
   "file_extension": ".py",
   "mimetype": "text/x-python",
   "name": "python",
   "nbconvert_exporter": "python",
   "pygments_lexer": "ipython3",
   "version": "3.7.7"
  }
 },
 "nbformat": 4,
 "nbformat_minor": 4
}
