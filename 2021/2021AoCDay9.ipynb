{
 "cells": [
  {
   "cell_type": "code",
   "execution_count": 1,
   "metadata": {},
   "outputs": [
    {
     "data": {
      "text/html": [
       "\n",
       "        <iframe\n",
       "            width=\"1000\"\n",
       "            height=\"600\"\n",
       "            src=\"https://adventofcode.com/2021/day/9\"\n",
       "            frameborder=\"0\"\n",
       "            allowfullscreen\n",
       "        ></iframe>\n",
       "        "
      ],
      "text/plain": [
       "<IPython.lib.display.IFrame at 0x7f7f486ff080>"
      ]
     },
     "execution_count": 1,
     "metadata": {},
     "output_type": "execute_result"
    }
   ],
   "source": [
    "from IPython.display import IFrame\n",
    "url = \"https://adventofcode.com/2021/day/9\"\n",
    "IFrame(src=url, width=1000, height=600)"
   ]
  },
  {
   "cell_type": "code",
   "execution_count": 50,
   "metadata": {},
   "outputs": [],
   "source": [
    "import numpy as np\n",
    "from scipy import signal \n",
    "from collections import namedtuple\n",
    "\n",
    "def read_file(filename):\n",
    "    # read file\n",
    "    with open(filename) as f:\n",
    "        lines = f.readlines()\n",
    "    output = [str.rstrip(line) for line in lines]    \n",
    "    return output"
   ]
  },
  {
   "cell_type": "code",
   "execution_count": 190,
   "metadata": {},
   "outputs": [],
   "source": [
    "if False:\n",
    "    data = read_file('./day9_test.txt')\n",
    "else:\n",
    "    data = read_file('./day9.txt')\n",
    "\n",
    "big_array = []\n",
    "for row in data:\n",
    "    make_array = []\n",
    "    for val in row:\n",
    "        make_array.append(float(val))\n",
    "    big_array.append(np.array(make_array))\n",
    "\n",
    "data = np.array(big_array)"
   ]
  },
  {
   "cell_type": "code",
   "execution_count": 191,
   "metadata": {},
   "outputs": [],
   "source": [
    "def peaks(sig):\n",
    "    \"\"\"\n",
    "    detects peaks and valleys as defined by the first derivative changing signs\n",
    "    0  : no peak\n",
    "    2  : peak second derivative positve\n",
    "    -2 : peak second derivative negative\n",
    "    Parameters\n",
    "    ----------\n",
    "    signal : ndarray \n",
    "        input signal to be analyzed\n",
    "    Returns\n",
    "    -------\n",
    "    peak : ndarray\n",
    "        list of indicies corresponding to peaks/valleys found in the time-domain of the signal\n",
    "    \"\"\"\n",
    "\n",
    "    peak = signal.lfilter([-1, 1], [1], np.sign(np.diff(sig)))\n",
    "    peak[0] = 0\n",
    "    peak = np.append(peak, [0])\n",
    "    return peak\n"
   ]
  },
  {
   "cell_type": "code",
   "execution_count": 192,
   "metadata": {},
   "outputs": [],
   "source": [
    "border = np.zeros([data.shape[0]+2, data.shape[1]+2]) + 9\n",
    "border[1:-1,1:-1] = data\n",
    "\n",
    "rows = []\n",
    "for val in border:\n",
    "    rows.append(peaks(val))\n",
    "    \n",
    "cols = []\n",
    "for val in border.T:\n",
    "    cols.append(peaks(val))\n",
    "    \n",
    "out = np.array(rows) + np.array(cols).T    "
   ]
  },
  {
   "cell_type": "code",
   "execution_count": 193,
   "metadata": {},
   "outputs": [
    {
     "data": {
      "text/plain": [
       "480"
      ]
     },
     "execution_count": 193,
     "metadata": {},
     "output_type": "execute_result"
    }
   ],
   "source": [
    "int(sum(border[out == -4]+1))"
   ]
  },
  {
   "cell_type": "code",
   "execution_count": 194,
   "metadata": {},
   "outputs": [],
   "source": [
    "index = np.where(out == -4)"
   ]
  },
  {
   "cell_type": "code",
   "execution_count": 195,
   "metadata": {},
   "outputs": [],
   "source": [
    "Point = namedtuple('Point', ['x', 'y'])"
   ]
  },
  {
   "cell_type": "code",
   "execution_count": 196,
   "metadata": {},
   "outputs": [],
   "source": [
    "basins = []\n",
    "for val in zip(index[0], index[1]):\n",
    "    basins.append(Point(val[0],val[1]))"
   ]
  },
  {
   "cell_type": "code",
   "execution_count": 197,
   "metadata": {},
   "outputs": [],
   "source": [
    "\n",
    "def intersection(a,b):\n",
    "    return list(set(a).intersection(b))\n",
    "\n",
    "def not_intersection(a,b):\n",
    "    return list(set(a).symmetric_difference(b))\n",
    "\n",
    "def find_candidates(p,d):\n",
    "    mask = [Point(p.x-1,p.y),Point(p.x+1,p.y),Point(p.x,p.y-1),Point(p.x,p.y+1)]\n",
    "    return [q for q in mask if d[q.x,q.y] != 9]\n",
    "\n",
    "def basin(p,d):\n",
    "    \n",
    "    found.append(p)\n",
    "    new = find_candidates(p,d)\n",
    "    new = not_intersection(new,intersection(new, found))\n",
    "\n",
    "    candidates.extend(new)\n",
    "    if not candidates:\n",
    "        return 1\n",
    "    else:\n",
    "        winner = candidates.pop(0)\n",
    "        return(1 + basin(winner,d))"
   ]
  },
  {
   "cell_type": "code",
   "execution_count": 198,
   "metadata": {},
   "outputs": [
    {
     "data": {
      "text/plain": [
       "Point(x=1, y=74)"
      ]
     },
     "execution_count": 198,
     "metadata": {},
     "output_type": "execute_result"
    }
   ],
   "source": [
    "basins[2]"
   ]
  },
  {
   "cell_type": "code",
   "execution_count": 199,
   "metadata": {},
   "outputs": [
    {
     "data": {
      "text/plain": [
       "array([[9., 9., 9., ..., 9., 9., 9.],\n",
       "       [9., 7., 6., ..., 6., 5., 9.],\n",
       "       [9., 6., 5., ..., 9., 3., 9.],\n",
       "       ...,\n",
       "       [9., 6., 7., ..., 8., 7., 9.],\n",
       "       [9., 7., 9., ..., 9., 8., 9.],\n",
       "       [9., 9., 9., ..., 9., 9., 9.]])"
      ]
     },
     "execution_count": 199,
     "metadata": {},
     "output_type": "execute_result"
    }
   ],
   "source": [
    "border"
   ]
  },
  {
   "cell_type": "code",
   "execution_count": 200,
   "metadata": {},
   "outputs": [],
   "source": [
    "deep = []\n",
    "for val in basins:\n",
    "    found = []\n",
    "    candidates = []\n",
    "    basin(val,border)\n",
    "    deep.append(len(set(found)))"
   ]
  },
  {
   "cell_type": "code",
   "execution_count": 201,
   "metadata": {},
   "outputs": [],
   "source": [
    "out = 1\n",
    "for count in range(3):\n",
    "    max_val = max(deep)\n",
    "    out = out * max_val\n",
    "    idx = [ii for ii, val in enumerate(deep) if val == max_val]\n",
    "    deep.pop(idx[0])\n",
    "    "
   ]
  },
  {
   "cell_type": "code",
   "execution_count": 202,
   "metadata": {},
   "outputs": [
    {
     "data": {
      "text/plain": [
       "1045660"
      ]
     },
     "execution_count": 202,
     "metadata": {},
     "output_type": "execute_result"
    }
   ],
   "source": [
    "out"
   ]
  },
  {
   "cell_type": "code",
   "execution_count": null,
   "metadata": {},
   "outputs": [],
   "source": []
  }
 ],
 "metadata": {
  "kernelspec": {
   "display_name": "Python 3",
   "language": "python",
   "name": "python3"
  },
  "language_info": {
   "codemirror_mode": {
    "name": "ipython",
    "version": 3
   },
   "file_extension": ".py",
   "mimetype": "text/x-python",
   "name": "python",
   "nbconvert_exporter": "python",
   "pygments_lexer": "ipython3",
   "version": "3.6.9"
  }
 },
 "nbformat": 4,
 "nbformat_minor": 4
}
