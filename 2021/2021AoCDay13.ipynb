{
 "cells": [
  {
   "cell_type": "code",
   "execution_count": 1,
   "metadata": {},
   "outputs": [
    {
     "data": {
      "text/html": [
       "\n",
       "        <iframe\n",
       "            width=\"1000\"\n",
       "            height=\"600\"\n",
       "            src=\"https://adventofcode.com/2021/day/13\"\n",
       "            frameborder=\"0\"\n",
       "            allowfullscreen\n",
       "        ></iframe>\n",
       "        "
      ],
      "text/plain": [
       "<IPython.lib.display.IFrame at 0x7f98cc4fe080>"
      ]
     },
     "execution_count": 1,
     "metadata": {},
     "output_type": "execute_result"
    }
   ],
   "source": [
    "from IPython.display import IFrame\n",
    "url = \"https://adventofcode.com/2021/day/13\"\n",
    "IFrame(src=url, width=1000, height=600)"
   ]
  },
  {
   "cell_type": "code",
   "execution_count": 257,
   "metadata": {},
   "outputs": [],
   "source": [
    "import numpy as np\n",
    "\n",
    "def read_file(filename):\n",
    "    # read file\n",
    "    with open(filename) as f:\n",
    "        lines = f.readlines()\n",
    "    output = [str.rstrip(line) for line in lines]    \n",
    "    return output"
   ]
  },
  {
   "cell_type": "code",
   "execution_count": 258,
   "metadata": {},
   "outputs": [
    {
     "name": "stdout",
     "output_type": "stream",
     "text": [
      "689\n"
     ]
    }
   ],
   "source": [
    "data = read_file('./day13.txt')\n",
    "split_index = [ii for ii, val in enumerate(data) if val ==''][0]\n",
    "coordinates = data[0:split_index]\n",
    "instructions = data[split_index+1:]\n",
    "\n",
    "x = []\n",
    "y = []\n",
    "for val in coordinates:\n",
    "    r,c = val.split(',')\n",
    "    x.append(int(r))\n",
    "    y.append(int(c))\n",
    "\n",
    "\n",
    "\n",
    "grid = np.zeros([max(y)+1,max(x)+1])\n",
    "for point in zip(y,x):\n",
    "    grid[point[0],point[1]] = 1\n",
    "\n",
    "    \n",
    "\n",
    "instructions = [val.split()[2] for val in instructions]\n",
    "\n",
    "\n",
    "for ii,task in enumerate(instructions):\n",
    "    axis, value = task.split('=')\n",
    "    value = int(value)\n",
    "    if axis == 'y':\n",
    "        new = grid[0:value,:] + np.flipud(grid[value+1:,:])    \n",
    "    else:\n",
    "        new = grid[:,0:value] + np.fliplr(grid[:,value+1:])\n",
    "    grid = new\n",
    "    if ii==0: print(np.sum((grid > 0) + 0))"
   ]
  },
  {
   "cell_type": "code",
   "execution_count": 259,
   "metadata": {},
   "outputs": [],
   "source": [
    "new = (grid>0) + 0\n",
    "new = new.astype('str')\n",
    "new[new=='0'] = '.'\n",
    "new[new=='1'] = '#'"
   ]
  },
  {
   "cell_type": "code",
   "execution_count": 274,
   "metadata": {},
   "outputs": [
    {
     "name": "stdout",
     "output_type": "stream",
     "text": [
      "###..#....###...##....##..##..#....#..#.\n",
      "#..#.#....#..#.#..#....#.#..#.#....#..#.\n",
      "#..#.#....###..#.......#.#....#....#..#.\n",
      "###..#....#..#.#.......#.#.##.#....#..#.\n",
      "#.#..#....#..#.#..#.#..#.#..#.#....#..#.\n",
      "#..#.####.###...##...##...###.####..##..\n"
     ]
    }
   ],
   "source": [
    "for val in new:\n",
    "    print(''.join(list(val)))"
   ]
  }
 ],
 "metadata": {
  "kernelspec": {
   "display_name": "Python 3",
   "language": "python",
   "name": "python3"
  },
  "language_info": {
   "codemirror_mode": {
    "name": "ipython",
    "version": 3
   },
   "file_extension": ".py",
   "mimetype": "text/x-python",
   "name": "python",
   "nbconvert_exporter": "python",
   "pygments_lexer": "ipython3",
   "version": "3.6.9"
  }
 },
 "nbformat": 4,
 "nbformat_minor": 4
}
