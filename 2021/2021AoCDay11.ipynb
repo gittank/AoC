{
 "cells": [
  {
   "cell_type": "code",
   "execution_count": 1,
   "metadata": {},
   "outputs": [
    {
     "data": {
      "text/html": [
       "\n",
       "        <iframe\n",
       "            width=\"1000\"\n",
       "            height=\"600\"\n",
       "            src=\"https://adventofcode.com/2021/day/11\"\n",
       "            frameborder=\"0\"\n",
       "            allowfullscreen\n",
       "        ></iframe>\n",
       "        "
      ],
      "text/plain": [
       "<IPython.lib.display.IFrame at 0x7f0168bf41d0>"
      ]
     },
     "execution_count": 1,
     "metadata": {},
     "output_type": "execute_result"
    }
   ],
   "source": [
    "from IPython.display import IFrame\n",
    "url = \"https://adventofcode.com/2021/day/11\"\n",
    "IFrame(src=url, width=1000, height=600)"
   ]
  },
  {
   "cell_type": "code",
   "execution_count": 170,
   "metadata": {},
   "outputs": [],
   "source": [
    "import numpy as np\n",
    "def read_file(filename):\n",
    "    # read file\n",
    "    with open(filename) as f:\n",
    "        lines = f.readlines()\n",
    "    output = [list(str.rstrip(line)) for line in lines]    \n",
    "    return output\n"
   ]
  },
  {
   "cell_type": "code",
   "execution_count": 192,
   "metadata": {},
   "outputs": [],
   "source": [
    "def border_array(data, border=0):\n",
    "    row, col = data.shape\n",
    "    out = np.zeros([row+2,col+2]) + border\n",
    "    out[1:-1,1:-1] = data\n",
    "    return out\n",
    "\n",
    "def flash(d):\n",
    "    # find all flashed (10)\n",
    "    index = np.where(d==10)\n",
    "    \n",
    "    # if no new flashes stop\n",
    "    if len(index[0]) == 0:\n",
    "        return d\n",
    "    else:\n",
    "        \n",
    "        # find all cliques, increment\n",
    "        for row,col in zip(index[0], index[1]):\n",
    "            make_zero.append((row, col))\n",
    "            d[row-1:row+2,col-1:col+2] = d[row-1:row+2,col-1:col+2] + 1\n",
    "        \n",
    "        # ciel all new flashes, make border, zero out alreday flashed\n",
    "        d[d>9] = 10\n",
    "        d = border_array(d[1:-1,1:-1], 0)\n",
    "        for row,col in make_zero:\n",
    "            d[row, col] = 0\n",
    "        \n",
    "        # recurse!\n",
    "        d = flash(d)\n",
    "    return d\n",
    "    \n",
    "\n"
   ]
  },
  {
   "cell_type": "code",
   "execution_count": 224,
   "metadata": {},
   "outputs": [],
   "source": [
    "data = read_file('./day11_test.txt')\n",
    "data = np.array(data, dtype=int)\n"
   ]
  },
  {
   "cell_type": "code",
   "execution_count": 225,
   "metadata": {},
   "outputs": [
    {
     "name": "stdout",
     "output_type": "stream",
     "text": [
      "1656\n"
     ]
    }
   ],
   "source": [
    "border = border_array(data, 0)\n",
    "number_of_flashes = 0\n",
    "for ii in range(100):\n",
    "    border = border + 1\n",
    "    border = border_array(border[1:-1,1:-1], 0)\n",
    "    make_zero = []\n",
    "    border = flash(border)\n",
    "    number_of_flashes = number_of_flashes + np.sum((border[1:-1,1:-1] == 0) + 0)\n",
    "print(number_of_flashes)\n"
   ]
  },
  {
   "cell_type": "code",
   "execution_count": 226,
   "metadata": {},
   "outputs": [
    {
     "name": "stdout",
     "output_type": "stream",
     "text": [
      "195\n"
     ]
    }
   ],
   "source": [
    "border = border_array(data, 0)\n",
    "keep_going = True\n",
    "count = 0\n",
    "while keep_going:\n",
    "    count = count + 1\n",
    "    border = border + 1\n",
    "    border = border_array(border[1:-1,1:-1], 0)\n",
    "    make_zero = []\n",
    "    border = flash(border)\n",
    "    if np.sum(border[1:-1,1:-1]) == 0:\n",
    "        keep_going = False\n",
    "        \n",
    "print(count)\n"
   ]
  },
  {
   "cell_type": "code",
   "execution_count": null,
   "metadata": {},
   "outputs": [],
   "source": []
  }
 ],
 "metadata": {
  "kernelspec": {
   "display_name": "Python 3",
   "language": "python",
   "name": "python3"
  },
  "language_info": {
   "codemirror_mode": {
    "name": "ipython",
    "version": 3
   },
   "file_extension": ".py",
   "mimetype": "text/x-python",
   "name": "python",
   "nbconvert_exporter": "python",
   "pygments_lexer": "ipython3",
   "version": "3.6.9"
  }
 },
 "nbformat": 4,
 "nbformat_minor": 4
}
