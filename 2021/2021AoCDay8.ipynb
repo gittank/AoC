{
 "cells": [
  {
   "cell_type": "code",
   "execution_count": 1,
   "metadata": {},
   "outputs": [
    {
     "data": {
      "text/html": [
       "\n",
       "        <iframe\n",
       "            width=\"1000\"\n",
       "            height=\"600\"\n",
       "            src=\"https://adventofcode.com/2021/day/8\"\n",
       "            frameborder=\"0\"\n",
       "            allowfullscreen\n",
       "        ></iframe>\n",
       "        "
      ],
      "text/plain": [
       "<IPython.lib.display.IFrame at 0x7f0fd44fd1d0>"
      ]
     },
     "execution_count": 1,
     "metadata": {},
     "output_type": "execute_result"
    }
   ],
   "source": [
    "from IPython.display import IFrame\n",
    "url = \"https://adventofcode.com/2021/day/8\"\n",
    "IFrame(src=url, width=1000, height=600)"
   ]
  },
  {
   "cell_type": "code",
   "execution_count": 1,
   "metadata": {},
   "outputs": [],
   "source": [
    "def read_file(filename):\n",
    "    # read file\n",
    "    with open(filename) as f:\n",
    "        lines = f.readlines()\n",
    "    output = [str.rstrip(line) for line in lines]    \n",
    "    return output\n",
    "\n",
    "from collections import Counter"
   ]
  },
  {
   "cell_type": "code",
   "execution_count": 33,
   "metadata": {},
   "outputs": [],
   "source": [
    "if False:\n",
    "    data_test = read_file('./day8_test.txt')\n",
    "    front = []\n",
    "    end = []\n",
    "    data = []\n",
    "    for index, val in enumerate(data_test):\n",
    "        \n",
    "        if index % 2 == 0:\n",
    "            front.append(val)\n",
    "        else:\n",
    "            end.append(val)\n",
    "    for val in zip(front, end):\n",
    "        data.append(val[0] + ' ' + val[1])\n",
    "else:\n",
    "    data = read_file('./day8.txt')\n",
    "\n"
   ]
  },
  {
   "cell_type": "code",
   "execution_count": 34,
   "metadata": {},
   "outputs": [
    {
     "data": {
      "text/plain": [
       "330"
      ]
     },
     "execution_count": 34,
     "metadata": {},
     "output_type": "execute_result"
    }
   ],
   "source": [
    "len_code = []\n",
    "for val in data:\n",
    "    len_code.extend([len(code) for code in val.split('|')[1].strip().split()])\n",
    "\n",
    "len2 = [(val==2) + 0 for val in len_code]\n",
    "len3 = [(val==3) + 0 for val in len_code]\n",
    "len4 = [(val==4) + 0 for val in len_code]\n",
    "len7 = [(val==7) + 0 for val in len_code]\n",
    "\n",
    "sum(len2 + len3 + len4 + len7)"
   ]
  },
  {
   "cell_type": "code",
   "execution_count": 35,
   "metadata": {},
   "outputs": [],
   "source": [
    "def inv_translate(c, letter):\n",
    "    all_keys = [key for key, value in c.items() if value == letter]\n",
    "    return all_keys\n",
    "\n",
    "def str_intersection(a,b):\n",
    "    return list(set(a).intersection(b))\n",
    "\n",
    "def str_not_intersection(a,b):\n",
    "    return list(set(a).symmetric_difference(b))\n",
    "\n",
    "\n",
    "def digit_len(length, digits):\n",
    "    for val in digits:\n",
    "        if len(val) == length:\n",
    "            return val\n",
    "\n",
    "def flatten_list_of_list(regular_list):\n",
    "    return [item for sublist in regular_list for item in sublist]\n",
    "\n",
    "\n",
    "def translate_code(digits, letters):\n",
    "    c = Counter(flatten_list_of_list(letters))\n",
    "    for val in 'abcdefg':\n",
    "        if c[val] == 9:\n",
    "            c[val] = 'f'\n",
    "        if c[val] == 4:\n",
    "            c[val] = 'e'\n",
    "        if c[val] == 6:\n",
    "            c[val] = 'b'\n",
    "            \n",
    "    c[str_not_intersection(digit_len(2,digits), inv_translate(c,'f'))[0]] = 'c'\n",
    "    c[inv_translate(c,8)[0]] = 'a'\n",
    "    c[str_intersection(inv_translate(c,7),digit_len(4,digits))[0]] = 'd'\n",
    "    c[inv_translate(c,7)[0]] = 'g'\n",
    "    return c\n",
    "\n",
    "def decode(code):\n",
    "        decoder_ring ={'abcefg':'0','cf':'1','acdeg':'2','acdfg':'3','bcdf':'4',\n",
    "                       'abdfg':'5','abdefg':'6','acf':'7','abcdefg':'8','abcdfg':'9'}\n",
    "        return decoder_ring[''.join(sorted([translate[val] for val in code]))]\n",
    " "
   ]
  },
  {
   "cell_type": "code",
   "execution_count": 36,
   "metadata": {},
   "outputs": [
    {
     "name": "stdout",
     "output_type": "stream",
     "text": [
      "1010472\n"
     ]
    }
   ],
   "source": [
    "out = []\n",
    "for val in data:\n",
    "    digit4  = ([''.join(sorted(code)) for code in val.split('|')[1].strip().split()])\n",
    "    digits  = ([''.join(sorted(code)) for code in val.split('|')[0].strip().split()])\n",
    "    letters = ([sorted(code) for code in val.split('|')[0].strip().split()])\n",
    "    translate = translate_code(digits, letters)\n",
    "    out.append(int(''.join([decode(val) for val in digit4])))\n",
    "print(sum(out))"
   ]
  },
  {
   "cell_type": "code",
   "execution_count": null,
   "metadata": {},
   "outputs": [],
   "source": []
  }
 ],
 "metadata": {
  "kernelspec": {
   "display_name": "Python 3",
   "language": "python",
   "name": "python3"
  },
  "language_info": {
   "codemirror_mode": {
    "name": "ipython",
    "version": 3
   },
   "file_extension": ".py",
   "mimetype": "text/x-python",
   "name": "python",
   "nbconvert_exporter": "python",
   "pygments_lexer": "ipython3",
   "version": "3.6.9"
  }
 },
 "nbformat": 4,
 "nbformat_minor": 4
}
