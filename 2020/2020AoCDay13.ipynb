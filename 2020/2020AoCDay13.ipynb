{
 "cells": [
  {
   "cell_type": "code",
   "execution_count": 1,
   "metadata": {},
   "outputs": [
    {
     "data": {
      "text/html": [
       "\n",
       "        <iframe\n",
       "            width=\"1000\"\n",
       "            height=\"600\"\n",
       "            src=\"https://adventofcode.com/2020/day/13\"\n",
       "            frameborder=\"0\"\n",
       "            allowfullscreen\n",
       "            \n",
       "        ></iframe>\n",
       "        "
      ],
      "text/plain": [
       "<IPython.lib.display.IFrame at 0x10b54a7c0>"
      ]
     },
     "execution_count": 1,
     "metadata": {},
     "output_type": "execute_result"
    }
   ],
   "source": [
    "day = 13\n",
    "from IPython.display import IFrame\n",
    "url = \"https://adventofcode.com/2020/day/%d\"%(day)\n",
    "IFrame(src=url, width=1000, height=600)"
   ]
  },
  {
   "cell_type": "code",
   "execution_count": 4,
   "metadata": {},
   "outputs": [],
   "source": [
    "import urllib.request\n",
    "import sys\n",
    "from collections import defaultdict\n",
    "\n",
    "def gather_input_data(url, sessionId, transform=lambda x: str(x, \"utf-8\").strip('\\n')):\n",
    "    request = urllib.request.Request(url)\n",
    "    request.add_header(\"cookie\", \"session={}\".format(sessionId)) # Source the data directly from AoC\n",
    "\n",
    "    values = []\n",
    "    with urllib.request.urlopen(request) as data:\n",
    "        for line in data:\n",
    "            values.append(transform(line))\n",
    "\n",
    "    return values\n",
    "\n",
    "def get_data(day, year=2020):\n",
    "    with open('../2022/sessionID') as f:\n",
    "        sessionId = f.readlines()[0]\n",
    "    url = \"https://adventofcode.com/%d/day/%d/input\"%(year,day)\n",
    "    data = gather_input_data(url, sessionId)\n",
    "    return data\n",
    "\n",
    "def get_factor(buses):\n",
    "    factor = 1\n",
    "    for bus in buses:\n",
    "        factor *= bus\n",
    "    return factor"
   ]
  },
  {
   "cell_type": "code",
   "execution_count": 5,
   "metadata": {},
   "outputs": [
    {
     "name": "stdout",
     "output_type": "stream",
     "text": [
      "2305\n"
     ]
    }
   ],
   "source": [
    "data = get_data(13)\n",
    "# data = ['939',\n",
    "# '7,13,x,x,59,x,31,19']\n",
    "\n",
    "depart = int(data[0])\n",
    "buses = [int(val) for val in data[1].split(',') if val != 'x']\n",
    "\n",
    "factor = get_factor(buses)\n",
    "\n",
    "def find_earliest(depart, bus):\n",
    "    depart = depart % factor\n",
    "    return (depart - (depart % bus) + bus)\n",
    "\n",
    "earliest = [find_earliest(depart, bus) for bus in buses]\n",
    "depart_time = min(earliest)\n",
    "idx = earliest.index(depart_time)\n",
    "bus = buses[idx]\n",
    "part1 = (depart_time - depart) * bus\n",
    "print(part1)"
   ]
  },
  {
   "cell_type": "code",
   "execution_count": 6,
   "metadata": {},
   "outputs": [],
   "source": [
    "offset = [data[1].split(',').index(str(bus)) for bus in buses]"
   ]
  },
  {
   "cell_type": "code",
   "execution_count": 11,
   "metadata": {},
   "outputs": [
    {
     "data": {
      "text/plain": [
       "9"
      ]
     },
     "execution_count": 11,
     "metadata": {},
     "output_type": "execute_result"
    }
   ],
   "source": [
    "len(offset)"
   ]
  },
  {
   "cell_type": "code",
   "execution_count": 16,
   "metadata": {},
   "outputs": [
    {
     "data": {
      "text/plain": [
       "[13, 37, 461, 17, 19, 29, 739, 41, 23]"
      ]
     },
     "execution_count": 16,
     "metadata": {},
     "output_type": "execute_result"
    }
   ],
   "source": [
    "buses"
   ]
  },
  {
   "cell_type": "code",
   "execution_count": 22,
   "metadata": {},
   "outputs": [
    {
     "data": {
      "text/plain": [
       "[-44, -37, -31, -17, -12, -2, 0, 10, 23]"
      ]
     },
     "execution_count": 22,
     "metadata": {},
     "output_type": "execute_result"
    }
   ],
   "source": [
    "offset = [data[1].split(',').index(str(bus)) for bus in buses]\n",
    "offset = [val - 44 for val in offset]\n",
    "offset"
   ]
  },
  {
   "cell_type": "code",
   "execution_count": 27,
   "metadata": {},
   "outputs": [
    {
     "ename": "KeyboardInterrupt",
     "evalue": "",
     "output_type": "error",
     "traceback": [
      "\u001b[0;31m---------------------------------------------------------------------------\u001b[0m",
      "\u001b[0;31mKeyboardInterrupt\u001b[0m                         Traceback (most recent call last)",
      "Input \u001b[0;32mIn [27]\u001b[0m, in \u001b[0;36m<cell line: 3>\u001b[0;34m()\u001b[0m\n\u001b[1;32m      1\u001b[0m num \u001b[38;5;241m=\u001b[39m \u001b[38;5;241m0\u001b[39m\n\u001b[1;32m      3\u001b[0m \u001b[38;5;28;01mwhile\u001b[39;00m \u001b[38;5;129;01mnot\u001b[39;00m \u001b[38;5;28mall\u001b[39m((\n\u001b[1;32m      4\u001b[0m (num \u001b[38;5;241m+\u001b[39m offset[\u001b[38;5;241m0\u001b[39m]) \u001b[38;5;241m%\u001b[39m buses[\u001b[38;5;241m0\u001b[39m] \u001b[38;5;241m==\u001b[39m \u001b[38;5;241m0\u001b[39m,\n\u001b[1;32m      5\u001b[0m \u001b[38;5;66;03m#(num + offset[1]) % buses[1] == 0,\u001b[39;00m\n\u001b[1;32m      6\u001b[0m (num \u001b[38;5;241m+\u001b[39m offset[\u001b[38;5;241m2\u001b[39m]) \u001b[38;5;241m%\u001b[39m buses[\u001b[38;5;241m2\u001b[39m] \u001b[38;5;241m==\u001b[39m \u001b[38;5;241m0\u001b[39m,\n\u001b[1;32m      7\u001b[0m \u001b[38;5;66;03m#(num + offset[3]) % buses[3] == 0,\u001b[39;00m\n\u001b[1;32m      8\u001b[0m (num \u001b[38;5;241m+\u001b[39m offset[\u001b[38;5;241m4\u001b[39m]) \u001b[38;5;241m%\u001b[39m buses[\u001b[38;5;241m4\u001b[39m] \u001b[38;5;241m==\u001b[39m \u001b[38;5;241m0\u001b[39m,\n\u001b[0;32m----> 9\u001b[0m (\u001b[43mnum\u001b[49m\u001b[43m \u001b[49m\u001b[38;5;241;43m+\u001b[39;49m\u001b[43m \u001b[49m\u001b[43moffset\u001b[49m\u001b[43m[\u001b[49m\u001b[38;5;241;43m5\u001b[39;49m\u001b[43m]\u001b[49m) \u001b[38;5;241m%\u001b[39m buses[\u001b[38;5;241m5\u001b[39m] \u001b[38;5;241m==\u001b[39m \u001b[38;5;241m0\u001b[39m,\n\u001b[1;32m     10\u001b[0m (num \u001b[38;5;241m+\u001b[39m offset[\u001b[38;5;241m6\u001b[39m]) \u001b[38;5;241m%\u001b[39m buses[\u001b[38;5;241m6\u001b[39m] \u001b[38;5;241m==\u001b[39m \u001b[38;5;241m0\u001b[39m,\n\u001b[1;32m     11\u001b[0m (num \u001b[38;5;241m+\u001b[39m offset[\u001b[38;5;241m7\u001b[39m]) \u001b[38;5;241m%\u001b[39m buses[\u001b[38;5;241m7\u001b[39m] \u001b[38;5;241m==\u001b[39m \u001b[38;5;241m0\u001b[39m,\n\u001b[1;32m     12\u001b[0m \u001b[38;5;66;03m#(num + offset[8]) % buses[8] == 0,\u001b[39;00m\n\u001b[1;32m     13\u001b[0m )):\n\u001b[1;32m     14\u001b[0m     num \u001b[38;5;241m+\u001b[39m\u001b[38;5;241m=\u001b[39m (\u001b[38;5;241m37\u001b[39m\u001b[38;5;241m*\u001b[39m\u001b[38;5;241m17\u001b[39m\u001b[38;5;241m*\u001b[39m\u001b[38;5;241m23\u001b[39m)\n",
      "\u001b[0;31mKeyboardInterrupt\u001b[0m: "
     ]
    }
   ],
   "source": [
    "num = 0\n",
    "\n",
    "while not all((\n",
    "(num + offset[0]) % buses[0] == 0,\n",
    "#(num + offset[1]) % buses[1] == 0,\n",
    "(num + offset[2]) % buses[2] == 0,\n",
    "#(num + offset[3]) % buses[3] == 0,\n",
    "(num + offset[4]) % buses[4] == 0,\n",
    "(num + offset[5]) % buses[5] == 0,\n",
    "(num + offset[6]) % buses[6] == 0,\n",
    "(num + offset[7]) % buses[7] == 0,\n",
    "#(num + offset[8]) % buses[8] == 0,\n",
    ")):\n",
    "    num += (37*17*23)"
   ]
  },
  {
   "cell_type": "code",
   "execution_count": 28,
   "metadata": {},
   "outputs": [
    {
     "data": {
      "text/plain": [
       "797059133528"
      ]
     },
     "execution_count": 28,
     "metadata": {},
     "output_type": "execute_result"
    }
   ],
   "source": [
    "num"
   ]
  },
  {
   "cell_type": "code",
   "execution_count": 29,
   "metadata": {},
   "outputs": [],
   "source": [
    "m = 19"
   ]
  },
  {
   "cell_type": "code",
   "execution_count": 30,
   "metadata": {},
   "outputs": [
    {
     "data": {
      "text/plain": [
       "19"
      ]
     },
     "execution_count": 30,
     "metadata": {},
     "output_type": "execute_result"
    }
   ],
   "source": [
    "m"
   ]
  },
  {
   "cell_type": "code",
   "execution_count": 33,
   "metadata": {},
   "outputs": [
    {
     "data": {
      "text/plain": [
       "572565594852444156646728515625"
      ]
     },
     "execution_count": 33,
     "metadata": {},
     "output_type": "execute_result"
    }
   ],
   "source": [
    "45**(m-1)"
   ]
  },
  {
   "cell_type": "code",
   "execution_count": null,
   "metadata": {},
   "outputs": [],
   "source": []
  }
 ],
 "metadata": {
  "kernelspec": {
   "display_name": "Python 3 (ipykernel)",
   "language": "python",
   "name": "python3"
  },
  "language_info": {
   "codemirror_mode": {
    "name": "ipython",
    "version": 3
   },
   "file_extension": ".py",
   "mimetype": "text/x-python",
   "name": "python",
   "nbconvert_exporter": "python",
   "pygments_lexer": "ipython3",
   "version": "3.8.13"
  }
 },
 "nbformat": 4,
 "nbformat_minor": 4
}
