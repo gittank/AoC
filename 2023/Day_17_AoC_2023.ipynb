{
 "cells": [
  {
   "cell_type": "code",
   "execution_count": 269,
   "id": "8243fe49-b2f8-40a9-b823-812c82b2f116",
   "metadata": {},
   "outputs": [],
   "source": [
    "import urllib.request\n",
    "\n",
    "def gather_input_data(url, sessionId, transform=lambda x: str(x, \"utf-8\").strip('\\n')):\n",
    "    request = urllib.request.Request(url)\n",
    "    request.add_header(\"cookie\", \"session={}\".format(sessionId)) # Source the data directly from AoC\n",
    "\n",
    "    values = []\n",
    "    with urllib.request.urlopen(request) as data:\n",
    "        for line in data:\n",
    "            values.append(transform(line))\n",
    "\n",
    "    return values\n",
    "\n",
    "def get_data(day, year=2023):\n",
    "    with open('sessionID') as f:\n",
    "        sessionId = f.readlines()[0].strip()\n",
    "    url = \"https://adventofcode.com/%d/day/%d/input\"%(year,day)\n",
    "    data = gather_input_data(url, sessionId)\n",
    "    return data\n",
    "    \n",
    "def display_grid(row=-1,grid=grid, ):\n",
    "    if row < 0:\n",
    "        for row in grid:\n",
    "            print(''.join(str(val) for val in row))\n",
    "    else:\n",
    "        print(''.join(str(val) for val in grid[row]))"
   ]
  },
  {
   "cell_type": "code",
   "execution_count": 360,
   "id": "4930f4e5-94f6-48f4-877b-bdab0b864837",
   "metadata": {},
   "outputs": [],
   "source": [
    "grid = []\n",
    "for line in get_data(17):\n",
    "    grid.append(list(map(int, list(line))))\n",
    "\n",
    "#    0\n",
    "# 1     2\n",
    "#    3\n",
    "\n",
    "dir_to_xy = [(-1,0), (0,-1), (0,1), (1,0)]\n",
    "ALL = -1\n",
    "UP = 0\n",
    "LEFT = 1\n",
    "RIGHT = 2\n",
    "DOWN = 3\n",
    "next ={UP    : [LEFT, RIGHT, UP],\n",
    "       DOWN  : [LEFT, RIGHT, DOWN],\n",
    "       RIGHT : [UP,DOWN, RIGHT],\n",
    "       LEFT  : [UP,DOWN, LEFT],\n",
    "       ALL   : [UP, DOWN, LEFT, RIGHT]}\n",
    "\n",
    "lo_edge = -1\n",
    "hi_edge = len(grid[0])\n",
    "\n",
    "def next_state(state):\n",
    "    new = []\n",
    "    dd, (xx,yy,d,cc) = state\n",
    "    for val in next[d]:\n",
    "        dx,dy = dir_to_xy[val]\n",
    "        x = xx + dx\n",
    "        y = yy + dy\n",
    "\n",
    "        if d == val:\n",
    "            c = cc + 1\n",
    "        else:\n",
    "            c = 0\n",
    "        if (lo_edge < x < hi_edge) and (lo_edge < y < hi_edge) and (c<3):\n",
    "            new.append( (dd+grid[x][y], (x,y,val,c)) )\n",
    "    return new\n",
    "\n",
    "def next_state_part2(state):\n",
    "    new = []\n",
    "    dist, (xx,yy,dd,cc) = state\n",
    "    \n",
    "    for d in next[dd]:\n",
    "        dx,dy = dir_to_xy[d]\n",
    "        x = xx + dx\n",
    "        y = yy + dy\n",
    "\n",
    "        if d == dd:\n",
    "            c = cc + 1\n",
    "        else:\n",
    "            c = 0\n",
    "\n",
    "        valid1 = True\n",
    "        if (d != dd) and (cc<3):\n",
    "            valid1 = False\n",
    "            \n",
    "        if cc == -1:\n",
    "            valid1 = True\n",
    "\n",
    "        #print(state, valid1, val, c, d, dd)\n",
    "        if (lo_edge < x < hi_edge) and (lo_edge < y < hi_edge) and valid1 and c<10:\n",
    "            new.append( (dist+grid[x][y], (x,y,d,c)) )\n",
    "    return new\n",
    "\n"
   ]
  },
  {
   "cell_type": "code",
   "execution_count": 372,
   "id": "906f76b9-6c43-4116-be3b-212bce5b378a",
   "metadata": {},
   "outputs": [
    {
     "name": "stdout",
     "output_type": "stream",
     "text": [
      "953\n"
     ]
    }
   ],
   "source": [
    "start =(0,0,-1,-1) # x,y,direction, count\n",
    "\n",
    "rows, cols = len(grid), len(grid[0])\n",
    "distances = {\n",
    "    (i, j): defaultdict(lambda: float(\"inf\"))\n",
    "    for j in range(len(grid[0]))\n",
    "    for i in range(len(grid))\n",
    "}\n",
    "\n",
    "priority_queue = [(0, start)]\n",
    "\n",
    "while priority_queue:\n",
    "    state = heapq.heappop(priority_queue)\n",
    "    \n",
    "    for new_distance, new_state in next_state(state):\n",
    "        x,y,d,c = new_state\n",
    "        if new_distance < distances[x,y][new_state]:\n",
    "            distances[x,y][new_state] = new_distance\n",
    "            heapq.heappush(priority_queue, (new_distance, new_state))\n",
    "\n",
    "out = []\n",
    "for (_,_,_,count),distance in distances[(140,140)].items():\n",
    "        out.append(distance)\n",
    "print(min(out))"
   ]
  },
  {
   "cell_type": "code",
   "execution_count": 371,
   "id": "55e41991-c0b2-48c0-9885-b7c06c50b464",
   "metadata": {},
   "outputs": [
    {
     "name": "stdout",
     "output_type": "stream",
     "text": [
      "1180\n"
     ]
    }
   ],
   "source": [
    "start =(0,0,-1,-1) # x,y,direction, count\n",
    "\n",
    "rows, cols = len(grid), len(grid[0])\n",
    "distances = {\n",
    "    (i, j): defaultdict(lambda: float(\"inf\"))\n",
    "    for j in range(len(grid[0]))\n",
    "    for i in range(len(grid))\n",
    "}\n",
    "\n",
    "priority_queue = [(0, start)]\n",
    "\n",
    "while priority_queue:\n",
    "    state = heapq.heappop(priority_queue)\n",
    "    \n",
    "    for new_distance, new_state in next_state_part2(state):\n",
    "        x,y,d,c = new_state\n",
    "        if new_distance < distances[x,y][new_state]:\n",
    "            distances[x,y][new_state] = new_distance\n",
    "            heapq.heappush(priority_queue, (new_distance, new_state))\n",
    "\n",
    "out = []\n",
    "for (_,_,_,count),distance in distances[(140,140)].items():\n",
    "    if count>3:\n",
    "        out.append(distance)\n",
    "print(min(out))"
   ]
  },
  {
   "cell_type": "code",
   "execution_count": 362,
   "id": "e951bfd4-e4c5-4cdc-b7ea-097cda4b34a0",
   "metadata": {},
   "outputs": [],
   "source": [
    "\n",
    "  \n",
    "    "
   ]
  }
 ],
 "metadata": {
  "kernelspec": {
   "display_name": "Python 3 (ipykernel)",
   "language": "python",
   "name": "python3"
  },
  "language_info": {
   "codemirror_mode": {
    "name": "ipython",
    "version": 3
   },
   "file_extension": ".py",
   "mimetype": "text/x-python",
   "name": "python",
   "nbconvert_exporter": "python",
   "pygments_lexer": "ipython3",
   "version": "3.12.0"
  }
 },
 "nbformat": 4,
 "nbformat_minor": 5
}
