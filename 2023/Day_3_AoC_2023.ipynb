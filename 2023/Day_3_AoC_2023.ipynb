{
 "cells": [
  {
   "cell_type": "code",
   "execution_count": 1,
   "id": "fc46b114-7d2f-46c1-93ec-3419aa241f85",
   "metadata": {},
   "outputs": [],
   "source": [
    "import urllib.request\n",
    "\n",
    "def gather_input_data(url, sessionId, transform=lambda x: str(x, \"utf-8\").strip('\\n')):\n",
    "    request = urllib.request.Request(url)\n",
    "    request.add_header(\"cookie\", \"session={}\".format(sessionId)) # Source the data directly from AoC\n",
    "\n",
    "    values = []\n",
    "    with urllib.request.urlopen(request) as data:\n",
    "        for line in data:\n",
    "            values.append(transform(line))\n",
    "\n",
    "    return values\n",
    "\n",
    "def get_data(day, year=2023):\n",
    "    with open('sessionID') as f:\n",
    "        sessionId = f.readlines()[0].strip()\n",
    "    url = \"https://adventofcode.com/%d/day/%d/input\"%(year,day)\n",
    "    data = gather_input_data(url, sessionId)\n",
    "    return data\n"
   ]
  },
  {
   "cell_type": "code",
   "execution_count": 100,
   "id": "8dfcb1ef-422d-48bc-a8bd-396247e231ee",
   "metadata": {},
   "outputs": [
    {
     "name": "stdout",
     "output_type": "stream",
     "text": [
      "527369\n",
      "73074886\n"
     ]
    }
   ],
   "source": [
    "import re\n",
    "from collections import defaultdict\n",
    "part1 = 0\n",
    "part2 = 0\n",
    "gears = defaultdict(list)\n",
    "\n",
    "data = get_data(3)\n",
    "\n",
    "for ii,line in enumerate(data):\n",
    "    for num in re.finditer('\\\\d+', line):\n",
    "        start = max(num.start() - 1, 0)\n",
    "        end = min(num.end() + 1, len(line))\n",
    "        val = num.group()\n",
    "        clique = ''\n",
    "\n",
    "        if ii == 0:\n",
    "            clique = len(data[ii][start:end])*'0'   + data[ii][start:end] + data[ii+1][start:end]\n",
    "        elif ii == len(data) - 1:\n",
    "            clique = data[ii-1][start:end] + data[ii][start:end] + len(data[ii][start:end])*'0'\n",
    "        else:\n",
    "            clique = data[ii-1][start:end] + data[ii][start:end] + data[ii+1][start:end]\n",
    "\n",
    "        rows = [ii - 1, ii, ii+1]\n",
    "        cols = list(range(start,end))\n",
    "        gear_index = [(row, col) for row in rows for col in cols]\n",
    "\n",
    "        for gear in re.finditer('\\\\*', clique):\n",
    "            gears[gear_index[gear.start()]].append(int(val))\n",
    "\n",
    "        clique = ''.join([i for i in clique if not i.isdigit()])\n",
    "        if not clique == len(clique) * '.':\n",
    "            part1 += int(val)\n",
    "\n",
    "for item in gears.values():\n",
    "    if len(item) == 2:\n",
    "        part2 += (item[0] * item[1])\n",
    "        \n",
    "print(part1)\n",
    "print(part2)"
   ]
  }
 ],
 "metadata": {
  "kernelspec": {
   "display_name": "Python 3 (ipykernel)",
   "language": "python",
   "name": "python3"
  },
  "language_info": {
   "codemirror_mode": {
    "name": "ipython",
    "version": 3
   },
   "file_extension": ".py",
   "mimetype": "text/x-python",
   "name": "python",
   "nbconvert_exporter": "python",
   "pygments_lexer": "ipython3",
   "version": "3.12.0"
  }
 },
 "nbformat": 4,
 "nbformat_minor": 5
}
