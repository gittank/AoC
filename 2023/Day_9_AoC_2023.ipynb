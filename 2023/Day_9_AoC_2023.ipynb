{
 "cells": [
  {
   "cell_type": "code",
   "execution_count": 129,
   "id": "8004cacf-c0d1-4cec-8105-5a23c9b0f841",
   "metadata": {},
   "outputs": [],
   "source": [
    "import urllib.request\n",
    "\n",
    "def gather_input_data(url, sessionId, transform=lambda x: str(x, \"utf-8\").strip('\\n')):\n",
    "    request = urllib.request.Request(url)\n",
    "    request.add_header(\"cookie\", \"session={}\".format(sessionId)) # Source the data directly from AoC\n",
    "\n",
    "    values = []\n",
    "    with urllib.request.urlopen(request) as data:\n",
    "        for line in data:\n",
    "            values.append(transform(line))\n",
    "\n",
    "    return values\n",
    "\n",
    "def get_data(day, year=2023):\n",
    "    with open('sessionID') as f:\n",
    "        sessionId = f.readlines()[0].strip()\n",
    "    url = \"https://adventofcode.com/%d/day/%d/input\"%(year,day)\n",
    "    data = gather_input_data(url, sessionId)\n",
    "    return data\n",
    "    \n",
    "\n",
    "from collections import Counter, defaultdict\n",
    "from itertools import groupby, pairwise\n"
   ]
  },
  {
   "cell_type": "code",
   "execution_count": 162,
   "id": "ba893886-c7cf-4bac-9e24-199ad306c296",
   "metadata": {},
   "outputs": [
    {
     "name": "stdout",
     "output_type": "stream",
     "text": [
      "1782868781\n",
      "1057\n"
     ]
    }
   ],
   "source": [
    "part1 = 0\n",
    "part2 = 0\n",
    "for ii, line in enumerate(get_data(9)):\n",
    "    history = list(map(int, line.split()))\n",
    "    prediction1 = []\n",
    "    prediction2 = []\n",
    "\n",
    "    while not all([val==0 for val in history]):\n",
    "        prediction1.append(history[-1])\n",
    "        prediction2.append(history[0])\n",
    "        history = [b - a for a, b in pairwise(history)]\n",
    "    \n",
    "    out = 0\n",
    "    for ii, _ in enumerate(prediction2):\n",
    "        out = prediction2[len(prediction2) - ii - 1]-out\n",
    "    \n",
    "    part1 += sum(prediction1)\n",
    "    part2 += out\n",
    "print(part1)\n",
    "print(part2)"
   ]
  },
  {
   "cell_type": "code",
   "execution_count": 104,
   "id": "20581ee5-131a-47ec-b00e-41967cd1fc9e",
   "metadata": {},
   "outputs": [
    {
     "name": "stdout",
     "output_type": "stream",
     "text": [
      "1782868781 1057\n"
     ]
    }
   ],
   "source": [
    "history=get_data(9)\n",
    "\n",
    "from math import comb\n",
    "def Lagrange1(nums):\n",
    "    n=len(nums)\n",
    "    res=0\n",
    "    for i,x in enumerate(nums):\n",
    "        res+=x*comb(n,i)*(-1)**(n-1-i)\n",
    "    return res\n",
    "\n",
    "def Lagrange2(nums):\n",
    "    n=len(nums)\n",
    "    res=0\n",
    "    for i,x in enumerate(nums):\n",
    "        res+=x*comb(n,i+1)*(-1)**(i)\n",
    "    return res\n",
    "\n",
    "res1,res2=0,0\n",
    "for line in history:\n",
    "    nums=list(map(int,line.strip().split()))\n",
    "    res1+=Lagrange1(nums)\n",
    "    res2+=Lagrange2(nums)\n",
    "print(res1, res2)"
   ]
  },
  {
   "cell_type": "code",
   "execution_count": null,
   "id": "d382db7e-11e3-4af5-8bf9-339f86e76e2f",
   "metadata": {},
   "outputs": [],
   "source": []
  }
 ],
 "metadata": {
  "kernelspec": {
   "display_name": "Python 3 (ipykernel)",
   "language": "python",
   "name": "python3"
  },
  "language_info": {
   "codemirror_mode": {
    "name": "ipython",
    "version": 3
   },
   "file_extension": ".py",
   "mimetype": "text/x-python",
   "name": "python",
   "nbconvert_exporter": "python",
   "pygments_lexer": "ipython3",
   "version": "3.12.0"
  }
 },
 "nbformat": 4,
 "nbformat_minor": 5
}
