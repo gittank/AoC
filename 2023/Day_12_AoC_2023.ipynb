{
 "cells": [
  {
   "cell_type": "code",
   "execution_count": 96,
   "id": "f30c1b37-b051-4c30-9f54-5346b862bdc4",
   "metadata": {},
   "outputs": [],
   "source": [
    "import urllib.request\n",
    "\n",
    "def gather_input_data(url, sessionId, transform=lambda x: str(x, \"utf-8\").strip('\\n')):\n",
    "    request = urllib.request.Request(url)\n",
    "    request.add_header(\"cookie\", \"session={}\".format(sessionId)) # Source the data directly from AoC\n",
    "\n",
    "    values = []\n",
    "    with urllib.request.urlopen(request) as data:\n",
    "        for line in data:\n",
    "            values.append(transform(line))\n",
    "\n",
    "    return values\n",
    "\n",
    "def get_data(day, year=2023):\n",
    "    with open('sessionID') as f:\n",
    "        sessionId = f.readlines()[0].strip()\n",
    "    url = \"https://adventofcode.com/%d/day/%d/input\"%(year,day)\n",
    "    data = gather_input_data(url, sessionId)\n",
    "    return data\n",
    "    \n",
    "\n",
    "from collections import Counter, defaultdict\n",
    "from itertools import groupby, pairwise\n",
    "import re\n",
    "from functools import lru_cache\n"
   ]
  },
  {
   "cell_type": "code",
   "execution_count": 114,
   "id": "a1f7e507-fb87-40a5-a7ca-3dcb1364b8bb",
   "metadata": {},
   "outputs": [
    {
     "name": "stdout",
     "output_type": "stream",
     "text": [
      "8419\n",
      "160500973317706\n"
     ]
    }
   ],
   "source": [
    "@lru_cache\n",
    "def recursive_arrangements(pixels, groups):\n",
    "    if len(pixels) == 0:\n",
    "        # e.g. \"\" (,)\n",
    "        # e.g. \"\" (1,)\n",
    "        return 1 if len(groups) == 0 else 0\n",
    "    if pixels.startswith(\".\"):\n",
    "        # e.g. \".###?\" (4,)\n",
    "        # -> \"###?\" (4,)\n",
    "        return recursive_arrangements(pixels.strip(\".\"), groups)\n",
    "    if pixels.startswith(\"?\"):\n",
    "        # e.g. \"?###?\" (4,)\n",
    "        # 1-> \".###?\" (4,)\n",
    "        # 2-> \"####?\" (4,)\n",
    "        return recursive_arrangements(pixels.replace(\"?\", \".\", 1), groups) \\\n",
    "            + recursive_arrangements(pixels.replace(\"?\", \"#\", 1), groups)\n",
    "    if pixels.startswith(\"#\"):\n",
    "        if len(groups) == 0:\n",
    "            # e.g. \"##\" (,)\n",
    "            return 0\n",
    "        if len(pixels) < groups[0]:\n",
    "            # e.g. \"##\" (3,)\n",
    "            return 0\n",
    "        if any(c == \".\" for c in pixels[0:groups[0]]):\n",
    "            # e.g. \"##.???\" (3,1)\n",
    "            return 0\n",
    "        if len(groups) > 1:\n",
    "            if len(pixels) < groups[0] + 1 or pixels[groups[0]] == \"#\":\n",
    "                return 0\n",
    "            # e.g. \"##.???\" (2,1)\n",
    "            # -> \"???\" (1,)\n",
    "            return recursive_arrangements(pixels[groups[0] + 1:], groups[1:])\n",
    "        else:\n",
    "            # e.g. \"##.???\" (2,)\n",
    "            # -> \".???\" (,)\n",
    "            return recursive_arrangements(pixels[groups[0]:], groups[1:])\n",
    "\n",
    "for part2 in [False, True]:\n",
    "    total_arrangements = 0\n",
    "    for line in get_data(12):\n",
    "        flawed_map, numeric_map = line.split(\" \")\n",
    "        numeric_map = tuple(map(int, re.findall('\\\\d+', numeric_map)))\n",
    "        if part2:\n",
    "            flawed_map = \"?\".join([flawed_map] * 5)\n",
    "            numeric_map = numeric_map * 5\n",
    "        # left = pixels (as string), right = groups (as tuple of ints)\n",
    "        total_arrangements += recursive_arrangements(flawed_map, numeric_map)\n",
    "    print(total_arrangements) \n"
   ]
  },
  {
   "cell_type": "code",
   "execution_count": 103,
   "id": "a7d8ab4e-34b6-4529-82e1-e56d0e63e33b",
   "metadata": {},
   "outputs": [],
   "source": []
  },
  {
   "cell_type": "code",
   "execution_count": 107,
   "id": "46d690e2-49f0-4a38-a70f-1bb7233a170e",
   "metadata": {},
   "outputs": [
    {
     "data": {
      "text/plain": [
       "(7, 1)"
      ]
     },
     "execution_count": 107,
     "metadata": {},
     "output_type": "execute_result"
    }
   ],
   "source": []
  },
  {
   "cell_type": "code",
   "execution_count": null,
   "id": "7215bfa9-9907-466a-b0e3-18ff71e75ae4",
   "metadata": {},
   "outputs": [],
   "source": []
  }
 ],
 "metadata": {
  "kernelspec": {
   "display_name": "Python 3 (ipykernel)",
   "language": "python",
   "name": "python3"
  },
  "language_info": {
   "codemirror_mode": {
    "name": "ipython",
    "version": 3
   },
   "file_extension": ".py",
   "mimetype": "text/x-python",
   "name": "python",
   "nbconvert_exporter": "python",
   "pygments_lexer": "ipython3",
   "version": "3.12.0"
  }
 },
 "nbformat": 4,
 "nbformat_minor": 5
}
