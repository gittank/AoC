{
 "cells": [
  {
   "cell_type": "code",
   "execution_count": 8,
   "id": "4c1449ab-398a-46de-85cb-cdfdacfd526a",
   "metadata": {},
   "outputs": [],
   "source": [
    "import urllib.request\n",
    "\n",
    "def gather_input_data(url, sessionId, transform=lambda x: str(x, \"utf-8\").strip('\\n')):\n",
    "    request = urllib.request.Request(url)\n",
    "    request.add_header(\"cookie\", \"session={}\".format(sessionId)) # Source the data directly from AoC\n",
    "\n",
    "    values = []\n",
    "    with urllib.request.urlopen(request) as data:\n",
    "        for line in data:\n",
    "            values.append(transform(line))\n",
    "\n",
    "    return values\n",
    "\n",
    "def get_data(day, year=2023):\n",
    "    with open('sessionID') as f:\n",
    "        sessionId = f.readlines()[0].strip()\n",
    "    url = \"https://adventofcode.com/%d/day/%d/input\"%(year,day)\n",
    "    data = gather_input_data(url, sessionId)\n",
    "    return data\n",
    "\n",
    "def new_point(c,d,s):\n",
    "    cx,cy = c\n",
    "    dx,dy = dir_to_xy[d]\n",
    "    nx = cx + int(s)*dx\n",
    "    ny = cy + int(s)*dy\n",
    "    return nx, ny"
   ]
  },
  {
   "cell_type": "code",
   "execution_count": 122,
   "id": "57879004-ae67-45cd-b739-df6897340e01",
   "metadata": {},
   "outputs": [
    {
     "name": "stdout",
     "output_type": "stream",
     "text": [
      "35244\n",
      "85070763635666\n"
     ]
    }
   ],
   "source": [
    "dir_to_xy = {'D':(-1,0), 'L':(0,-1), 'R':(0,1), 'U':(1,0)}\n",
    "color_to_dir = ['R', 'D', 'L', 'U']\n",
    "def go(part2):\n",
    "    points = []\n",
    "    start = (0,0)\n",
    "    points.append(start)\n",
    "    edge = 0\n",
    "    current = start\n",
    "    for line in get_data(18):\n",
    "        direction, steps, color = line.split()\n",
    "        if part2:\n",
    "            steps = int(color[2:7], 16)\n",
    "            direction = color_to_dir[int(color[7])]\n",
    "        steps = int(steps)\n",
    "        current = new_point(current,direction,steps)\n",
    "        points.append(current)\n",
    "        edge+=steps\n",
    "        \n",
    "    ans = 0\n",
    "    for ((a,b),(c,d)) in zip(points[:-1],points[1:]):\n",
    "        ans += (a*d - b*c)\n",
    "    print(abs(ans)//2 + edge//2 + 1)\n",
    "\n",
    "go(False)\n",
    "go(True)"
   ]
  }
 ],
 "metadata": {
  "kernelspec": {
   "display_name": "Python 3 (ipykernel)",
   "language": "python",
   "name": "python3"
  },
  "language_info": {
   "codemirror_mode": {
    "name": "ipython",
    "version": 3
   },
   "file_extension": ".py",
   "mimetype": "text/x-python",
   "name": "python",
   "nbconvert_exporter": "python",
   "pygments_lexer": "ipython3",
   "version": "3.12.0"
  }
 },
 "nbformat": 4,
 "nbformat_minor": 5
}
