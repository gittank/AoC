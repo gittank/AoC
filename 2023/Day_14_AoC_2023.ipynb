{
 "cells": [
  {
   "cell_type": "code",
   "execution_count": 1,
   "id": "7e3f1235-ea54-4225-bff2-8d916d22a47a",
   "metadata": {},
   "outputs": [],
   "source": [
    "import urllib.request\n",
    "\n",
    "def gather_input_data(url, sessionId, transform=lambda x: str(x, \"utf-8\").strip('\\n')):\n",
    "    request = urllib.request.Request(url)\n",
    "    request.add_header(\"cookie\", \"session={}\".format(sessionId)) # Source the data directly from AoC\n",
    "\n",
    "    values = []\n",
    "    with urllib.request.urlopen(request) as data:\n",
    "        for line in data:\n",
    "            values.append(transform(line))\n",
    "\n",
    "    return values\n",
    "\n",
    "def get_data(day, year=2023):\n",
    "    with open('sessionID') as f:\n",
    "        sessionId = f.readlines()[0].strip()\n",
    "    url = \"https://adventofcode.com/%d/day/%d/input\"%(year,day)\n",
    "    data = gather_input_data(url, sessionId)\n",
    "    return data\n",
    "    \n",
    "\n",
    "from collections import Counter, defaultdict\n",
    "from itertools import groupby, pairwise\n",
    "import re\n",
    "\n",
    "def list_of_string_transpose(data):\n",
    "    return [''.join(i) for i in zip(*data)]\n",
    "\n",
    "def apply_n_times(f, x, n):\n",
    "    seen = {}\n",
    "    for i in range(n):\n",
    "        if x in seen:\n",
    "            break\n",
    "        seen[x] = i\n",
    "        x = f(x)\n",
    "    else:\n",
    "        return x\n",
    "\n",
    "    cycle_start = seen[x]\n",
    "    cycle_len = i - cycle_start\n",
    "    remaining = (n - i) % cycle_len\n",
    "    return apply_n_times(f, x, remaining)\n",
    "\n",
    "def roll_line_east(line):\n",
    "    return '#'.join((''.join(sorted(p)) for p in line.split('#')))\n",
    "\n",
    "def roll_line_west(line):\n",
    "    return '#'.join((''.join(sorted(p, reverse=True)) for p in line.split('#')))\n",
    "\n",
    "def roll_east(lines):\n",
    "    return [roll_line_east(l) for l in lines]\n",
    "\n",
    "def roll_west(lines):\n",
    "    return [roll_line_west(l) for l in lines]\n",
    "    \n",
    "def roll_north(lines):\n",
    "    return list_of_string_transpose(roll_west(list_of_string_transpose(lines)))\n",
    "\n",
    "def roll_south(lines):\n",
    "    return list_of_string_transpose(roll_east(list_of_string_transpose(lines)))\n",
    "\n",
    "def score(lines):\n",
    "    return sum(r * row.count('O') for r, row in enumerate(lines[::-1], 1))\n",
    "\n",
    "def do_a_cycle(lines):\n",
    "    return roll_east(roll_south(roll_west(roll_north(lines))))\n",
    "\n",
    "def apply_cycle_to_input(data):\n",
    "    return '\\n'.join(do_a_cycle(data.splitlines()))"
   ]
  },
  {
   "cell_type": "code",
   "execution_count": 2,
   "id": "daf09ce1-fa5f-4715-84a1-a076cd2afddf",
   "metadata": {},
   "outputs": [
    {
     "name": "stdout",
     "output_type": "stream",
     "text": [
      "106997\n"
     ]
    },
    {
     "ename": "NameError",
     "evalue": "name 'calculate_load' is not defined",
     "output_type": "error",
     "traceback": [
      "\u001b[0;31m---------------------------------------------------------------------------\u001b[0m",
      "\u001b[0;31mNameError\u001b[0m                                 Traceback (most recent call last)",
      "Cell \u001b[0;32mIn[2], line 9\u001b[0m\n\u001b[1;32m      7\u001b[0m     state \u001b[38;5;241m=\u001b[39m state \u001b[38;5;241m+\u001b[39m val \u001b[38;5;241m+\u001b[39m \u001b[38;5;124m'\u001b[39m\u001b[38;5;130;01m\\n\u001b[39;00m\u001b[38;5;124m'\u001b[39m\n\u001b[1;32m      8\u001b[0m state \u001b[38;5;241m=\u001b[39m apply_n_times(apply_cycle_to_input, state, \u001b[38;5;241m1_000_000_000\u001b[39m)\n\u001b[0;32m----> 9\u001b[0m \u001b[38;5;28mprint\u001b[39m(\u001b[43mcalculate_load\u001b[49m(state\u001b[38;5;241m.\u001b[39msplitlines()))\n",
      "\u001b[0;31mNameError\u001b[0m: name 'calculate_load' is not defined"
     ]
    }
   ],
   "source": [
    "data = get_data(14)\n",
    "print(score(roll_north(data)))\n",
    "\n",
    "\n",
    "state = ''\n",
    "for val in get_data(14):\n",
    "    state = state + val + '\\n'\n",
    "state = apply_n_times(apply_cycle_to_input, state, 1_000_000_000)\n",
    "print(calculate_load(state.splitlines()))"
   ]
  },
  {
   "cell_type": "code",
   "execution_count": null,
   "id": "849eb58a-149b-4655-bf0a-2e2fc6b2a505",
   "metadata": {},
   "outputs": [],
   "source": []
  }
 ],
 "metadata": {
  "kernelspec": {
   "display_name": "Python 3 (ipykernel)",
   "language": "python",
   "name": "python3"
  },
  "language_info": {
   "codemirror_mode": {
    "name": "ipython",
    "version": 3
   },
   "file_extension": ".py",
   "mimetype": "text/x-python",
   "name": "python",
   "nbconvert_exporter": "python",
   "pygments_lexer": "ipython3",
   "version": "3.12.0"
  }
 },
 "nbformat": 4,
 "nbformat_minor": 5
}
