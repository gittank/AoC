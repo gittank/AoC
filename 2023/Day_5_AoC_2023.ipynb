{
 "cells": [
  {
   "cell_type": "code",
   "execution_count": 1,
   "id": "a0c9e998-95fd-4101-88f1-45f72cf99583",
   "metadata": {},
   "outputs": [],
   "source": [
    "import urllib.request\n",
    "\n",
    "def gather_input_data(url, sessionId, transform=lambda x: str(x, \"utf-8\").strip('\\n')):\n",
    "    request = urllib.request.Request(url)\n",
    "    request.add_header(\"cookie\", \"session={}\".format(sessionId)) # Source the data directly from AoC\n",
    "\n",
    "    values = []\n",
    "    with urllib.request.urlopen(request) as data:\n",
    "        for line in data:\n",
    "            values.append(transform(line))\n",
    "\n",
    "    return values\n",
    "\n",
    "def get_data(day, year=2023):\n",
    "    with open('sessionID') as f:\n",
    "        sessionId = f.readlines()[0].strip()\n",
    "    url = \"https://adventofcode.com/%d/day/%d/input\"%(year,day)\n",
    "    data = gather_input_data(url, sessionId)\n",
    "    return data\n",
    "    \n",
    "import re\n",
    "def find_int_in_string(val):\n",
    "    return list(map(int, re.findall('\\\\d+', val)))\n",
    "    \n",
    "def convert(three_vals, val):\n",
    "    out = val\n",
    "    destination, source, delta = three_vals\n",
    "    if source <= val < (source + delta):\n",
    "        out = val + destination - source\n",
    "    return out"
   ]
  },
  {
   "cell_type": "code",
   "execution_count": 2,
   "id": "60faeea8-3fc2-4c57-8787-fc7b65f49587",
   "metadata": {},
   "outputs": [
    {
     "name": "stdout",
     "output_type": "stream",
     "text": [
      "324724204\n"
     ]
    }
   ],
   "source": [
    "import itertools\n",
    "from collections import defaultdict\n",
    "\n",
    "seeds, *map_list = [list(y) for x, y in itertools.groupby(get_data(5), lambda z: z == '') if not x]\n",
    "\n",
    "out = []\n",
    "seed_list = find_int_in_string(seeds[0])\n",
    "out.append(seed_list)\n",
    "for ii, mapping in enumerate(map_list):\n",
    "    mapped = []\n",
    "    for val in out[ii]:\n",
    "        for line in mapping[1:]:\n",
    "            new = convert(find_int_in_string(line), val)\n",
    "            if new != val:\n",
    "                break\n",
    "        mapped.append(new)\n",
    "    out.append(mapped)\n",
    "print(min(out[-1]))"
   ]
  },
  {
   "cell_type": "markdown",
   "id": "518fb939-8644-4f52-b555-4e4b44567538",
   "metadata": {},
   "source": [
    "cases:\n",
    "ss----------se\n",
    "                  ms-----------me  \n",
    "\n",
    "keep [ss, se] only pre\n",
    "\n",
    "ss----------se\n",
    "      ms-----------me  \n",
    "\n",
    "keep: [ss, ms), map [ms, se] pre and overlap\n",
    "\n",
    "ss-------------------se\n",
    "    ms-----------me    \n",
    "\n",
    "keep: [ss, ms), map [ms, me], keep: (me, se) all three\n",
    "\n",
    "       ss----------se\n",
    "    ms------------------me    \n",
    "\n",
    "map: [ss, se) only overlap\n",
    "\n",
    "\n",
    "            ss-------------------se\n",
    "    ms-----------me    \n",
    "\n",
    "keep: map [ss, me], keep: (me, se) overlap, and post\n",
    "\n",
    "\n",
    "                        ss-------------------se\n",
    "    ms-----------me  \n",
    "keep: map [ss, se] only post\n",
    "\n",
    "three sections: pre, overlap, post"
   ]
  },
  {
   "cell_type": "code",
   "execution_count": null,
   "id": "26d924c6-88e7-4a43-b6cb-c0c39ccb07e9",
   "metadata": {
    "scrolled": true
   },
   "outputs": [
    {
     "name": "stdout",
     "output_type": "stream",
     "text": [
      "3213531697\n"
     ]
    }
   ],
   "source": [
    "pairs = list(zip(seed_list[::2], seed_list[1::2]))\n",
    "samples = [(val[0], val[0]+val[1]) for val in pairs]\n",
    "part2 = []\n",
    "for pair in samples:\n",
    "    mapped = [pair]\n",
    "    for mapping in map_list:\n",
    "        new_mapped = []\n",
    "        for line in mapping[1:]:\n",
    "            new_unmapped = []\n",
    "            while mapped:\n",
    "                d,s,r = find_int_in_string(line)\n",
    "\n",
    "                ss, se = mapped.pop()\n",
    "                ms = s\n",
    "                me = s + r\n",
    "                \n",
    "                pre = (ss,min(se,ms))\n",
    "                overlap = (max(ss, ms), min(me, se))\n",
    "                post = (max(me, ss), se)\n",
    "                \n",
    "                # add pre section \n",
    "                if pre[1] > pre[0]:\n",
    "                    new_unmapped.append(pre)\n",
    "                if overlap[1] > overlap[0]:\n",
    "                    new_mapped.append((overlap[0]-ms+d, overlap[1]-ms+d))\n",
    "                if post[1] > post[0]:\n",
    "                    new_unmapped.append(post)\n",
    "            mapped = new_unmapped\n",
    "        mapped = new_mapped + new_unmapped\n",
    "    part2.append(min(mapped)[0])\n",
    "print(min(part2))\n",
    "    "
   ]
  },
  {
   "cell_type": "code",
   "execution_count": null,
   "id": "7f006280-b72a-42ae-b735-f7c41545cc3b",
   "metadata": {},
   "outputs": [],
   "source": []
  }
 ],
 "metadata": {
  "kernelspec": {
   "display_name": "Python 3 (ipykernel)",
   "language": "python",
   "name": "python3"
  },
  "language_info": {
   "codemirror_mode": {
    "name": "ipython",
    "version": 3
   },
   "file_extension": ".py",
   "mimetype": "text/x-python",
   "name": "python",
   "nbconvert_exporter": "python",
   "pygments_lexer": "ipython3",
   "version": "3.12.0"
  }
 },
 "nbformat": 4,
 "nbformat_minor": 5
}
