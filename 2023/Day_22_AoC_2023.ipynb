{
 "cells": [
  {
   "cell_type": "code",
   "execution_count": 8,
   "id": "93959af0-15bb-4357-9015-4d1d23859770",
   "metadata": {},
   "outputs": [],
   "source": [
    "import urllib.request\n",
    "\n",
    "def gather_input_data(url, sessionId, transform=lambda x: str(x, \"utf-8\").strip('\\n')):\n",
    "    request = urllib.request.Request(url)\n",
    "    request.add_header(\"cookie\", \"session={}\".format(sessionId)) # Source the data directly from AoC\n",
    "\n",
    "    values = []\n",
    "    with urllib.request.urlopen(request) as data:\n",
    "        for line in data:\n",
    "            values.append(transform(line))\n",
    "\n",
    "    return values\n",
    "\n",
    "def get_data(day, year=2023):\n",
    "    with open('sessionID') as f:\n",
    "        sessionId = f.readlines()[0].strip()\n",
    "    url = \"https://adventofcode.com/%d/day/%d/input\"%(year,day)\n",
    "    data = gather_input_data(url, sessionId)\n",
    "    return data\n",
    "\n",
    "from collections import defaultdict"
   ]
  },
  {
   "cell_type": "code",
   "execution_count": 18,
   "id": "66b0ea0c-40d1-4ef8-972e-22baa5bdc314",
   "metadata": {},
   "outputs": [],
   "source": [
    "bricks = []\n",
    "for line in get_data(22):\n",
    "    start, stop = line.split('~')\n",
    "    start = list(map(int, start.split(',')))\n",
    "    stop = list(map(int, stop.split(',')))\n",
    "    bricks.append((start, stop))\n",
    "bricks.sort(key=lambda x: x[0][2])\n",
    "n = len(bricks)"
   ]
  },
  {
   "cell_type": "code",
   "execution_count": 19,
   "id": "696fefba-b14c-4b73-a6fc-68dcf2e89a14",
   "metadata": {},
   "outputs": [
    {
     "name": "stdout",
     "output_type": "stream",
     "text": [
      "9 9 362\n",
      "0 0 1\n"
     ]
    }
   ],
   "source": [
    "x = []\n",
    "y = []\n",
    "z =[]\n",
    "for (s,e) in bricks:\n",
    "    x.extend([s[0],e[0]])\n",
    "    y.extend([s[1],e[1]])\n",
    "    z.extend([s[2],e[2]])\n",
    "print(max(x), max(y), max(z))\n",
    "print(min(x), min(y), min(z))"
   ]
  },
  {
   "cell_type": "code",
   "execution_count": 20,
   "id": "8bda2650-a9b5-4506-b672-f473d8692f86",
   "metadata": {},
   "outputs": [
    {
     "name": "stdout",
     "output_type": "stream",
     "text": [
      "497\n",
      "95059\n"
     ]
    }
   ],
   "source": [
    "highest = defaultdict(lambda:(0,-1))\n",
    "bad = set()\n",
    "graph = [[] for i in range(n)]\n",
    "for idx,b in enumerate(bricks):\n",
    "    mxh = -1\n",
    "    support_set = set()\n",
    "    for x in range(b[0][0], b[1][0]+1):\n",
    "        for y in range(b[0][1], b[1][1]+1):\n",
    "            if highest[x,y][0] + 1 > mxh:\n",
    "                mxh = highest[x,y][0] + 1\n",
    "                support_set = {highest[x,y][1]}\n",
    "            elif highest[x,y][0] + 1 == mxh:\n",
    "                support_set.add(highest[x,y][1])\n",
    "    \n",
    "    for x in support_set:\n",
    "        if x != -1:\n",
    "            graph[x].append(idx)\n",
    "\n",
    "    if len(support_set) == 1:\n",
    "        bad.add(support_set.pop())\n",
    "    \n",
    "    fall = b[0][2] - mxh\n",
    "    if fall > 0:\n",
    "        b[0][2] -= fall\n",
    "        b[1][2] -= fall\n",
    "\n",
    "    for x in range(b[0][0], b[1][0]+1):\n",
    "        for y in range(b[0][1], b[1][1]+1):\n",
    "            highest[x,y] = (b[1][2], idx)\n",
    "\n",
    "print(len(bricks)-len(bad)-1) # -1 for \"ground\" brick\n",
    "\n",
    "def count(idx, graph):\n",
    "    indeg = [0 for __ in range(n)]\n",
    "    for j in range(n):\n",
    "        for i in graph[j]:\n",
    "            indeg[i] += 1\n",
    "    q = [idx]\n",
    "    count = -1\n",
    "    while len(q) > 0:\n",
    "        count += 1\n",
    "        x = q.pop()\n",
    "        for i in graph[x]:\n",
    "            indeg[i] -= 1\n",
    "            if indeg[i] == 0:\n",
    "                q.append(i)\n",
    "\n",
    "    return count\n",
    "\n",
    "print(sum(count(x, graph) for x in range(n)))"
   ]
  }
 ],
 "metadata": {
  "kernelspec": {
   "display_name": "Python 3 (ipykernel)",
   "language": "python",
   "name": "python3"
  },
  "language_info": {
   "codemirror_mode": {
    "name": "ipython",
    "version": 3
   },
   "file_extension": ".py",
   "mimetype": "text/x-python",
   "name": "python",
   "nbconvert_exporter": "python",
   "pygments_lexer": "ipython3",
   "version": "3.12.0"
  }
 },
 "nbformat": 4,
 "nbformat_minor": 5
}
