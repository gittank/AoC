{
 "cells": [
  {
   "cell_type": "code",
   "execution_count": 44,
   "id": "c84e2b84-9595-4a8b-832e-903928dc11fb",
   "metadata": {},
   "outputs": [],
   "source": [
    "import urllib.request\n",
    "\n",
    "def gather_input_data(url, sessionId, transform=lambda x: str(x, \"utf-8\").strip('\\n')):\n",
    "    request = urllib.request.Request(url)\n",
    "    request.add_header(\"cookie\", \"session={}\".format(sessionId)) # Source the data directly from AoC\n",
    "\n",
    "    values = []\n",
    "    with urllib.request.urlopen(request) as data:\n",
    "        for line in data:\n",
    "            values.append(transform(line))\n",
    "\n",
    "    return values\n",
    "\n",
    "def get_data(day, year=2023):\n",
    "    with open('sessionID') as f:\n",
    "        sessionId = f.readlines()[0].strip()\n",
    "    url = \"https://adventofcode.com/%d/day/%d/input\"%(year,day)\n",
    "    data = gather_input_data(url, sessionId)\n",
    "    return data\n",
    "    \n",
    "\n",
    "from collections import OrderedDict\n",
    "import re\n",
    "\n",
    "def HASHMAP(val):\n",
    "    ans = 0\n",
    "    for c in val:\n",
    "        ans += ord(c)\n",
    "        ans *= 17\n",
    "        ans %= 256\n",
    "    return ans\n",
    "\n"
   ]
  },
  {
   "cell_type": "code",
   "execution_count": 102,
   "id": "487d1e7f-9e76-4d57-bb0a-f720d709dfb6",
   "metadata": {},
   "outputs": [
    {
     "name": "stdout",
     "output_type": "stream",
     "text": [
      "506891\n",
      "230462\n"
     ]
    }
   ],
   "source": [
    "part1 = 0\n",
    "part2 = 0\n",
    "boxes = [OrderedDict() for _ in range(256)]\n",
    "for val in data:\n",
    "    ans = HASHMAP(val)\n",
    "    part1 += ans\n",
    "    \n",
    "    if '-' in val:\n",
    "        lens = val[:-1]\n",
    "        box = boxes[HASHMAP(lens)]\n",
    "        if lens in box:\n",
    "            del box[lens]\n",
    "    else:\n",
    "        lens, focal_len = val.split('=')\n",
    "        box = boxes[HASHMAP(lens)]\n",
    "        box[lens] = int(focal_len)\n",
    "        \n",
    "for ii, box in enumerate(boxes):\n",
    "    for jj, val in enumerate(box.items()):\n",
    "        part2+= ((ii+1) * (jj+1) * val[1])    \n",
    "        \n",
    "print(part1)\n",
    "print(part2)"
   ]
  },
  {
   "cell_type": "code",
   "execution_count": null,
   "id": "fb4f9b10-4eb8-4dd7-bd2d-0b35f536ae1f",
   "metadata": {},
   "outputs": [],
   "source": []
  }
 ],
 "metadata": {
  "kernelspec": {
   "display_name": "Python 3 (ipykernel)",
   "language": "python",
   "name": "python3"
  },
  "language_info": {
   "codemirror_mode": {
    "name": "ipython",
    "version": 3
   },
   "file_extension": ".py",
   "mimetype": "text/x-python",
   "name": "python",
   "nbconvert_exporter": "python",
   "pygments_lexer": "ipython3",
   "version": "3.12.0"
  }
 },
 "nbformat": 4,
 "nbformat_minor": 5
}
