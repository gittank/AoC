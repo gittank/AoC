{
 "cells": [
  {
   "cell_type": "code",
   "execution_count": 30,
   "id": "d5076161-20d9-4990-834b-4fc2522e6205",
   "metadata": {},
   "outputs": [
    {
     "data": {
      "text/html": [
       "\n",
       "        <iframe\n",
       "            width=\"1000\"\n",
       "            height=\"600\"\n",
       "            src=\"https://adventofcode.com/2023\"\n",
       "            frameborder=\"0\"\n",
       "            allowfullscreen\n",
       "            \n",
       "        ></iframe>\n",
       "        "
      ],
      "text/plain": [
       "<IPython.lib.display.IFrame at 0x7fa8128398b0>"
      ]
     },
     "execution_count": 30,
     "metadata": {},
     "output_type": "execute_result"
    }
   ],
   "source": [
    "from IPython.display import IFrame\n",
    "url = \"https://adventofcode.com/2023\"\n",
    "IFrame(src=url, width=1000, height=600)\n"
   ]
  },
  {
   "cell_type": "code",
   "execution_count": 21,
   "id": "5eb5a686-7daf-41b8-b187-21d967eb266f",
   "metadata": {},
   "outputs": [],
   "source": [
    "import urllib.request\n",
    "\n",
    "def gather_input_data(url, sessionId, transform=lambda x: str(x, \"utf-8\").strip('\\n')):\n",
    "    request = urllib.request.Request(url)\n",
    "    request.add_header(\"cookie\", \"session={}\".format(sessionId)) # Source the data directly from AoC\n",
    "\n",
    "    values = []\n",
    "    with urllib.request.urlopen(request) as data:\n",
    "        for line in data:\n",
    "            values.append(transform(line))\n",
    "\n",
    "    return values\n",
    "\n",
    "def get_data(day, year=2023):\n",
    "    with open('sessionID') as f:\n",
    "        sessionId = str.strip(f.readlines()[0])\n",
    "    url = \"https://adventofcode.com/%d/day/%d/input\"%(year,day)\n",
    "    data = gather_input_data(url, sessionId)\n",
    "    return data"
   ]
  },
  {
   "cell_type": "code",
   "execution_count": 42,
   "id": "0988a4ec-8eb4-40aa-a360-75fa008d2f1b",
   "metadata": {},
   "outputs": [],
   "source": [
    "import sys\n",
    "p1 = 0\n",
    "p2 = 0\n",
    "for line in get_data(1):\n",
    "  p1_digits = []\n",
    "  p2_digits = []\n",
    "  for i,c in enumerate(line):\n",
    "    if c.isdigit():\n",
    "      p1_digits.append(c)\n",
    "      p2_digits.append(c)\n",
    "    for d,val in enumerate(['one', 'two', 'three', 'four', 'five', 'six', 'seven', 'eight', 'nine']):\n",
    "      if line[i:].startswith(val):\n",
    "        p2_digits.append(str(d+1))\n",
    "  p1 += int(p1_digits[0]+p1_digits[-1])\n",
    "  p2 += int(p2_digits[0]+p2_digits[-1])\n",
    "\n",
    "print(p1)\n",
    "print(p2)"
   ]
  }
 ],
 "metadata": {
  "kernelspec": {
   "display_name": "Python 3 (ipykernel)",
   "language": "python",
   "name": "python3"
  },
  "language_info": {
   "codemirror_mode": {
    "name": "ipython",
    "version": 3
   },
   "file_extension": ".py",
   "mimetype": "text/x-python",
   "name": "python",
   "nbconvert_exporter": "python",
   "pygments_lexer": "ipython3",
   "version": "3.9.15"
  }
 },
 "nbformat": 4,
 "nbformat_minor": 5
}
