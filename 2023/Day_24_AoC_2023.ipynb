{
 "cells": [
  {
   "cell_type": "code",
   "execution_count": 1,
   "id": "04379d37-9d7a-48cb-8c0b-92f8be8f7887",
   "metadata": {},
   "outputs": [],
   "source": [
    "import urllib.request\n",
    "\n",
    "def gather_input_data(url, sessionId, transform=lambda x: str(x, \"utf-8\").strip('\\n')):\n",
    "    request = urllib.request.Request(url)\n",
    "    request.add_header(\"cookie\", \"session={}\".format(sessionId)) # Source the data directly from AoC\n",
    "\n",
    "    values = []\n",
    "    with urllib.request.urlopen(request) as data:\n",
    "        for line in data:\n",
    "            values.append(transform(line))\n",
    "\n",
    "    return values\n",
    "\n",
    "def get_data(day, year=2023):\n",
    "    with open('sessionID') as f:\n",
    "        sessionId = f.readlines()[0].strip()\n",
    "    url = \"https://adventofcode.com/%d/day/%d/input\"%(year,day)\n",
    "    data = gather_input_data(url, sessionId)\n",
    "    return data\n",
    "\n",
    "from itertools import combinations\n",
    "from z3 import Int, Ints, Solver\n",
    "\n",
    "def intersect(hail1, hail2):\n",
    "    (x1,y1,_),v1,(m1,b1) = hail1\n",
    "    (x2,y2,_),v2,(m2,b2) = hail2\n",
    "    if m1 == m2:\n",
    "        out = False\n",
    "    else:\n",
    "        xi =(b2-b1) / (m1-m2)\n",
    "        yi = m1*xi + b1\n",
    "        t1 = (xi - x1) / v1[0]\n",
    "        t2 = (xi - x2) / v2[0]\n",
    "        if t1 < 0 or t2 < 0:\n",
    "            out = False\n",
    "        else:\n",
    "            tmin = 200000000000000\n",
    "            tmax = 400000000000000\n",
    "            out = (tmin <= xi <= tmax) and (tmin <= yi <= tmax) \n",
    "    return out\n",
    "\n",
    "def parse_data():\n",
    "    hail = []\n",
    "    for line in get_data(24):\n",
    "        position_string,velocity_string = line.split('@')\n",
    "        px,py,pz = map(int, position_string.split(','))\n",
    "        vx,vy,vz = map(int, velocity_string.split(','))\n",
    "        m = vy/vx\n",
    "        b = py - m*px\n",
    "        hail.append(((px,py,pz),(vx,vy,vz),(m,b)))\n",
    "    return hail"
   ]
  },
  {
   "cell_type": "code",
   "execution_count": 2,
   "id": "f1a8b45c-c635-4438-947e-4941587c1642",
   "metadata": {},
   "outputs": [
    {
     "name": "stdout",
     "output_type": "stream",
     "text": [
      "21785\n"
     ]
    }
   ],
   "source": [
    "hail = parse_data()\n",
    "part1 = 0\n",
    "for h1, h2 in combinations(hail, 2):\n",
    "    if intersect(h1, h2):\n",
    "        part1 += 1\n",
    "print(part1)\n",
    "\n",
    "pxr, pyr, pzr, vxr, vyr, vzr = Ints(\"pxr pyr pzr vxr vyr vzr\")\n",
    "s = Solver()\n",
    "for k, ((pxh, pyh, pzh), (vxh, vyh, vzh), _) in enumerate(hail[:3]):\n",
    "    tK = Int(f\"t{k}\")\n",
    "    s.add(tK > 0)\n",
    "    s.add(pxr + tK * vxr == pxh + tK * vxh)\n",
    "    s.add(pyr + tK * vyr == pyh + tK * vyh)\n",
    "    s.add(pzr + tK * vzr == pzh + tK * vzh)\n",
    "s.check()\n",
    "pxr = s.model()[pxr].as_long()\n",
    "pyr = s.model()[pyr].as_long()\n",
    "pzr = s.model()[pzr].as_long()\n",
    "print(pxr + pyr + pzr) \n"
   ]
  },
  {
   "cell_type": "code",
   "execution_count": 3,
   "id": "19b031c0-f67e-4aed-8d9b-3e7d0fd7a7df",
   "metadata": {},
   "outputs": [],
   "source": [
    "import z3"
   ]
  },
  {
   "cell_type": "code",
   "execution_count": 6,
   "id": "c9543731-7cb8-4a71-88a5-77d93b6e1ed0",
   "metadata": {},
   "outputs": [
    {
     "name": "stdout",
     "output_type": "stream",
     "text": [
      "554668916217145\n"
     ]
    }
   ],
   "source": []
  },
  {
   "cell_type": "code",
   "execution_count": null,
   "id": "ac36b596-6783-440e-b3a4-7ff522c718b4",
   "metadata": {},
   "outputs": [],
   "source": []
  }
 ],
 "metadata": {
  "kernelspec": {
   "display_name": "Python 3 (ipykernel)",
   "language": "python",
   "name": "python3"
  },
  "language_info": {
   "codemirror_mode": {
    "name": "ipython",
    "version": 3
   },
   "file_extension": ".py",
   "mimetype": "text/x-python",
   "name": "python",
   "nbconvert_exporter": "python",
   "pygments_lexer": "ipython3",
   "version": "3.12.0"
  }
 },
 "nbformat": 4,
 "nbformat_minor": 5
}
