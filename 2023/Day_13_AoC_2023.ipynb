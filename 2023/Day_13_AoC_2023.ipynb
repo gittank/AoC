{
 "cells": [
  {
   "cell_type": "code",
   "execution_count": 140,
   "id": "66b717f9-c31b-4272-919b-92a12dd89fa8",
   "metadata": {},
   "outputs": [],
   "source": [
    "import urllib.request\n",
    "\n",
    "def gather_input_data(url, sessionId, transform=lambda x: str(x, \"utf-8\").strip('\\n')):\n",
    "    request = urllib.request.Request(url)\n",
    "    request.add_header(\"cookie\", \"session={}\".format(sessionId)) # Source the data directly from AoC\n",
    "\n",
    "    values = []\n",
    "    with urllib.request.urlopen(request) as data:\n",
    "        for line in data:\n",
    "            values.append(transform(line))\n",
    "\n",
    "    return values\n",
    "\n",
    "def get_data(day, year=2023):\n",
    "    with open('sessionID') as f:\n",
    "        sessionId = f.readlines()[0].strip()\n",
    "    url = \"https://adventofcode.com/%d/day/%d/input\"%(year,day)\n",
    "    data = gather_input_data(url, sessionId)\n",
    "    return data\n",
    "    \n",
    "\n",
    "from collections import Counter, defaultdict\n",
    "from itertools import groupby, pairwise\n",
    "import re\n",
    "\n",
    "def list_of_string_transpose(data):\n",
    "    return [''.join(i) for i in zip(*data)]\n",
    "    \n",
    "def find_split(record):\n",
    "    for index in zip(range(len(record)-1), range(1, len(record))):\n",
    "        lo, hi = index\n",
    "        if record[lo] == record[hi]:\n",
    "            found = True\n",
    "            while (lo>0) and (hi<len(record)-1) :\n",
    "                lo -= 1\n",
    "                hi += 1\n",
    "                found = found and (record[lo] == record[hi])\n",
    "            if found:\n",
    "                return index\n",
    "    return \n",
    "\n",
    "def find_split(record, part2):\n",
    "    for index in zip(range(len(record)-1), range(1, len(record))):\n",
    "        lo, hi = index\n",
    "        bit_diff = string_diff(record[lo], record[hi])\n",
    "        while (lo>0) and (hi<len(record)-1) :\n",
    "            lo -= 1\n",
    "            hi += 1\n",
    "            bit_diff += string_diff(record[lo], record[hi])\n",
    "        if (bit_diff == (1 if part2 else 0)):\n",
    "            return index\n",
    "    return \n",
    "\n"
   ]
  },
  {
   "cell_type": "code",
   "execution_count": 141,
   "id": "e7cab6a4-f238-4797-8570-14a0c5b0bde3",
   "metadata": {},
   "outputs": [
    {
     "name": "stdout",
     "output_type": "stream",
     "text": [
      "34772\n",
      "35554\n"
     ]
    }
   ],
   "source": [
    "import itertools\n",
    "records = [list(y) for x, y in itertools.groupby(get_data(13), lambda z: z == '') if not x]\n",
    "\n",
    "for part2 in [False, True]:\n",
    "    out = 0\n",
    "    for ii, record in enumerate(records):\n",
    "        split_index = find_split(record, part2)\n",
    "        if not split_index:\n",
    "            split_index = find_split(list_of_string_transpose(record), part2)\n",
    "            out+= (split_index[1])\n",
    "        else:\n",
    "            out+=  100*split_index[1]\n",
    "    print(out)"
   ]
  },
  {
   "cell_type": "code",
   "execution_count": null,
   "id": "0452a8f6-fa19-4a12-9bd2-e3b9905cb99c",
   "metadata": {},
   "outputs": [],
   "source": []
  }
 ],
 "metadata": {
  "kernelspec": {
   "display_name": "Python 3 (ipykernel)",
   "language": "python",
   "name": "python3"
  },
  "language_info": {
   "codemirror_mode": {
    "name": "ipython",
    "version": 3
   },
   "file_extension": ".py",
   "mimetype": "text/x-python",
   "name": "python",
   "nbconvert_exporter": "python",
   "pygments_lexer": "ipython3",
   "version": "3.12.0"
  }
 },
 "nbformat": 4,
 "nbformat_minor": 5
}
