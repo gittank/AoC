{
 "cells": [
  {
   "cell_type": "code",
   "execution_count": 4,
   "id": "f2ac1616-158c-4e8b-a79a-ba9afb0b1439",
   "metadata": {},
   "outputs": [],
   "source": [
    "import urllib.request\n",
    "\n",
    "def gather_input_data(url, sessionId, transform=lambda x: str(x, \"utf-8\").strip('\\n')):\n",
    "    request = urllib.request.Request(url)\n",
    "    request.add_header(\"cookie\", \"session={}\".format(sessionId)) # Source the data directly from AoC\n",
    "\n",
    "    values = []\n",
    "    with urllib.request.urlopen(request) as data:\n",
    "        for line in data:\n",
    "            values.append(transform(line))\n",
    "\n",
    "    return values\n",
    "\n",
    "def get_data(day, year=2023):\n",
    "    with open('sessionID') as f:\n",
    "        sessionId = f.readlines()[0].strip()\n",
    "    url = \"https://adventofcode.com/%d/day/%d/input\"%(year,day)\n",
    "    data = gather_input_data(url, sessionId)\n",
    "    return data\n",
    "    \n",
    "import re\n",
    "def find_int_in_string(val):\n",
    "    return list(map(int, re.findall('\\\\d+', val)))\n",
    "\n",
    "from collections import Counter, defaultdict\n",
    "def hand_to_rank(hand):\n",
    "    ranking = {'5':7, '14':6, '23':5, '113':4, '122':3, '1112':2, '11111':1}\n",
    "    d = Counter(hand)\n",
    "\n",
    "    if ('1' in list(d.keys())) and (hand != '11111'):\n",
    "        wild = d['1']\n",
    "        del d['1']\n",
    "        highest_count = list(sorted(d.items(), key=lambda item: item[1]))\n",
    "        d[highest_count[-1][0]] += wild\n",
    "    y = sorted(list(d.values()))\n",
    "    z = ''.join([str(val) for val in y])\n",
    "    return ranking[z]\n",
    "\n",
    "def read_rank_sort_hands(part2):\n",
    "    rank = defaultdict(list)\n",
    "\n",
    "    for line in get_data(7):\n",
    "        hand, bid = line.split(' ')\n",
    "        hand = hand.replace('T', 'a')\n",
    "        hand = hand.replace('J', '1' if part2 else 'b')\n",
    "        hand = hand.replace('Q', 'c')\n",
    "        hand = hand.replace('K', 'd')\n",
    "        hand = hand.replace('A', 'e')\n",
    "\n",
    "        rank[hand_to_rank(hand)].append((hand, bid))\n",
    "    \n",
    "    sorted_rank = []\n",
    "    for ii in range(1,8):\n",
    "        sorted_rank = sorted_rank + sorted(rank[ii])\n",
    "\n",
    "    return sorted_rank\n"
   ]
  },
  {
   "cell_type": "code",
   "execution_count": 5,
   "id": "2a53e6e4-9d91-4a2e-a66d-763ac5e0d00b",
   "metadata": {},
   "outputs": [
    {
     "name": "stdout",
     "output_type": "stream",
     "text": [
      "252295678\n",
      "250577259\n"
     ]
    }
   ],
   "source": [
    "for part2 in [False, True]:\n",
    "    sorted_rank = read_rank_sort_hands(part2)\n",
    "\n",
    "    out = 0\n",
    "    for ii, val in enumerate(sorted_rank):\n",
    "        out += ((ii+1) * int(val[1]))\n",
    "    print(out)"
   ]
  },
  {
   "cell_type": "code",
   "execution_count": null,
   "id": "99408987-d622-4d28-bd32-514aaab8c8f4",
   "metadata": {},
   "outputs": [],
   "source": []
  },
  {
   "cell_type": "code",
   "execution_count": null,
   "id": "1927ac28-b5b5-402a-bdba-adc1b1d8bc32",
   "metadata": {},
   "outputs": [],
   "source": []
  }
 ],
 "metadata": {
  "kernelspec": {
   "display_name": "Python 3 (ipykernel)",
   "language": "python",
   "name": "python3"
  },
  "language_info": {
   "codemirror_mode": {
    "name": "ipython",
    "version": 3
   },
   "file_extension": ".py",
   "mimetype": "text/x-python",
   "name": "python",
   "nbconvert_exporter": "python",
   "pygments_lexer": "ipython3",
   "version": "3.12.0"
  }
 },
 "nbformat": 4,
 "nbformat_minor": 5
}
