{
 "cells": [
  {
   "cell_type": "code",
   "execution_count": 1,
   "id": "e5cfe8d0-d8a1-4e14-bdf1-1d9be74fd24d",
   "metadata": {},
   "outputs": [],
   "source": [
    "import urllib.request\n",
    "\n",
    "def gather_input_data(url, sessionId, transform=lambda x: str(x, \"utf-8\").strip('\\n')):\n",
    "    request = urllib.request.Request(url)\n",
    "    request.add_header(\"cookie\", \"session={}\".format(sessionId)) # Source the data directly from AoC\n",
    "\n",
    "    values = []\n",
    "    with urllib.request.urlopen(request) as data:\n",
    "        for line in data:\n",
    "            values.append(transform(line))\n",
    "\n",
    "    return values\n",
    "\n",
    "def get_data(day, year=2023):\n",
    "    with open('sessionID') as f:\n",
    "        sessionId = f.readlines()[0].strip()\n",
    "    url = \"https://adventofcode.com/%d/day/%d/input\"%(year,day)\n",
    "    data = gather_input_data(url, sessionId)\n",
    "    return data\n",
    "    \n",
    "import re\n",
    "def find_int_in_string(val):\n",
    "    return list(map(int, re.findall('\\\\d+', val)))\n",
    "    \n"
   ]
  },
  {
   "cell_type": "code",
   "execution_count": 3,
   "id": "02c11df4-3fae-4f17-a97b-48228df088d7",
   "metadata": {},
   "outputs": [],
   "source": [
    "def isWin(t, time, distance):\n",
    "    return ((time - t) * t) >= distance\n",
    "\n",
    "def newton(start, end, time, distance, forward=True):\n",
    "    while(end - start > 1):\n",
    "        new = start + (end - start) // 2\n",
    "        if isWin(new, time, distance) == forward:\n",
    "            end = new\n",
    "        else:\n",
    "            start = new\n",
    "    return(start, end)\n",
    "\n",
    "def count_wins(start, stop):\n",
    "    return len(list(range(start,stop+1)))\n",
    "\n",
    "def find_wins(time, distance):\n",
    "    start = newton(0, time//2, time, distance)\n",
    "    end = newton(time//2, distance, time, distance, False)\n",
    "    return (count_wins(start[1], end[0]))\n",
    "    \n",
    "data = [find_int_in_string(line) for line in get_data(6)]\n",
    "data = list(zip(data[0], data[1]))"
   ]
  },
  {
   "cell_type": "code",
   "execution_count": 4,
   "id": "ff824241-14e5-4448-bbf2-6fe2b6841ce1",
   "metadata": {},
   "outputs": [
    {
     "name": "stdout",
     "output_type": "stream",
     "text": [
      "303600\n"
     ]
    }
   ],
   "source": [
    "part1 = 1\n",
    "for (time, distance) in data:\n",
    "    part1 *= find_wins(time, distance)\n",
    "print(part1)"
   ]
  },
  {
   "cell_type": "code",
   "execution_count": 5,
   "id": "16add80c-2484-4478-9f02-72dffca2871c",
   "metadata": {},
   "outputs": [
    {
     "name": "stdout",
     "output_type": "stream",
     "text": [
      "23654842\n"
     ]
    }
   ],
   "source": [
    "data = get_data(6)\n",
    "time  = int(''.join(re.findall('\\\\d+', data[0])))\n",
    "distance  = int(''.join(re.findall('\\\\d+', data[1])))\n",
    "print(find_wins(time, distance))"
   ]
  },
  {
   "cell_type": "code",
   "execution_count": null,
   "id": "2cbe3fff-cf81-49c5-9d17-898decabd3be",
   "metadata": {},
   "outputs": [],
   "source": []
  }
 ],
 "metadata": {
  "kernelspec": {
   "display_name": "Python 3 (ipykernel)",
   "language": "python",
   "name": "python3"
  },
  "language_info": {
   "codemirror_mode": {
    "name": "ipython",
    "version": 3
   },
   "file_extension": ".py",
   "mimetype": "text/x-python",
   "name": "python",
   "nbconvert_exporter": "python",
   "pygments_lexer": "ipython3",
   "version": "3.12.0"
  }
 },
 "nbformat": 4,
 "nbformat_minor": 5
}
