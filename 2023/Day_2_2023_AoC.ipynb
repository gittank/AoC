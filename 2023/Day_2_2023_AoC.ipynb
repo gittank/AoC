{
 "cells": [
  {
   "cell_type": "code",
   "execution_count": 121,
   "id": "ad3a9f8d",
   "metadata": {},
   "outputs": [],
   "source": [
    "import urllib.request\n",
    "\n",
    "def gather_input_data(url, sessionId, transform=lambda x: str(x, \"utf-8\").strip('\\n')):\n",
    "    request = urllib.request.Request(url)\n",
    "    request.add_header(\"cookie\", \"session={}\".format(sessionId)) # Source the data directly from AoC\n",
    "\n",
    "    values = []\n",
    "    with urllib.request.urlopen(request) as data:\n",
    "        for line in data:\n",
    "            values.append(transform(line))\n",
    "\n",
    "    return values\n",
    "\n",
    "def get_data(day, year=2023):\n",
    "    with open('sessionID') as f:\n",
    "        sessionId = f.readlines()[0].strip()\n",
    "    url = \"https://adventofcode.com/%d/day/%d/input\"%(year,day)\n",
    "    data = gather_input_data(url, sessionId)\n",
    "    return data\n",
    "\n",
    "import re\n",
    "def find_int_in_string(val):\n",
    "    return list(map(int, re.findall('\\d+', val)))[0]"
   ]
  },
  {
   "cell_type": "code",
   "execution_count": 152,
   "id": "ab64c1d7",
   "metadata": {},
   "outputs": [],
   "source": [
    "max_tile = {'blue':14, 'green':13, 'red':12}\n",
    "\n",
    "class tile(object):\n",
    "    def __init__(self, description):\n",
    "        count, color = description.split(' ')\n",
    "        self.color = color\n",
    "        self.count = int(count)\n",
    "    \n",
    "    def display(self):\n",
    "        print('color', self.color)\n",
    "        print('count', self.count)\n",
    "    \n",
    "    def possible(self):\n",
    "        return self.count <= max_tile[self.color]\n",
    "    \n",
    "    def max_count(self, count):\n",
    "        return max(self.count, count[self.color])\n",
    "        \n",
    "        \n",
    "def power(count):\n",
    "    out = 1\n",
    "    val=list(count.values())\n",
    "    for count_val in val:\n",
    "        out = out*count_val\n",
    "    return out\n",
    "    \n"
   ]
  },
  {
   "cell_type": "code",
   "execution_count": 154,
   "id": "a524deb9",
   "metadata": {},
   "outputs": [
    {
     "name": "stdout",
     "output_type": "stream",
     "text": [
      "2810\n",
      "69110\n"
     ]
    }
   ],
   "source": [
    "part1 = 0\n",
    "part2 = 0\n",
    "for line in get_data(2):\n",
    "    possible = True\n",
    "    tile_count = {'red':0, 'blue':0, 'green':0}\n",
    "    game, trial = line.split(':')\n",
    "\n",
    "    for outcomes in trial.split(';'):\n",
    "        for tile_description in outcomes.split(','):\n",
    "            t = tile(tile_description.strip())\n",
    "            tile_count[t.color] = t.max_count(tile_count)\n",
    "            possible = possible and t.possible()\n",
    "    \n",
    "    if possible:\n",
    "        part1 += find_int_in_string(game)\n",
    "        \n",
    "    part2 += power(tile_count)\n",
    "    \n",
    "print(part1)\n",
    "print(part2)"
   ]
  },
  {
   "cell_type": "code",
   "execution_count": 114,
   "id": "733aefe2",
   "metadata": {},
   "outputs": [
    {
     "name": "stdout",
     "output_type": "stream",
     "text": [
      "2810\n",
      "69110\n"
     ]
    }
   ],
   "source": [
    "blue_max = 14\n",
    "green_max = 13\n",
    "red_max = 12\n",
    "possible_games = []\n",
    "power_games = []\n",
    "\n",
    "for line in get_data(2):\n",
    "    possible = True\n",
    "    blue_hi = 0\n",
    "    green_hi = 0\n",
    "    red_hi = 0\n",
    "\n",
    "    game, trial = line.split(':')\n",
    "    for outcomes in trial.split(';'):\n",
    "        for tiles in outcomes.split(','):\n",
    "            if 'blue' in tiles:\n",
    "                number_tiles = find_int_in_string(tiles)[0]\n",
    "                if  number_tiles > blue_max:\n",
    "                    possible = False\n",
    "                if number_tiles > blue_hi:\n",
    "                    blue_hi = number_tiles\n",
    "            if 'green' in tiles:\n",
    "                number_tiles = find_int_in_string(tiles)[0]\n",
    "                if find_int_in_string(tiles)[0] > green_max:\n",
    "                    possible = False\n",
    "                if number_tiles > green_hi:\n",
    "                    green_hi = number_tiles\n",
    "            if 'red' in tiles:\n",
    "                number_tiles = find_int_in_string(tiles)[0]\n",
    "                if find_int_in_string(tiles)[0] > red_max:\n",
    "                    possible = False\n",
    "                if number_tiles > red_hi:\n",
    "                    red_hi = number_tiles\n",
    "    power_games.append(blue_hi * green_hi * red_hi)\n",
    "    if possible:\n",
    "        possible_games.append(find_int_in_string(game)[0])\n",
    "print(sum(possible_games))\n",
    "print(sum(power_games))"
   ]
  },
  {
   "cell_type": "code",
   "execution_count": null,
   "id": "c9051d70",
   "metadata": {},
   "outputs": [],
   "source": []
  },
  {
   "cell_type": "code",
   "execution_count": null,
   "id": "ccf22340",
   "metadata": {},
   "outputs": [],
   "source": []
  }
 ],
 "metadata": {
  "kernelspec": {
   "display_name": "Python 3 (ipykernel)",
   "language": "python",
   "name": "python3"
  },
  "language_info": {
   "codemirror_mode": {
    "name": "ipython",
    "version": 3
   },
   "file_extension": ".py",
   "mimetype": "text/x-python",
   "name": "python",
   "nbconvert_exporter": "python",
   "pygments_lexer": "ipython3",
   "version": "3.9.15"
  }
 },
 "nbformat": 4,
 "nbformat_minor": 5
}
