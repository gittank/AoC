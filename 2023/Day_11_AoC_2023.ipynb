{
 "cells": [
  {
   "cell_type": "code",
   "execution_count": 1,
   "id": "7b6e3ecc-fb06-4361-86b9-91a90d729da4",
   "metadata": {},
   "outputs": [],
   "source": [
    "import urllib.request\n",
    "\n",
    "def gather_input_data(url, sessionId, transform=lambda x: str(x, \"utf-8\").strip('\\n')):\n",
    "    request = urllib.request.Request(url)\n",
    "    request.add_header(\"cookie\", \"session={}\".format(sessionId)) # Source the data directly from AoC\n",
    "\n",
    "    values = []\n",
    "    with urllib.request.urlopen(request) as data:\n",
    "        for line in data:\n",
    "            values.append(transform(line))\n",
    "\n",
    "    return values\n",
    "\n",
    "def get_data(day, year=2023):\n",
    "    with open('sessionID') as f:\n",
    "        sessionId = f.readlines()[0].strip()\n",
    "    url = \"https://adventofcode.com/%d/day/%d/input\"%(year,day)\n",
    "    data = gather_input_data(url, sessionId)\n",
    "    return data\n",
    "    \n",
    "\n",
    "from collections import Counter, defaultdict\n",
    "from itertools import groupby, pairwise\n",
    "import re\n"
   ]
  },
  {
   "cell_type": "code",
   "execution_count": 124,
   "id": "c3a6c51e-20a0-4a28-86ca-174a013f7d64",
   "metadata": {},
   "outputs": [],
   "source": [
    "def find_expand(data):\n",
    "    index_expand = []\n",
    "    for ii, line in enumerate(data):\n",
    "        if line == '.'*len(line):\n",
    "            index_expand.append(ii)\n",
    "    return index_expand\n",
    "\n",
    "def list_transpose(data):\n",
    "    return [''.join(i) for i in zip(*data)]\n",
    "\n",
    "def find_galaxy(data):\n",
    "    loc =[]\n",
    "    for ii,row in enumerate(data):\n",
    "        m = re.finditer('#', data[ii])   \n",
    "        for idx in m:\n",
    "            loc.append((ii,idx.span()[0]))\n",
    "    return loc\n",
    "    \n",
    "def find_expansions(s, expand_list):\n",
    "    found = []\n",
    "    for val in expand_list:\n",
    "        found.append(min(s)<val<max(s))\n",
    "    return sum(found)\n",
    "    \n",
    "def find_distance(g1, g2, part2):\n",
    "    dist0 =  abs(g1[0] - g2[0]) + abs(g1[1] - g2[1])\n",
    "    expansion_factor = (1000000-1) if part2 else 1\n",
    "    # extra rows\n",
    "    extra_rows = find_expansions((g1[0], g2[0]), row_expand)\n",
    "    extra_cols = find_expansions((g1[1], g2[1]), col_expand)\n",
    "    dist = dist0 + extra_rows*expansion_factor + extra_cols*expansion_factor\n",
    "    return dist"
   ]
  },
  {
   "cell_type": "code",
   "execution_count": 227,
   "id": "6f40a356-61d9-4739-8fca-0b6f61423b24",
   "metadata": {},
   "outputs": [
    {
     "name": "stdout",
     "output_type": "stream",
     "text": [
      "9233514\n"
     ]
    }
   ],
   "source": [
    "data = get_data(11)\n",
    "row_expand = find_expand(data)\n",
    "col_expand = find_expand(list_transpose(data))\n",
    "row_expand = [ii+val for ii, val in enumerate(row_expand)]\n",
    "col_expand = [ii+val for ii, val in enumerate(col_expand)]\n",
    "data = expand(data, row_expand)\n",
    "data = list_transpose(expand(list_transpose(data), col_expand))\n",
    "galaxy_index = find_galaxy(data)\n",
    "\n",
    "debug = []\n",
    "part1 = 0\n",
    "for ii in range(len(galaxy_index)):\n",
    "    for jj in range(ii+1, len(galaxy_index)):\n",
    "        dist0 = abs(galaxy_index[ii][0] - galaxy_index[jj][0]) + abs(galaxy_index[ii][1] - galaxy_index[jj][1])\n",
    "        part1 += dist0\n",
    "        debug.append(dist0)\n",
    "print(part1)        "
   ]
  },
  {
   "cell_type": "code",
   "execution_count": null,
   "id": "1714c2e4-8656-40ee-84b8-93460438e27e",
   "metadata": {},
   "outputs": [],
   "source": []
  },
  {
   "cell_type": "code",
   "execution_count": null,
   "id": "cf3d049c-2fb6-45bc-b035-98b584de87df",
   "metadata": {},
   "outputs": [],
   "source": []
  },
  {
   "cell_type": "code",
   "execution_count": null,
   "id": "1916ab2d-21ad-4810-a165-68ea2cae410c",
   "metadata": {},
   "outputs": [],
   "source": []
  },
  {
   "cell_type": "code",
   "execution_count": 238,
   "id": "6b618d56-79cf-41eb-83cc-29870210e772",
   "metadata": {},
   "outputs": [
    {
     "name": "stdout",
     "output_type": "stream",
     "text": [
      "9233514\n",
      "363293506944\n"
     ]
    }
   ],
   "source": [
    "data = get_data(11)\n",
    "row_expand = find_expand(data)\n",
    "col_expand = find_expand(list_transpose(data))\n",
    "galaxy_index = find_galaxy(data)\n",
    "\n",
    "\n",
    "    \n",
    "for part2 in [False, True]:\n",
    "    out = 0\n",
    "    for ii in range(len(galaxy_index)):\n",
    "        for jj in range(ii+1, len(galaxy_index)):\n",
    "            dist = find_distance(galaxy_index[ii], galaxy_index[jj], part2)\n",
    "            out += dist\n",
    "    print(out)        "
   ]
  }
 ],
 "metadata": {
  "kernelspec": {
   "display_name": "Python 3 (ipykernel)",
   "language": "python",
   "name": "python3"
  },
  "language_info": {
   "codemirror_mode": {
    "name": "ipython",
    "version": 3
   },
   "file_extension": ".py",
   "mimetype": "text/x-python",
   "name": "python",
   "nbconvert_exporter": "python",
   "pygments_lexer": "ipython3",
   "version": "3.12.0"
  }
 },
 "nbformat": 4,
 "nbformat_minor": 5
}
