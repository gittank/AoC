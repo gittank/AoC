{
 "cells": [
  {
   "cell_type": "code",
   "execution_count": 182,
   "id": "e92cd5d9-0338-429b-a902-e52bd2ee8bc6",
   "metadata": {},
   "outputs": [],
   "source": [
    "import urllib.request\n",
    "\n",
    "def gather_input_data(url, sessionId, transform=lambda x: str(x, \"utf-8\").strip('\\n')):\n",
    "    request = urllib.request.Request(url)\n",
    "    request.add_header(\"cookie\", \"session={}\".format(sessionId)) # Source the data directly from AoC\n",
    "\n",
    "    values = []\n",
    "    with urllib.request.urlopen(request) as data:\n",
    "        for line in data:\n",
    "            values.append(transform(line))\n",
    "\n",
    "    return values\n",
    "\n",
    "def get_data(day, year=2023):\n",
    "    with open('sessionID') as f:\n",
    "        sessionId = f.readlines()[0].strip()\n",
    "    url = \"https://adventofcode.com/%d/day/%d/input\"%(year,day)\n",
    "    data = gather_input_data(url, sessionId)\n",
    "    return data\n",
    "    \n",
    "\n",
    "from collections import Counter, defaultdict\n",
    "from itertools import groupby, pairwise\n",
    "\n",
    "        \n",
    "def disp(c):\n",
    "    x,y = c\n",
    "    print(data[x-1][y-1:y+2])\n",
    "    print(data[x][y-1:y+2])\n",
    "    print(data[x+1][y-1:y+2])\n",
    "\n",
    "def tile(c):\n",
    "    x,y = c\n",
    "    return data[x][y]\n",
    "\n",
    "def tile_diff(a,b):\n",
    "    x1,y1 = a\n",
    "    x2,y2 = b\n",
    "    return (x1-x2, y1-y2)\n",
    "\n",
    "def tile_add(a,b):\n",
    "    x1,y1 = a\n",
    "    x2,y2 = b\n",
    "    return (x1+x2, y1+y2)\n",
    "\n",
    "def find_start(data):\n",
    "    for ii, val in enumerate(data):\n",
    "        if 'S' in val:\n",
    "            return (ii, data[ii].find('S'))"
   ]
  },
  {
   "cell_type": "code",
   "execution_count": 186,
   "id": "6e437158-4bc6-46ef-a34a-03852159906e",
   "metadata": {},
   "outputs": [
    {
     "name": "stdout",
     "output_type": "stream",
     "text": [
      "7F7\n",
      "LS|\n",
      "7FJ\n"
     ]
    }
   ],
   "source": [
    "data = get_data(10)\n",
    "start = find_start(data)\n",
    "disp(start)"
   ]
  },
  {
   "cell_type": "code",
   "execution_count": 156,
   "id": "1c8fb9ef-1adb-4c97-a5d6-24d3f9e69d40",
   "metadata": {},
   "outputs": [
    {
     "name": "stdout",
     "output_type": "stream",
     "text": [
      "6942\n"
     ]
    }
   ],
   "source": [
    "move = [(-1,0), (0,-1), (0,1), (1,0)]\n",
    "new = {(3,'J'): 1, (2,'J'): 0, (0,'F'):2, (1,'F'):3, (2,'7'):3, (0,'7'):1, (3,'|'):3, (0,'|'):0, (3,'L'):2, (1,'L'):0, (2,'-'):2, (1,'-'):1}\n",
    "\n",
    "path = []\n",
    "here = start\n",
    "path.append(here)\n",
    "old = 2\n",
    "old = new[(old,'J')]\n",
    "here = tile_add(here, move[old])\n",
    "path.append(here)\n",
    "symbol = tile(here)\n",
    "\n",
    "while symbol != 'S':\n",
    "    old = new[(old,symbol)]\n",
    "    here = tile_add(here, move[old])\n",
    "    path.append(here)\n",
    "    symbol = tile(here)\n",
    "print(len(path)//2)"
   ]
  },
  {
   "cell_type": "code",
   "execution_count": 187,
   "id": "f76a686d-14f8-48cd-9893-660044cccc46",
   "metadata": {},
   "outputs": [
    {
     "name": "stdout",
     "output_type": "stream",
     "text": [
      "297\n"
     ]
    }
   ],
   "source": [
    "part2 = 0\n",
    "\n",
    "for x in range(len(data)):\n",
    "    for y in range(len(data[0])):\n",
    "        if not (x,y) in path:\n",
    "            data[x] = data[x][:y] + '.' + data[x][y + 1:]\n",
    "\n",
    "for line in data:\n",
    "    interior = 0\n",
    "    line = re.sub(r\"F-*7|L-*J\", \"\", \"\".join(line))\n",
    "    line = re.sub(r\"F-*J|L-*7\", \"|\", line)\n",
    "    for c in line:\n",
    "      if c == \"|\":\n",
    "        interior += 1\n",
    "      if interior % 2 == 1 and c == \".\":\n",
    "        part2 += 1\n",
    "print(part2)"
   ]
  },
  {
   "cell_type": "code",
   "execution_count": null,
   "id": "6ab1912e-27f2-4b7a-b98b-248379b7e772",
   "metadata": {},
   "outputs": [],
   "source": []
  }
 ],
 "metadata": {
  "kernelspec": {
   "display_name": "Python 3 (ipykernel)",
   "language": "python",
   "name": "python3"
  },
  "language_info": {
   "codemirror_mode": {
    "name": "ipython",
    "version": 3
   },
   "file_extension": ".py",
   "mimetype": "text/x-python",
   "name": "python",
   "nbconvert_exporter": "python",
   "pygments_lexer": "ipython3",
   "version": "3.12.0"
  }
 },
 "nbformat": 4,
 "nbformat_minor": 5
}
