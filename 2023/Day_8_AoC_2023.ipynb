{
 "cells": [
  {
   "cell_type": "code",
   "execution_count": 1,
   "id": "daf4577c-4873-409c-98fc-52d9a86f4a04",
   "metadata": {},
   "outputs": [],
   "source": [
    "import urllib.request\n",
    "\n",
    "def gather_input_data(url, sessionId, transform=lambda x: str(x, \"utf-8\").strip('\\n')):\n",
    "    request = urllib.request.Request(url)\n",
    "    request.add_header(\"cookie\", \"session={}\".format(sessionId)) # Source the data directly from AoC\n",
    "\n",
    "    values = []\n",
    "    with urllib.request.urlopen(request) as data:\n",
    "        for line in data:\n",
    "            values.append(transform(line))\n",
    "\n",
    "    return values\n",
    "\n",
    "def get_data(day, year=2023):\n",
    "    with open('sessionID') as f:\n",
    "        sessionId = f.readlines()[0].strip()\n",
    "    url = \"https://adventofcode.com/%d/day/%d/input\"%(year,day)\n",
    "    data = gather_input_data(url, sessionId)\n",
    "    return data\n",
    "    \n",
    "import re\n",
    "def find_int_in_string(val):\n",
    "    return list(map(int, re.findall('\\\\d+', val)))\n",
    "\n",
    "from collections import Counter, defaultdict\n",
    "from itertools import groupby\n"
   ]
  },
  {
   "cell_type": "code",
   "execution_count": 31,
   "id": "0f622998-50b6-424b-b3d2-60f3288805ed",
   "metadata": {},
   "outputs": [],
   "source": [
    "instruction, *node_list = [list(y) for x, y in groupby(get_data(8), lambda z: z == '') if not x]\n",
    "\n",
    "node_map = defaultdict(tuple)\n",
    "for val in node_list[0]:\n",
    "    k, l, r = re.findall('\\\\w{3}',val)\n",
    "    node_map[k] = (l,r)\n",
    "instruction = instruction[0].replace('L','0').replace('R','1')\n",
    "\n",
    "\n"
   ]
  },
  {
   "cell_type": "code",
   "execution_count": 37,
   "id": "7424c938-b278-44db-889a-a6c9fd6a28cc",
   "metadata": {},
   "outputs": [
    {
     "name": "stdout",
     "output_type": "stream",
     "text": [
      "[17873]\n",
      "17873\n",
      "[17873, 19631, 17287, 12599, 21389, 20803]\n",
      "15746133679061\n"
     ]
    }
   ],
   "source": [
    "from itertools import cycle\n",
    "from math import lcm\n",
    "\n",
    "def solve_path(part2, node_map = node_map, instruction=instruction):\n",
    "    current = [n for n in node_map if n.endswith('A' if part2 else 'AAA')]\n",
    "    path_lengths = []\n",
    "    for cur in current:\n",
    "        start = cur\n",
    "        s = 0\n",
    "        for c in cycle(instruction):\n",
    "            s += 1\n",
    "            cur = node_map[cur][int(c)]\n",
    "            if cur.endswith('Z'):\n",
    "                path_lengths.append(s)\n",
    "                break\n",
    "    print(path_lengths)\n",
    "    print(lcm(*path_lengths))\n",
    "solve_path(False)\n",
    "solve_path(True)"
   ]
  },
  {
   "cell_type": "code",
   "execution_count": null,
   "id": "3530dca7-cf06-428f-ba30-d9e7ad63c400",
   "metadata": {},
   "outputs": [],
   "source": []
  },
  {
   "cell_type": "code",
   "execution_count": null,
   "id": "0b9310fa-eb28-4b01-81fe-ba6ae861b77a",
   "metadata": {},
   "outputs": [],
   "source": []
  },
  {
   "cell_type": "code",
   "execution_count": null,
   "id": "50bf2e94-07ca-4930-a5e5-ce810c52b9a0",
   "metadata": {},
   "outputs": [],
   "source": []
  },
  {
   "cell_type": "code",
   "execution_count": null,
   "id": "f1fdeb35-586e-4e6b-ba0e-6b7faa558a57",
   "metadata": {},
   "outputs": [],
   "source": []
  },
  {
   "cell_type": "code",
   "execution_count": null,
   "id": "6fa96ab8-7a77-410f-a58c-4155d165666c",
   "metadata": {},
   "outputs": [],
   "source": []
  },
  {
   "cell_type": "code",
   "execution_count": null,
   "id": "5a80b013-ebef-494d-a090-1db53a1fb9e7",
   "metadata": {},
   "outputs": [],
   "source": []
  },
  {
   "cell_type": "code",
   "execution_count": null,
   "id": "cb11012f-afd0-4365-a847-59662aace43d",
   "metadata": {},
   "outputs": [],
   "source": []
  },
  {
   "cell_type": "code",
   "execution_count": null,
   "id": "e983edef-a94c-4ee0-b7ca-3eb56bb5771e",
   "metadata": {},
   "outputs": [],
   "source": []
  },
  {
   "cell_type": "code",
   "execution_count": null,
   "id": "fafd202b-14c6-4335-b1a0-c5531fb89574",
   "metadata": {},
   "outputs": [],
   "source": []
  },
  {
   "cell_type": "code",
   "execution_count": null,
   "id": "2dfdb8cb-4e40-42e5-b348-0896c6a2f161",
   "metadata": {},
   "outputs": [],
   "source": []
  },
  {
   "cell_type": "code",
   "execution_count": null,
   "id": "e0239005-e806-4424-bbfd-fe59e279b60d",
   "metadata": {},
   "outputs": [],
   "source": []
  },
  {
   "cell_type": "code",
   "execution_count": null,
   "id": "2861eaf1-b4ae-42dc-8036-0e96f24098e5",
   "metadata": {},
   "outputs": [],
   "source": []
  },
  {
   "cell_type": "code",
   "execution_count": null,
   "id": "f6526fcf-8ed9-4b9b-9607-d2f3946e74ae",
   "metadata": {},
   "outputs": [],
   "source": []
  },
  {
   "cell_type": "code",
   "execution_count": null,
   "id": "8b10d8e1-6b19-40a6-a81c-e055e57d0e82",
   "metadata": {},
   "outputs": [],
   "source": []
  }
 ],
 "metadata": {
  "kernelspec": {
   "display_name": "Python 3 (ipykernel)",
   "language": "python",
   "name": "python3"
  },
  "language_info": {
   "codemirror_mode": {
    "name": "ipython",
    "version": 3
   },
   "file_extension": ".py",
   "mimetype": "text/x-python",
   "name": "python",
   "nbconvert_exporter": "python",
   "pygments_lexer": "ipython3",
   "version": "3.12.0"
  }
 },
 "nbformat": 4,
 "nbformat_minor": 5
}
