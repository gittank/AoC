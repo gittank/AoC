{
 "cells": [
  {
   "cell_type": "code",
   "execution_count": 3,
   "id": "13db9b51-84b1-45b4-83ad-e035f611fa69",
   "metadata": {},
   "outputs": [],
   "source": [
    "import urllib.request\n",
    "\n",
    "def gather_input_data(url, sessionId, transform=lambda x: str(x, \"utf-8\").strip('\\n')):\n",
    "    request = urllib.request.Request(url)\n",
    "    request.add_header(\"cookie\", \"session={}\".format(sessionId)) # Source the data directly from AoC\n",
    "\n",
    "    values = []\n",
    "    with urllib.request.urlopen(request) as data:\n",
    "        for line in data:\n",
    "            values.append(transform(line))\n",
    "\n",
    "    return values\n",
    "\n",
    "def get_data(day, year=2023):\n",
    "    with open('sessionID') as f:\n",
    "        sessionId = f.readlines()[0].strip()\n",
    "    url = \"https://adventofcode.com/%d/day/%d/input\"%(year,day)\n",
    "    data = gather_input_data(url, sessionId)\n",
    "    return data\n",
    "\n",
    "\n",
    "def list_str_intersection(a,b):\n",
    "    return list(set(a).intersection(b))\n"
   ]
  },
  {
   "cell_type": "code",
   "execution_count": 4,
   "id": "18480a5a-2e79-4d0d-80f3-8baa9e89394c",
   "metadata": {},
   "outputs": [
    {
     "name": "stdout",
     "output_type": "stream",
     "text": [
      "25004\n",
      "14427616\n"
     ]
    }
   ],
   "source": [
    "from collections import defaultdict\n",
    "num_cards = defaultdict(int)\n",
    "part1 = 0\n",
    "\n",
    "for ii, line in enumerate(get_data(4)):\n",
    "    num_cards[ii] = num_cards[ii] + 1\n",
    "    card, numbers = line.split(':')\n",
    "    win, play = numbers.split('|')\n",
    "    match_num = len(list_str_intersection(win.split(), play.split()))\n",
    "    if match_num:\n",
    "        part1 += 2**(match_num-1)\n",
    "        for idx in range(match_num):\n",
    "            num_cards[ii+idx+1] = num_cards[ii+idx+1] + num_cards[ii]\n",
    "print(part1)\n",
    "print(sum(num_cards.values()))"
   ]
  },
  {
   "cell_type": "code",
   "execution_count": null,
   "id": "2a2cb49e-041b-43de-8d5c-35fc87885cca",
   "metadata": {},
   "outputs": [],
   "source": []
  }
 ],
 "metadata": {
  "kernelspec": {
   "display_name": "Python 3 (ipykernel)",
   "language": "python",
   "name": "python3"
  },
  "language_info": {
   "codemirror_mode": {
    "name": "ipython",
    "version": 3
   },
   "file_extension": ".py",
   "mimetype": "text/x-python",
   "name": "python",
   "nbconvert_exporter": "python",
   "pygments_lexer": "ipython3",
   "version": "3.12.0"
  }
 },
 "nbformat": 4,
 "nbformat_minor": 5
}
