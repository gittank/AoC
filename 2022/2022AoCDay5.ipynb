{
 "cells": [
  {
   "cell_type": "code",
   "execution_count": 1,
   "metadata": {},
   "outputs": [
    {
     "data": {
      "text/html": [
       "\n",
       "        <iframe\n",
       "            width=\"1000\"\n",
       "            height=\"600\"\n",
       "            src=\"https://adventofcode.com/2022\"\n",
       "            frameborder=\"0\"\n",
       "            allowfullscreen\n",
       "            \n",
       "        ></iframe>\n",
       "        "
      ],
      "text/plain": [
       "<IPython.lib.display.IFrame at 0x1076f5fd0>"
      ]
     },
     "execution_count": 1,
     "metadata": {},
     "output_type": "execute_result"
    }
   ],
   "source": [
    "from IPython.display import IFrame\n",
    "url = \"https://adventofcode.com/2022\"\n",
    "IFrame(src=url, width=1000, height=600)"
   ]
  },
  {
   "cell_type": "code",
   "execution_count": 2,
   "metadata": {},
   "outputs": [],
   "source": [
    "import urllib.request\n",
    "\n",
    "def gather_input_data(url, sessionId, transform=lambda x: str(x, \"utf-8\").strip('\\n')):\n",
    "    request = urllib.request.Request(url)\n",
    "    request.add_header(\"cookie\", \"session={}\".format(sessionId)) # Source the data directly from AoC\n",
    "\n",
    "    values = []\n",
    "    with urllib.request.urlopen(request) as data:\n",
    "        for line in data:\n",
    "            values.append(transform(line))\n",
    "\n",
    "    return values\n",
    "\n",
    "def get_data(day, year=2022):\n",
    "    with open('sessionID') as f:\n",
    "        sessionId = f.readlines()[0]\n",
    "    url = \"https://adventofcode.com/%d/day/%d/input\"%(year,day)\n",
    "    data = gather_input_data(url, sessionId)\n",
    "    return data\n"
   ]
  },
  {
   "cell_type": "code",
   "execution_count": 4,
   "metadata": {},
   "outputs": [],
   "source": [
    "def init_stacks(setup):\n",
    "    s0 = []\n",
    "    s1 = []\n",
    "    s2 = []\n",
    "    s3 = []\n",
    "    s4 = []\n",
    "    s5 = []\n",
    "    s6 = []\n",
    "    s7 = []\n",
    "    s8 = []\n",
    "    s9 = []\n",
    "    stacks = [s0,s1,s2,s3,s4,s5,s6,s7,s8,s9]\n",
    "    for jj in range(-2,-10,-1):\n",
    "        for ii,val in enumerate(range(1,35,4)):\n",
    "            crate = setup[jj][val]\n",
    "            if crate != ' ':\n",
    "                stacks[ii+1].append(crate)\n",
    "    return stacks\n",
    "\n",
    "            \n",
    "def parse_instructions(line):\n",
    "    out = line.split(' ')\n",
    "    return int(out[1]), int(out[3]), int(out[5])\n",
    "\n",
    "def move_crates(stacks, count, pop_stack, push_stack):\n",
    "    for ii in range(count):\n",
    "        crate = stacks[pop_stack].pop()\n",
    "        stacks[push_stack].append(crate)\n",
    "    return stacks\n",
    "\n",
    "def move_crates_9001(stacks, count, pop_stack, push_stack):\n",
    "    crate = []\n",
    "    for ii in range(count):\n",
    "        crate.append(stacks[pop_stack].pop())\n",
    "    for ii in range(count):\n",
    "        stacks[push_stack].append(crate.pop())\n",
    "    return stacks\n",
    "\n",
    "def get_answer(stacks):\n",
    "    return ''.join([stack[-1] for stack in stacks[1:]])\n"
   ]
  },
  {
   "cell_type": "code",
   "execution_count": 5,
   "metadata": {},
   "outputs": [],
   "source": [
    "from itertools import groupby\n",
    "data = get_data(5)\n",
    "records = [list(y) for x, y in groupby(data, lambda z: z == '') if not x]\n",
    "setup = records[0]\n",
    "instructions = records[1]\n",
    "\n",
    "\n",
    "stacks = init_stacks(setup)\n",
    "for instruction in instructions:\n",
    "    count, pop_stack, push_stack = parse_instructions(instruction)\n",
    "    stacks = move_crates(stacks, count, pop_stack, push_stack)\n",
    "part1 = get_answer(stacks)\n",
    "\n",
    "stacks = init_stacks(setup)\n",
    "for instruction in instructions:\n",
    "    count, pop_stack, push_stack = parse_instructions(instruction)\n",
    "    stacks = move_crates_9001(stacks, count, pop_stack, push_stack)\n",
    "part2 = get_answer(stacks)\n"
   ]
  },
  {
   "cell_type": "code",
   "execution_count": 6,
   "metadata": {},
   "outputs": [
    {
     "name": "stdout",
     "output_type": "stream",
     "text": [
      "GRTSWNJHH QLFQDBBHM\n"
     ]
    }
   ],
   "source": [
    "print(part1, part2)"
   ]
  },
  {
   "cell_type": "code",
   "execution_count": null,
   "metadata": {},
   "outputs": [],
   "source": []
  }
 ],
 "metadata": {
  "kernelspec": {
   "display_name": "Python 3 (ipykernel)",
   "language": "python",
   "name": "python3"
  },
  "language_info": {
   "codemirror_mode": {
    "name": "ipython",
    "version": 3
   },
   "file_extension": ".py",
   "mimetype": "text/x-python",
   "name": "python",
   "nbconvert_exporter": "python",
   "pygments_lexer": "ipython3",
   "version": "3.8.13"
  }
 },
 "nbformat": 4,
 "nbformat_minor": 4
}
