{
 "cells": [
  {
   "cell_type": "code",
   "execution_count": 69,
   "metadata": {},
   "outputs": [
    {
     "data": {
      "text/html": [
       "\n",
       "        <iframe\n",
       "            width=\"1000\"\n",
       "            height=\"600\"\n",
       "            src=\"https://adventofcode.com/2022/day/7\"\n",
       "            frameborder=\"0\"\n",
       "            allowfullscreen\n",
       "            \n",
       "        ></iframe>\n",
       "        "
      ],
      "text/plain": [
       "<IPython.lib.display.IFrame at 0x10cf67370>"
      ]
     },
     "execution_count": 69,
     "metadata": {},
     "output_type": "execute_result"
    }
   ],
   "source": [
    "day = 7\n",
    "from IPython.display import IFrame\n",
    "url = \"https://adventofcode.com/2022/day/%d\"%(day)\n",
    "IFrame(src=url, width=1000, height=600)"
   ]
  },
  {
   "cell_type": "code",
   "execution_count": 73,
   "metadata": {},
   "outputs": [],
   "source": [
    "import urllib.request\n",
    "import sys\n",
    "from collections import defaultdict\n",
    "\n",
    "def gather_input_data(url, sessionId, transform=lambda x: str(x, \"utf-8\").strip('\\n')):\n",
    "    request = urllib.request.Request(url)\n",
    "    request.add_header(\"cookie\", \"session={}\".format(sessionId)) # Source the data directly from AoC\n",
    "\n",
    "    values = []\n",
    "    with urllib.request.urlopen(request) as data:\n",
    "        for line in data:\n",
    "            values.append(transform(line))\n",
    "\n",
    "    return values\n",
    "\n",
    "def get_data(day, year=2022):\n",
    "    with open('sessionID') as f:\n",
    "        sessionId = f.readlines()[0]\n",
    "    url = \"https://adventofcode.com/%d/day/%d/input\"%(year,day)\n",
    "    data = gather_input_data(url, sessionId)\n",
    "    return data\n",
    "\n"
   ]
  },
  {
   "cell_type": "code",
   "execution_count": 97,
   "metadata": {},
   "outputs": [],
   "source": [
    "def parse(data, path, sum_size):\n",
    "    for line in data:\n",
    "        words = line.strip().split()\n",
    "        if words[1] == 'cd':\n",
    "            if words[2] == '..':\n",
    "                path.pop()\n",
    "            else:\n",
    "                path.append(words[2])\n",
    "        elif words[1] == 'ls':\n",
    "            continue\n",
    "        elif words[0] == 'dir':\n",
    "            continue\n",
    "        else:\n",
    "            filesize = int(words[0])\n",
    "            # add this file's size to the current directory size *and* the size of all parents\n",
    "            # recursion would be faster, but this is the EE signal processing version of doing things\n",
    "            for ii in range(1, len(path)+1):\n",
    "                sum_size['/'.join(path[:ii])] += filesize\n",
    "    return path, sum_size"
   ]
  },
  {
   "cell_type": "code",
   "execution_count": 106,
   "metadata": {},
   "outputs": [
    {
     "name": "stdout",
     "output_type": "stream",
     "text": [
      "1582412 3696336\n"
     ]
    }
   ],
   "source": [
    "data = get_data(day)\n",
    "sum_size = defaultdict(int)\n",
    "path = []\n",
    "path, sum_size = parse(data, path, sum_size)\n",
    "\n",
    "part1 = 0\n",
    "part2 = 1e9\n",
    "max_used = 70000000 - 30000000\n",
    "total_used = sum_size['/']\n",
    "need_to_free = total_used - max_used\n",
    "\n",
    "for key,val in sum_size.items():\n",
    "    \n",
    "    if val <= 100000:\n",
    "        part1 = part1 + val\n",
    "        \n",
    "    if val >= need_to_free:\n",
    "        part2 = min(part2, val)   \n",
    "        \n",
    "print(part1, part2)\n"
   ]
  },
  {
   "cell_type": "code",
   "execution_count": null,
   "metadata": {},
   "outputs": [],
   "source": []
  }
 ],
 "metadata": {
  "kernelspec": {
   "display_name": "Python 3 (ipykernel)",
   "language": "python",
   "name": "python3"
  },
  "language_info": {
   "codemirror_mode": {
    "name": "ipython",
    "version": 3
   },
   "file_extension": ".py",
   "mimetype": "text/x-python",
   "name": "python",
   "nbconvert_exporter": "python",
   "pygments_lexer": "ipython3",
   "version": "3.8.13"
  }
 },
 "nbformat": 4,
 "nbformat_minor": 4
}
