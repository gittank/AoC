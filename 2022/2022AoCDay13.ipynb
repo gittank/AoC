{
 "cells": [
  {
   "cell_type": "code",
   "execution_count": 5,
   "metadata": {},
   "outputs": [
    {
     "data": {
      "text/html": [
       "\n",
       "        <iframe\n",
       "            width=\"1000\"\n",
       "            height=\"600\"\n",
       "            src=\"https://adventofcode.com/2022/day/13\"\n",
       "            frameborder=\"0\"\n",
       "            allowfullscreen\n",
       "            \n",
       "        ></iframe>\n",
       "        "
      ],
      "text/plain": [
       "<IPython.lib.display.IFrame at 0x113ebddc0>"
      ]
     },
     "execution_count": 5,
     "metadata": {},
     "output_type": "execute_result"
    }
   ],
   "source": [
    "day = 13\n",
    "from IPython.display import IFrame\n",
    "url = \"https://adventofcode.com/2022/day/%d\"%(day)\n",
    "IFrame(src=url, width=1000, height=600)"
   ]
  },
  {
   "cell_type": "code",
   "execution_count": 36,
   "metadata": {},
   "outputs": [],
   "source": [
    "import urllib.request\n",
    "import sys\n",
    "from timeit import default_timer as timer\n",
    "import itertools\n",
    "\n",
    "\n",
    "def gather_input_data(url, sessionId, transform=lambda x: str(x, \"utf-8\").strip('\\n')):\n",
    "    request = urllib.request.Request(url)\n",
    "    request.add_header(\"cookie\", \"session={}\".format(sessionId)) # Source the data directly from AoC\n",
    "\n",
    "    values = []\n",
    "    with urllib.request.urlopen(request) as data:\n",
    "        for line in data:\n",
    "            values.append(transform(line))\n",
    "\n",
    "    return values\n",
    "\n",
    "def get_data(day, year=2022):\n",
    "    with open('sessionID') as f:\n",
    "        sessionId = f.readlines()[0]\n",
    "    url = \"https://adventofcode.com/%d/day/%d/input\"%(year,day)\n",
    "    data = gather_input_data(url, sessionId)\n",
    "    return data\n",
    "\n",
    "def read_file(filename):\n",
    "    # read file\n",
    "    with open(filename) as f:\n",
    "        lines = f.readlines()\n",
    "    output = [str.rstrip(line) for line in lines]    \n",
    "    return output\n",
    "\n",
    "def compare(p1,p2):\n",
    "    if isinstance(p1, int) and isinstance(p2,int):\n",
    "        if p1 < p2:\n",
    "            return -1\n",
    "        elif p1 == p2:\n",
    "            return 0\n",
    "        else:\n",
    "            return 1\n",
    "    elif isinstance(p1, list) and isinstance(p2, list):\n",
    "        i = 0\n",
    "        while i<len(p1) and i<len(p2):\n",
    "            c = compare(p1[i], p2[i])\n",
    "            if c==-1:\n",
    "                return -1\n",
    "            if c==1:\n",
    "                return 1\n",
    "            i += 1\n",
    "        if i==len(p1) and i<len(p2):\n",
    "            return -1\n",
    "        elif i==len(p2) and i<len(p1):\n",
    "            return 1\n",
    "        else:\n",
    "            return 0\n",
    "    elif isinstance(p1, int) and isinstance(p2, list):\n",
    "        return compare([p1], p2)\n",
    "    else:\n",
    "        return compare(p1, [p2])"
   ]
  },
  {
   "cell_type": "code",
   "execution_count": 37,
   "metadata": {},
   "outputs": [],
   "source": [
    "test = False\n",
    "data = get_data(day)\n",
    "if test:\n",
    "    data = read_file('test.txt')\n",
    "    \n",
    "import itertools\n",
    "records = [list(y) for x, y in itertools.groupby(data, lambda z: z == '') if not x]\n"
   ]
  },
  {
   "cell_type": "code",
   "execution_count": 42,
   "metadata": {},
   "outputs": [
    {
     "name": "stdout",
     "output_type": "stream",
     "text": [
      "6235\n",
      "22866\n"
     ]
    }
   ],
   "source": [
    "packets = []\n",
    "part1 = 0\n",
    "for ii, record in enumerate(records):\n",
    "    [left, right] = record\n",
    "    left = eval(left)\n",
    "    right = eval(right)\n",
    "    packets.append(left)\n",
    "    packets.append(right)\n",
    "    if compare(left,right) == -1:\n",
    "        part1 += 1+ii\n",
    "print(part1)\n",
    "        \n",
    "\n",
    "\n",
    "packets.append([[2]])\n",
    "packets.append([[6]])\n",
    "from functools import cmp_to_key\n",
    "packets = sorted(packets, key=cmp_to_key(lambda right,left: compare(right,left)))\n",
    "part2 = 1\n",
    "for ii,val in enumerate(packets):\n",
    "    if val==[[2]] or val==[[6]]:\n",
    "        part2 *= ii+1        \n",
    "print(part2)"
   ]
  },
  {
   "cell_type": "code",
   "execution_count": null,
   "metadata": {},
   "outputs": [],
   "source": []
  }
 ],
 "metadata": {
  "kernelspec": {
   "display_name": "Python 3 (ipykernel)",
   "language": "python",
   "name": "python3"
  },
  "language_info": {
   "codemirror_mode": {
    "name": "ipython",
    "version": 3
   },
   "file_extension": ".py",
   "mimetype": "text/x-python",
   "name": "python",
   "nbconvert_exporter": "python",
   "pygments_lexer": "ipython3",
   "version": "3.8.13"
  }
 },
 "nbformat": 4,
 "nbformat_minor": 4
}
