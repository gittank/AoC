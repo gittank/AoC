{
 "cells": [
  {
   "cell_type": "code",
   "execution_count": 1,
   "metadata": {
    "scrolled": true
   },
   "outputs": [
    {
     "data": {
      "text/html": [
       "\n",
       "        <iframe\n",
       "            width=\"1000\"\n",
       "            height=\"600\"\n",
       "            src=\"https://adventofcode.com/2022/day/18\"\n",
       "            frameborder=\"0\"\n",
       "            allowfullscreen\n",
       "            \n",
       "        ></iframe>\n",
       "        "
      ],
      "text/plain": [
       "<IPython.lib.display.IFrame at 0x10468a610>"
      ]
     },
     "execution_count": 1,
     "metadata": {},
     "output_type": "execute_result"
    }
   ],
   "source": [
    "day = 18\n",
    "from IPython.display import IFrame\n",
    "url = \"https://adventofcode.com/2022/day/%d\"%(day)\n",
    "IFrame(src=url, width=1000, height=600)"
   ]
  },
  {
   "cell_type": "code",
   "execution_count": 2,
   "metadata": {},
   "outputs": [],
   "source": [
    "import urllib.request\n",
    "import sys\n",
    "from timeit import default_timer as timer\n",
    "from itertools import compress\n",
    "from collections import  deque\n",
    "\n",
    "\n",
    "def gather_input_data(url, sessionId, transform=lambda x: str(x, \"utf-8\").strip('\\n')):\n",
    "    request = urllib.request.Request(url)\n",
    "    request.add_header(\"cookie\", \"session={}\".format(sessionId)) # Source the data directly from AoC\n",
    "\n",
    "    values = []\n",
    "    with urllib.request.urlopen(request) as data:\n",
    "        for line in data:\n",
    "            values.append(transform(line))\n",
    "\n",
    "    return values\n",
    "\n",
    "def get_data(day, year=2022):\n",
    "    with open('sessionID') as f:\n",
    "        sessionId = f.readlines()[0]\n",
    "    url = \"https://adventofcode.com/%d/day/%d/input\"%(year,day)\n",
    "    data = gather_input_data(url, sessionId)\n",
    "    return data\n",
    "\n",
    "def read_file(filename):\n",
    "    # read file\n",
    "    with open(filename) as f:\n",
    "        lines = f.readlines()\n",
    "    output = [str.rstrip(line) for line in lines]    \n",
    "    return output\n",
    "\n"
   ]
  },
  {
   "cell_type": "code",
   "execution_count": 3,
   "metadata": {},
   "outputs": [],
   "source": [
    "import numpy as np\n",
    "data = get_data(day)\n",
    "data = read_file('test.txt')\n",
    "data = [tuple(map(int, line.split(','))) for line in data]\n",
    "adjacent = [(1,0,0),(-1,0,0),(0,1,0),(0,-1,0),(0,0,1),(0,0,-1)]"
   ]
  },
  {
   "cell_type": "code",
   "execution_count": 4,
   "metadata": {},
   "outputs": [],
   "source": [
    "def find_adjacent(val):\n",
    "    (x,y,z) = val\n",
    "    count = sum([(x+dx,y+dy,z+dz) in data for (dx,dy,dz) in adjacent])       \n",
    "    return count\n",
    " \n",
    " "
   ]
  },
  {
   "cell_type": "code",
   "execution_count": 5,
   "metadata": {},
   "outputs": [
    {
     "name": "stdout",
     "output_type": "stream",
     "text": [
      "64\n"
     ]
    }
   ],
   "source": [
    "part1 = sum([6-find_adjacent(val) for val in data])\n",
    "print(part1)"
   ]
  },
  {
   "cell_type": "code",
   "execution_count": 7,
   "metadata": {},
   "outputs": [
    {
     "name": "stdout",
     "output_type": "stream",
     "text": [
      "2082\n"
     ]
    }
   ],
   "source": [
    "data = get_data(day)\n",
    "#data = read_file('test.txt')\n",
    "data = [tuple(map(int, line.split(','))) for line in data]\n",
    "adjacent = [(1,0,0),(-1,0,0),(0,1,0),(0,-1,0),(0,0,1),(0,0,-1)]\n",
    "\n",
    "cubes = set(data)\n",
    "outside = set()\n",
    "inside = set()\n",
    "\n",
    "def reaches_outsideside(x,y,z):\n",
    "    if (x,y,z) in outside:\n",
    "        return True\n",
    "    if (x,y,z) in inside:\n",
    "        return False\n",
    "    visited = set()\n",
    "    Q = deque([(x,y,z)])\n",
    "    while Q:\n",
    "        x,y,z = Q.popleft()\n",
    "        if (x,y,z) in cubes:\n",
    "            continue\n",
    "        if (x,y,z) in visited:\n",
    "            continue\n",
    "        visited.add((x,y,z))\n",
    "        if len(visited) > len(data):\n",
    "            for p in visited:\n",
    "                outside.add(p)\n",
    "            return True\n",
    "        for (dx,dy,dz) in adjacent: \n",
    "            Q.append((x+dx,y+dy,z+dz))\n",
    "    for p in visited:\n",
    "        inside.add(p)\n",
    "    return False\n",
    "\n",
    "\n",
    "count = 0\n",
    "for (x,y,z) in cubes:\n",
    "    for (dx,dy,dz) in adjacent:\n",
    "        if reaches_outsideside(x+dx,y+dy,z+dz):\n",
    "            count += 1\n",
    "part2 = count\n",
    "print(part2)"
   ]
  }
 ],
 "metadata": {
  "kernelspec": {
   "display_name": "Python 3 (ipykernel)",
   "language": "python",
   "name": "python3"
  },
  "language_info": {
   "codemirror_mode": {
    "name": "ipython",
    "version": 3
   },
   "file_extension": ".py",
   "mimetype": "text/x-python",
   "name": "python",
   "nbconvert_exporter": "python",
   "pygments_lexer": "ipython3",
   "version": "3.8.13"
  }
 },
 "nbformat": 4,
 "nbformat_minor": 4
}
