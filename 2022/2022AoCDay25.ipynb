{
 "cells": [
  {
   "cell_type": "code",
   "execution_count": 1,
   "metadata": {
    "scrolled": false
   },
   "outputs": [
    {
     "data": {
      "text/html": [
       "\n",
       "        <iframe\n",
       "            width=\"1000\"\n",
       "            height=\"600\"\n",
       "            src=\"https://adventofcode.com/2022/day/25\"\n",
       "            frameborder=\"0\"\n",
       "            allowfullscreen\n",
       "            \n",
       "        ></iframe>\n",
       "        "
      ],
      "text/plain": [
       "<IPython.lib.display.IFrame at 0x112324880>"
      ]
     },
     "execution_count": 1,
     "metadata": {},
     "output_type": "execute_result"
    }
   ],
   "source": [
    "day = 25\n",
    "from IPython.display import IFrame\n",
    "url = \"https://adventofcode.com/2022/day/%d\"%(day)\n",
    "IFrame(src=url, width=1000, height=600)"
   ]
  },
  {
   "cell_type": "code",
   "execution_count": 63,
   "metadata": {},
   "outputs": [],
   "source": [
    "import urllib.request\n",
    "import sys\n",
    "from timeit import default_timer as timer\n",
    "import itertools\n",
    "import math\n",
    "\n",
    "\n",
    "def gather_input_data(url, sessionId, transform=lambda x: str(x, \"utf-8\").strip('\\n')):\n",
    "    request = urllib.request.Request(url)\n",
    "    request.add_header(\"cookie\", \"session={}\".format(sessionId)) # Source the data directly from AoC\n",
    "\n",
    "    values = []\n",
    "    with urllib.request.urlopen(request) as data:\n",
    "        for line in data:\n",
    "            values.append(transform(line))\n",
    "\n",
    "    return values\n",
    "\n",
    "def get_data(day, year=2022):\n",
    "    with open('sessionID') as f:\n",
    "        sessionId = f.readlines()[0]\n",
    "    url = \"https://adventofcode.com/%d/day/%d/input\"%(year,day)\n",
    "    data = gather_input_data(url, sessionId)\n",
    "    return data\n",
    "\n",
    "def read_file(filename):\n",
    "    # read file\n",
    "    with open(filename) as f:\n",
    "        lines = f.readlines()\n",
    "    output = [str.rstrip(line) for line in lines]    \n",
    "    return output\n",
    "\n",
    "def snafu_to_base10(val):\n",
    "    decode = {'0':0,'1':1,'2':2,'-':-1,'=':-2}\n",
    "    out = 0\n",
    "    for ii,x in enumerate(val[::-1]):\n",
    "        out+=5**ii * decode[x]\n",
    "    return out\n",
    "\n",
    "def base10_to_snafu(val):\n",
    "    decode = {0:'0',1:'1',2:'2',3:'-',4:'='}\n",
    "    out = \"\"\n",
    "    while val:\n",
    "        rem = val % 5\n",
    "        val //= 5\n",
    "        out = decode[rem] + out\n",
    "    return out"
   ]
  },
  {
   "cell_type": "code",
   "execution_count": 64,
   "metadata": {},
   "outputs": [
    {
     "name": "stdout",
     "output_type": "stream",
     "text": [
      "1=0=10=--00=0-=-=2-2\n"
     ]
    }
   ],
   "source": [
    "part1 = base10_to_snafu(sum([snafu_to_base10(val) for val in data]))\n",
    "print(part1)"
   ]
  }
 ],
 "metadata": {
  "kernelspec": {
   "display_name": "Python 3 (ipykernel)",
   "language": "python",
   "name": "python3"
  },
  "language_info": {
   "codemirror_mode": {
    "name": "ipython",
    "version": 3
   },
   "file_extension": ".py",
   "mimetype": "text/x-python",
   "name": "python",
   "nbconvert_exporter": "python",
   "pygments_lexer": "ipython3",
   "version": "3.8.13"
  }
 },
 "nbformat": 4,
 "nbformat_minor": 4
}
