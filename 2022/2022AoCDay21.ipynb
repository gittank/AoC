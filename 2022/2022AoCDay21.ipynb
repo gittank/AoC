{
 "cells": [
  {
   "cell_type": "code",
   "execution_count": 1,
   "metadata": {
    "scrolled": true
   },
   "outputs": [
    {
     "data": {
      "text/html": [
       "\n",
       "        <iframe\n",
       "            width=\"1000\"\n",
       "            height=\"600\"\n",
       "            src=\"https://adventofcode.com/2022/day/21\"\n",
       "            frameborder=\"0\"\n",
       "            allowfullscreen\n",
       "            \n",
       "        ></iframe>\n",
       "        "
      ],
      "text/plain": [
       "<IPython.lib.display.IFrame at 0x112d9a5b0>"
      ]
     },
     "execution_count": 1,
     "metadata": {},
     "output_type": "execute_result"
    }
   ],
   "source": [
    "day = 21\n",
    "from IPython.display import IFrame\n",
    "url = \"https://adventofcode.com/2022/day/%d\"%(day)\n",
    "IFrame(src=url, width=1000, height=600)"
   ]
  },
  {
   "cell_type": "code",
   "execution_count": 82,
   "metadata": {},
   "outputs": [],
   "source": [
    "import urllib.request\n",
    "import sys\n",
    "from timeit import default_timer as timer\n",
    "import itertools\n",
    "import math\n",
    "\n",
    "\n",
    "def gather_input_data(url, sessionId, transform=lambda x: str(x, \"utf-8\").strip('\\n')):\n",
    "    request = urllib.request.Request(url)\n",
    "    request.add_header(\"cookie\", \"session={}\".format(sessionId)) # Source the data directly from AoC\n",
    "\n",
    "    values = []\n",
    "    with urllib.request.urlopen(request) as data:\n",
    "        for line in data:\n",
    "            values.append(transform(line))\n",
    "\n",
    "    return values\n",
    "\n",
    "def get_data(day, year=2022):\n",
    "    with open('sessionID') as f:\n",
    "        sessionId = f.readlines()[0]\n",
    "    url = \"https://adventofcode.com/%d/day/%d/input\"%(year,day)\n",
    "    data = gather_input_data(url, sessionId)\n",
    "    return data\n",
    "\n",
    "def read_file(filename):\n",
    "    # read file\n",
    "    with open(filename) as f:\n",
    "        lines = f.readlines()\n",
    "    output = [str.rstrip(line) for line in lines]    \n",
    "    return output\n",
    "import re\n",
    "def parse_data(data):\n",
    "    node, operation = data.split(': ')\n",
    "    num = re.findall('-?\\d+', operation)\n",
    "    if len(num) > 0:\n",
    "        operation = int(num[0])\n",
    "    else:\n",
    "        a,b,c = operation.split(' ')\n",
    "        operation = (a,b,c)\n",
    "    return node, operation"
   ]
  },
  {
   "cell_type": "code",
   "execution_count": 83,
   "metadata": {},
   "outputs": [],
   "source": [
    "import numpy as np\n",
    "\n",
    "data = get_data(day)\n",
    "keys = []\n",
    "vals = []\n",
    "for val in data:\n",
    "    k,v = parse_data(val)\n",
    "    keys.append(k)\n",
    "    vals.append(v)\n",
    "data = dict(zip(keys, vals))"
   ]
  },
  {
   "cell_type": "code",
   "execution_count": 84,
   "metadata": {},
   "outputs": [],
   "source": [
    "def compute(key):\n",
    "    op = data[key]\n",
    "    if isinstance(op, int):\n",
    "        return op\n",
    "    else:\n",
    "        l = compute(op[0])\n",
    "        r = compute(op[2])\n",
    "        return int(eval(str(l)+op[1]+str(r)))"
   ]
  },
  {
   "cell_type": "code",
   "execution_count": 85,
   "metadata": {},
   "outputs": [
    {
     "data": {
      "text/plain": [
       "331319379445180"
      ]
     },
     "execution_count": 85,
     "metadata": {},
     "output_type": "execute_result"
    }
   ],
   "source": [
    "## part 1\n",
    "compute('root')"
   ]
  },
  {
   "cell_type": "code",
   "execution_count": 174,
   "metadata": {},
   "outputs": [],
   "source": [
    "data['root'] = (data['root'][0],'-',data['root'][2])\n",
    "\n",
    "def newton(mid):\n",
    "    data['humn'] = mid\n",
    "    return compute('root')"
   ]
  },
  {
   "cell_type": "code",
   "execution_count": 175,
   "metadata": {},
   "outputs": [
    {
     "name": "stdout",
     "output_type": "stream",
     "text": [
      "-1911688169619302725675 50000000000000000000\n",
      "-955844013775146749995 25000000000000000000\n",
      "-477921935853068821035 12500000000000000000\n",
      "-238960896892029915435 6250000000000000000\n",
      "-119480377411510462635 3125000000000000000\n",
      "-59740117671250758315 1562500000000000000\n",
      "-29869987801120865675 781250000000000000\n",
      "-14934922866055937755 390625000000000000\n",
      "-7467390398523466435 195312500000000000\n",
      "-3733624164757231235 97656250000000000\n",
      "-1866741047874115705 48828125000000000\n",
      "-933299489432557710 24414062500000000\n",
      "-466578710211778310 12207031250000000\n",
      "-233218320601388725 6103515625000000\n",
      "-116538125796193875 3051757812500000\n",
      "-58198028393596565 1525878906250000\n",
      "-29027979692297795 762939453125000\n",
      "-14442955341648525 381469726562500\n",
      "-7150443166323775 190734863281250\n",
      "-3504187078661400 95367431640625\n",
      "-1681059034830270 47683715820312\n",
      "-769495012914590 23841857910156\n",
      "-313713001956865 11920928955078\n",
      "-85821996478060 5960464477539\n",
      "28123506261285 2980232238769\n",
      "-28849245108330 4470348358154\n",
      "-362869423465 3725290298461\n",
      "13880318418910 3352761268615\n",
      "6758724497665 3539025783538\n",
      "3197927537100 3632158040999\n",
      "1417529056875 3678724169730\n",
      "527329816705 3702007234095\n",
      "82230196620 3713648766278\n",
      "-140319613480 3719469532369\n",
      "-29044708430 3716559149323\n",
      "26592744095 3715103957800\n",
      "-1225982110 3715831553561\n",
      "12683381050 3715467755680\n",
      "5728699470 3715649654620\n",
      "2251358680 3715740604090\n",
      "512688285 3715786078825\n",
      "-356646855 3715808816193\n",
      "78020715 3715797447509\n",
      "-139313070 3715803131851\n",
      "-30646120 3715800289680\n",
      "23687355 3715798868594\n",
      "-3479440 3715799579137\n",
      "10103900 3715799223865\n",
      "3312230 3715799401501\n",
      "-83605 3715799490319\n",
      "1614255 3715799445910\n",
      "765440 3715799468114\n",
      "340860 3715799479216\n",
      "128685 3715799484767\n",
      "22540 3715799487543\n",
      "-30475 3715799488931\n",
      "-4025 3715799488237\n",
      "9315 3715799487890\n",
      "2645 3715799488063\n",
      "-690 3715799488150\n",
      "1035 3715799488106\n",
      "230 3715799488128\n",
      "-230 3715799488139\n",
      "0 3715799488133\n",
      "3715799488133\n"
     ]
    }
   ],
   "source": [
    "## part2\n",
    "# newtons method on sign flipping until they are equal\n",
    "lo = 0\n",
    "hi = int(1e20)\n",
    "while lo < hi:\n",
    "    mid = (lo+hi)//2\n",
    "    score = newton(mid)\n",
    "    print(score, mid)\n",
    "    if score > 0:\n",
    "        lo = mid\n",
    "    elif score == 0:\n",
    "        print(mid)\n",
    "        break\n",
    "    else:\n",
    "        hi = mid"
   ]
  },
  {
   "cell_type": "code",
   "execution_count": 177,
   "metadata": {},
   "outputs": [
    {
     "data": {
      "text/plain": [
       "1"
      ]
     },
     "execution_count": 177,
     "metadata": {},
     "output_type": "execute_result"
    }
   ],
   "source": [
    "data['humn'] = 3715799488132\n",
    "data['root'] = (data['root'][0],'==',data['root'][2])\n",
    "compute('root')"
   ]
  },
  {
   "cell_type": "code",
   "execution_count": null,
   "metadata": {},
   "outputs": [],
   "source": []
  },
  {
   "cell_type": "code",
   "execution_count": null,
   "metadata": {},
   "outputs": [],
   "source": []
  },
  {
   "cell_type": "code",
   "execution_count": null,
   "metadata": {},
   "outputs": [],
   "source": []
  }
 ],
 "metadata": {
  "kernelspec": {
   "display_name": "Python 3 (ipykernel)",
   "language": "python",
   "name": "python3"
  },
  "language_info": {
   "codemirror_mode": {
    "name": "ipython",
    "version": 3
   },
   "file_extension": ".py",
   "mimetype": "text/x-python",
   "name": "python",
   "nbconvert_exporter": "python",
   "pygments_lexer": "ipython3",
   "version": "3.8.13"
  }
 },
 "nbformat": 4,
 "nbformat_minor": 4
}
