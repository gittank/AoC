{
 "cells": [
  {
   "cell_type": "code",
   "execution_count": 1,
   "metadata": {},
   "outputs": [
    {
     "data": {
      "text/html": [
       "\n",
       "        <iframe\n",
       "            width=\"1000\"\n",
       "            height=\"600\"\n",
       "            src=\"https://adventofcode.com/2022/day/8\"\n",
       "            frameborder=\"0\"\n",
       "            allowfullscreen\n",
       "            \n",
       "        ></iframe>\n",
       "        "
      ],
      "text/plain": [
       "<IPython.lib.display.IFrame at 0x10bc406d0>"
      ]
     },
     "execution_count": 1,
     "metadata": {},
     "output_type": "execute_result"
    }
   ],
   "source": [
    "day = 8\n",
    "from IPython.display import IFrame\n",
    "url = \"https://adventofcode.com/2022/day/%d\"%(day)\n",
    "IFrame(src=url, width=1000, height=600)"
   ]
  },
  {
   "cell_type": "code",
   "execution_count": 2,
   "metadata": {},
   "outputs": [],
   "source": [
    "import urllib.request\n",
    "import sys\n",
    "from collections import defaultdict\n",
    "\n",
    "def gather_input_data(url, sessionId, transform=lambda x: str(x, \"utf-8\").strip('\\n')):\n",
    "    request = urllib.request.Request(url)\n",
    "    request.add_header(\"cookie\", \"session={}\".format(sessionId)) # Source the data directly from AoC\n",
    "\n",
    "    values = []\n",
    "    with urllib.request.urlopen(request) as data:\n",
    "        for line in data:\n",
    "            values.append(transform(line))\n",
    "\n",
    "    return values\n",
    "\n",
    "def get_data(day, year=2022):\n",
    "    with open('sessionID') as f:\n",
    "        sessionId = f.readlines()[0]\n",
    "    url = \"https://adventofcode.com/%d/day/%d/input\"%(year,day)\n",
    "    data = gather_input_data(url, sessionId)\n",
    "    return data\n",
    "\n",
    "def visible_idx(row):\n",
    "    out = []\n",
    "    idx =-1\n",
    "    val_max = -1\n",
    "    done = False\n",
    "    while not done:\n",
    "        mask = row > val_max\n",
    "        new_idx = np.where(mask==True)[0]\n",
    "        if len(new_idx) == 0:\n",
    "            done = True\n",
    "        else:\n",
    "            idx = new_idx[0]\n",
    "            out.append(idx)\n",
    "            val_max = row[idx]\n",
    "\n",
    "    return out \n",
    "\n",
    "def mask_hidden(tree_map, visible):\n",
    "    for ii, row in enumerate(tree_map):\n",
    "        visible[ii, visible_idx(row)] = 1\n",
    "    return visible\n",
    "\n",
    "def map_and_mask (data):\n",
    "    temp = []\n",
    "    for line in data:\n",
    "        temp.append([int(val) for val in line])\n",
    "    data = np.array(temp)\n",
    "    visible = np.zeros_like(data)\n",
    "    return data, visible\n",
    "\n",
    "\n",
    "def score_map(tree_map, score_map):\n",
    "    for ii, row in enumerate(tree_map):\n",
    "        score_map[ii, :] = score_map[ii, :]*view_score(row)\n",
    "    return score_map\n",
    "\n",
    "def view_score(row):\n",
    "    out = np.zeros_like(row)\n",
    "    temp = row.copy()\n",
    "    temp[-1] = 11\n",
    "    \n",
    "    for ii, val in enumerate(temp):\n",
    "        score = np.where(temp[ii:]>=val)[0]        \n",
    "        if len(score) > 1:\n",
    "             out[ii] = score[1]\n",
    "    return out \n",
    "\n"
   ]
  },
  {
   "cell_type": "code",
   "execution_count": 3,
   "metadata": {},
   "outputs": [
    {
     "name": "stdout",
     "output_type": "stream",
     "text": [
      "Completed in 193.455754ms\n",
      "1662\n",
      "1662 537600\n"
     ]
    }
   ],
   "source": [
    "from timeit import default_timer as timer\n",
    "import numpy as np\n",
    "\n",
    "start = timer()\n",
    "data = get_data(day)\n",
    "data, visible = map_and_mask(data)\n",
    "\n",
    "visible = mask_hidden(data, visible)\n",
    "visible = mask_hidden(np.fliplr(data), np.fliplr(visible))\n",
    "visible = np.fliplr(visible)\n",
    "visible = mask_hidden(data.T, visible.T)\n",
    "visible = visible.T\n",
    "visible = mask_hidden(np.fliplr(data.T), np.fliplr(visible.T))\n",
    "part1 = np.sum(visible)\n",
    "\n",
    "print(\"Completed in %fms\" % ((timer() - start) * 1000))\n",
    "print(part1)\n",
    "\n",
    "\n",
    "start = timer()\n",
    "data = get_data(day)\n",
    "\n",
    "\n",
    "data, score = map_and_mask(data)\n",
    "score = score + 1\n",
    "\n",
    "score_left = score.copy()\n",
    "score_left = score_map(data, np.ones_like(score_left))\n",
    "score_right = score.copy()\n",
    "score_right = np.fliplr(score_map(np.fliplr(data), np.fliplr(score_right)))\n",
    "score_top = score.copy()\n",
    "score_top = (score_map(data.T, score_top.T)).T\n",
    "score_bottom = score.copy()\n",
    "score_bottom = score_map(np.fliplr(data.T), np.fliplr(score_bottom.T))\n",
    "score_bottom = np.fliplr(score_bottom).T\n",
    "part2 = np.max(score_left * score_right * score_top * score_bottom)\n",
    "\n",
    "print(part1, part2)"
   ]
  }
 ],
 "metadata": {
  "kernelspec": {
   "display_name": "Python 3 (ipykernel)",
   "language": "python",
   "name": "python3"
  },
  "language_info": {
   "codemirror_mode": {
    "name": "ipython",
    "version": 3
   },
   "file_extension": ".py",
   "mimetype": "text/x-python",
   "name": "python",
   "nbconvert_exporter": "python",
   "pygments_lexer": "ipython3",
   "version": "3.8.13"
  }
 },
 "nbformat": 4,
 "nbformat_minor": 4
}
