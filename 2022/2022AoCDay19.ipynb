{
 "cells": [
  {
   "cell_type": "code",
   "execution_count": 2,
   "metadata": {
    "scrolled": true
   },
   "outputs": [
    {
     "data": {
      "text/html": [
       "\n",
       "        <iframe\n",
       "            width=\"1000\"\n",
       "            height=\"600\"\n",
       "            src=\"https://adventofcode.com/2022/day/19\"\n",
       "            frameborder=\"0\"\n",
       "            allowfullscreen\n",
       "            \n",
       "        ></iframe>\n",
       "        "
      ],
      "text/plain": [
       "<IPython.lib.display.IFrame at 0x11136d400>"
      ]
     },
     "execution_count": 2,
     "metadata": {},
     "output_type": "execute_result"
    }
   ],
   "source": [
    "day = 19\n",
    "from IPython.display import IFrame\n",
    "url = \"https://adventofcode.com/2022/day/%d\"%(day)\n",
    "IFrame(src=url, width=1000, height=600)"
   ]
  },
  {
   "cell_type": "code",
   "execution_count": 6,
   "metadata": {},
   "outputs": [],
   "source": [
    "import urllib.request\n",
    "import sys\n",
    "from timeit import default_timer as timer\n",
    "import itertools\n",
    "import math\n",
    "\n",
    "\n",
    "def gather_input_data(url, sessionId, transform=lambda x: str(x, \"utf-8\").strip('\\n')):\n",
    "    request = urllib.request.Request(url)\n",
    "    request.add_header(\"cookie\", \"session={}\".format(sessionId)) # Source the data directly from AoC\n",
    "\n",
    "    values = []\n",
    "    with urllib.request.urlopen(request) as data:\n",
    "        for line in data:\n",
    "            values.append(transform(line))\n",
    "\n",
    "    return values\n",
    "\n",
    "def get_data(day, year=2022):\n",
    "    with open('sessionID') as f:\n",
    "        sessionId = f.readlines()[0]\n",
    "    url = \"https://adventofcode.com/%d/day/%d/input\"%(year,day)\n",
    "    data = gather_input_data(url, sessionId)\n",
    "    return data\n",
    "\n",
    "def read_file(filename):\n",
    "    # read file\n",
    "    with open(filename) as f:\n",
    "        lines = f.readlines()\n",
    "    output = [str.rstrip(line) for line in lines]    \n",
    "    return output\n",
    "\n"
   ]
  },
  {
   "cell_type": "code",
   "execution_count": 7,
   "metadata": {},
   "outputs": [],
   "source": [
    "class Mineral:\n",
    "    def __init__(self, ore=0, clay=0, obsidian=0):\n",
    "        self.ore = ore\n",
    "        self.clay = clay\n",
    "        self.obsidian = obsidian\n",
    "    def __le__(self, other):\n",
    "        return self.ore <= other.ore and self.clay <= other.clay and self.obsidian <= other.obsidian\n",
    "    def __add__(self, other):\n",
    "        return Mineral(self.ore + other.ore, self.clay + other.clay, self.obsidian + other.obsidian)\n",
    "    def __sub__(self, other):\n",
    "        return Mineral(self.ore - other.ore, self.clay - other.clay, self.obsidian - other.obsidian)\n",
    "    def __eq__(self, other):\n",
    "        return self.ore == other.ore and self.clay == other.clay and self.obsidian == other.obsidian\n",
    "    def __hash__(self):\n",
    "        return hash((self.ore, self.clay, self.obsidian))\n",
    "    def __mul__(self, other):\n",
    "        return Mineral(self.ore * other, self.clay * other, self.obsidian * other)\n",
    "\n",
    "highest_time_so_far = 1\n",
    " \n",
    "def quality_level(idnum, orebot_cost, claybot_cost, obsidianbot_cost, geodebot_cost, start_time):\n",
    "    global highest_time_so_far\n",
    "    harvest_rate = Mineral(ore=1)\n",
    "    highest_time_so_far = 1\n",
    "    table = {}\n",
    "    def max_geodes(harvest_rate, stock, remaining_time):\n",
    "        global highest_time_so_far\n",
    "        if remaining_time <= 0:\n",
    "            return 0\n",
    "        if (harvest_rate, stock, remaining_time) in table:\n",
    "            return table[(harvest_rate, stock, remaining_time)]\n",
    "        geode_yields = []\n",
    "        # geodebot\n",
    "        if harvest_rate.obsidian > 0:\n",
    "            time_until_build = max(int(math.ceil((geodebot_cost.ore - stock.ore) / harvest_rate.ore)),\n",
    "                                   int(math.ceil((geodebot_cost.obsidian - stock.obsidian) / harvest_rate.obsidian)))\n",
    "            time_until_build = max(0, time_until_build)\n",
    "            if time_until_build <= (remaining_time-2):\n",
    "                geode_yields.append(remaining_time - (time_until_build+1) + max_geodes(harvest_rate, stock - geodebot_cost + harvest_rate*(time_until_build+1), remaining_time-(time_until_build+1)))\n",
    "        # obsidianbot\n",
    "        if harvest_rate.clay > 0:\n",
    "            time_until_build = max(int(math.ceil((obsidianbot_cost.ore - stock.ore) / harvest_rate.ore)),\n",
    "                                   int(math.ceil((obsidianbot_cost.clay - stock.clay) / harvest_rate.clay)))\n",
    "            time_until_build = max(0, time_until_build)\n",
    "            if time_until_build <= (remaining_time-4):\n",
    "                geode_yields.append(max_geodes(harvest_rate+Mineral(obsidian=1), stock - obsidianbot_cost + harvest_rate*(time_until_build+1), remaining_time-(time_until_build+1)))\n",
    "        # claybot\n",
    "        if harvest_rate.clay <= max(cost.clay for cost in (orebot_cost, claybot_cost, obsidianbot_cost, geodebot_cost)):\n",
    "            time_until_build = int(math.ceil((claybot_cost.ore - stock.ore) / harvest_rate.ore))\n",
    "            time_until_build = max(0, time_until_build)\n",
    "            if time_until_build <= (remaining_time - 6):\n",
    "                geode_yields.append(max_geodes(harvest_rate+Mineral(clay=1), stock - claybot_cost + harvest_rate*(time_until_build+1), remaining_time - (time_until_build+1)))\n",
    "        # orebot\n",
    "        if harvest_rate.ore <= max(cost.ore for cost in (orebot_cost, claybot_cost, obsidianbot_cost, geodebot_cost)):\n",
    "            time_until_build = int(math.ceil((orebot_cost.ore - stock.ore) / harvest_rate.ore))\n",
    "            time_until_build = max(0, time_until_build)\n",
    "            if time_until_build <= (remaining_time - 4):\n",
    "                geode_yields.append(max_geodes(harvest_rate+Mineral(ore=1), stock - orebot_cost + harvest_rate*(time_until_build+1), remaining_time - (time_until_build+1)))\n",
    " \n",
    "        best = max(geode_yields, default=0)\n",
    "        table[(harvest_rate, stock, remaining_time)] = best\n",
    "        # if remaining_time > highest_time_so_far:\n",
    "        #     print(\"time:\", remaining_time)\n",
    "        #     highest_time_so_far = remaining_time\n",
    "        return best\n",
    " \n",
    "    return idnum * max_geodes(harvest_rate, Mineral(), start_time)\n",
    " "
   ]
  },
  {
   "cell_type": "code",
   "execution_count": 8,
   "metadata": {},
   "outputs": [
    {
     "name": "stdout",
     "output_type": "stream",
     "text": [
      "part 1: 1346\n",
      "28\n",
      "21\n",
      "13\n",
      "part 2: 7644\n"
     ]
    }
   ],
   "source": [
    "data = get_data(day)\n",
    "import re\n",
    "blueprints = [list(map(int, re.findall('\\d+', val))) for val in data]\n",
    "\n",
    "total = 0\n",
    "for numbers in blueprints:\n",
    "    idnum = numbers[0]\n",
    "    orebot_cost = Mineral(ore=numbers[1])\n",
    "    claybot_cost = Mineral(ore=numbers[2])\n",
    "    obsidianbot_cost = Mineral(ore=numbers[3], clay=numbers[4])\n",
    "    geodebot_cost = Mineral(ore=numbers[5], obsidian=numbers[6])\n",
    "\n",
    "    qual = quality_level(idnum, orebot_cost, claybot_cost, obsidianbot_cost, geodebot_cost, 24)\n",
    "    # print(idnum, qual)\n",
    "    total += qual\n",
    "\n",
    "print(\"part 1:\", total)\n",
    "\n",
    "total = 1\n",
    "for numbers in blueprints[:3]:\n",
    "\n",
    "    orebot_cost = Mineral(ore=numbers[1])\n",
    "    claybot_cost = Mineral(ore=numbers[2])\n",
    "    obsidianbot_cost = Mineral(ore=numbers[3], clay=numbers[4])\n",
    "    geodebot_cost = Mineral(ore=numbers[5], obsidian=numbers[6])\n",
    "\n",
    "    qual = quality_level(1, orebot_cost, claybot_cost, obsidianbot_cost, geodebot_cost, 32)\n",
    "    print(qual)\n",
    "    total *= qual\n",
    "\n",
    "    \n",
    "print(\"part 2:\", total)\n",
    " "
   ]
  },
  {
   "cell_type": "code",
   "execution_count": null,
   "metadata": {},
   "outputs": [],
   "source": []
  }
 ],
 "metadata": {
  "kernelspec": {
   "display_name": "Python 3 (ipykernel)",
   "language": "python",
   "name": "python3"
  },
  "language_info": {
   "codemirror_mode": {
    "name": "ipython",
    "version": 3
   },
   "file_extension": ".py",
   "mimetype": "text/x-python",
   "name": "python",
   "nbconvert_exporter": "python",
   "pygments_lexer": "ipython3",
   "version": "3.8.13"
  }
 },
 "nbformat": 4,
 "nbformat_minor": 4
}
