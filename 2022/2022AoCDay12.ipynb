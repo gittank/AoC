{
 "cells": [
  {
   "cell_type": "code",
   "execution_count": 1,
   "metadata": {},
   "outputs": [
    {
     "data": {
      "text/html": [
       "\n",
       "        <iframe\n",
       "            width=\"1000\"\n",
       "            height=\"600\"\n",
       "            src=\"https://adventofcode.com/2022/day/12\"\n",
       "            frameborder=\"0\"\n",
       "            allowfullscreen\n",
       "            \n",
       "        ></iframe>\n",
       "        "
      ],
      "text/plain": [
       "<IPython.lib.display.IFrame at 0x105b38700>"
      ]
     },
     "execution_count": 1,
     "metadata": {},
     "output_type": "execute_result"
    }
   ],
   "source": [
    "day = 12\n",
    "from IPython.display import IFrame\n",
    "url = \"https://adventofcode.com/2022/day/%d\"%(day)\n",
    "IFrame(src=url, width=1000, height=600)"
   ]
  },
  {
   "cell_type": "code",
   "execution_count": 2,
   "metadata": {},
   "outputs": [],
   "source": [
    "import urllib.request\n",
    "import sys\n",
    "from timeit import default_timer as timer\n",
    "import itertools\n",
    "\n",
    "\n",
    "def gather_input_data(url, sessionId, transform=lambda x: str(x, \"utf-8\").strip('\\n')):\n",
    "    request = urllib.request.Request(url)\n",
    "    request.add_header(\"cookie\", \"session={}\".format(sessionId)) # Source the data directly from AoC\n",
    "\n",
    "    values = []\n",
    "    with urllib.request.urlopen(request) as data:\n",
    "        for line in data:\n",
    "            values.append(transform(line))\n",
    "\n",
    "    return values\n",
    "\n",
    "def get_data(day, year=2022):\n",
    "    with open('sessionID') as f:\n",
    "        sessionId = f.readlines()[0]\n",
    "    url = \"https://adventofcode.com/%d/day/%d/input\"%(year,day)\n",
    "    data = gather_input_data(url, sessionId)\n",
    "    return data\n",
    "\n",
    "\n",
    "def parse_line(line):\n",
    "    return [ord(letter) - ord('a') + 1 for letter in line]\n",
    "    \n",
    "\n",
    "def read_file(filename):\n",
    "    # read file\n",
    "    with open(filename) as f:\n",
    "        lines = f.readlines()\n",
    "    output = [str.rstrip(line) for line in lines]    \n",
    "    return output\n",
    "\n"
   ]
  },
  {
   "cell_type": "code",
   "execution_count": 28,
   "metadata": {},
   "outputs": [],
   "source": [
    "\n",
    "def get_node(val, all_nodes=all_nodes):\n",
    "    return [list(all_nodes.values()).index(val)]\n",
    "\n",
    "def neighbors(node):\n",
    "    directions = [[1, 0], [0, 1], [-1, 0], [0, -1]]\n",
    "    result = []\n",
    "    for direction in directions:\n",
    "        neighbor = (node[0] + direction[0], node[1] + direction[1])\n",
    "        if neighbor in all_nodes.values():\n",
    "            result.append(neighbor)\n",
    "    return result\n",
    "\n",
    "def state_transition(graph, row_offset):        \n",
    "    for row in range(graph.shape[0]-row_offset):\n",
    "        # a -> b\n",
    "        a = all_nodes[row]\n",
    "        b = all_nodes[row+row_offset]\n",
    "        if(data[b] <= data[a] + 1):\n",
    "            if b in neighbors(a):\n",
    "                graph[row, row+row_offset] = 1\n",
    "                #print('a',a,b,row,row+row_offset,data[a], data[b])\n",
    "                \n",
    "        # b -> a\n",
    "        if(data[a] <= data[b] + 1):\n",
    "            if a in neighbors(b):\n",
    "                graph[row+row_offset, row] = 1\n",
    "                #print('b',a,b,row,row+row_offset,data[a], data[b])\n",
    "\n",
    "    return graph"
   ]
  },
  {
   "cell_type": "code",
   "execution_count": 31,
   "metadata": {},
   "outputs": [],
   "source": [
    "data = get_data(day)\n",
    "# data = [\\\n",
    "# 'Sabqponm',\n",
    "# 'abcryxxl',\n",
    "# 'accszExk',\n",
    "# 'acctuvwj',\n",
    "# 'abdefghi']\n",
    "\n",
    "data = [parse_line(line) for line in data]\n",
    "import numpy as np\n",
    "data = np.array(data)\n",
    "\n",
    "\n",
    "## grid to graph with a view to Djkstra\n",
    "all_nodes = {}\n",
    "count = 0\n",
    "for x in range(data.shape[0]):\n",
    "    for y in range(data.shape[1]):\n",
    "        all_nodes[count] = (x, y)\n",
    "        count += 1\n",
    "graph = np.zeros([len(all_nodes), len(all_nodes)]).astype(int)\n",
    "\n",
    "def get_node(val, all_nodes=all_nodes):\n",
    "    return list(all_nodes.keys())[list(all_nodes.values()).index(val)]\n",
    "\n",
    "\n",
    "start = np.where(data==-13)\n",
    "end = np.where(data==-27)\n",
    "start = (start[0][0], start[1][0])\n",
    "end = (end[0][0], end[1][0])\n",
    "data[start] = 1\n",
    "data[end] = 26\n",
    "start_node = get_node(start)\n",
    "end_node = get_node(end)"
   ]
  },
  {
   "cell_type": "code",
   "execution_count": 55,
   "metadata": {},
   "outputs": [
    {
     "name": "stdout",
     "output_type": "stream",
     "text": [
      "Completed in 4474.094436ms\n",
      "456 454\n"
     ]
    }
   ],
   "source": [
    "offset_node = neighbors((0,0))\n",
    "graph = state_transition(graph, get_node(offset_node[0]))\n",
    "graph = state_transition(graph, get_node(offset_node[1]))\n",
    "\n",
    "from scipy.sparse import csr_matrix\n",
    "from scipy.sparse.csgraph import dijkstra, shortest_path\n",
    "\n",
    "def get_path(Pr, i, j):\n",
    "    path = [j]\n",
    "    k = j\n",
    "    while Pr[i, k] != -9999:\n",
    "        path.append(Pr[i, k])\n",
    "        k = Pr[i, k]\n",
    "    return path[::-1]\n",
    "\n",
    "start_timer = timer()\n",
    "D, Pr = shortest_path(csr_matrix(graph), directed=True, method='D', return_predecessors=True)\n",
    "\n",
    "print(\"Completed in %fms\" % ((timer() - start_timer) * 1000))\n",
    "\n",
    "part1 = (len(get_path(Pr, start_node,end_node))-1)\n",
    "\n",
    "(row, col) = np.where(data==1)\n",
    "paths = [len(get_path(Pr, get_node(a),end_node))-1 for a in zip(row,col)]\n",
    "part2 = min([path for path in paths if path>0])\n",
    "print(part1, part2)"
   ]
  }
 ],
 "metadata": {
  "kernelspec": {
   "display_name": "Python 3 (ipykernel)",
   "language": "python",
   "name": "python3"
  },
  "language_info": {
   "codemirror_mode": {
    "name": "ipython",
    "version": 3
   },
   "file_extension": ".py",
   "mimetype": "text/x-python",
   "name": "python",
   "nbconvert_exporter": "python",
   "pygments_lexer": "ipython3",
   "version": "3.8.13"
  }
 },
 "nbformat": 4,
 "nbformat_minor": 4
}
