{
 "cells": [
  {
   "cell_type": "code",
   "execution_count": 6,
   "metadata": {},
   "outputs": [
    {
     "data": {
      "text/html": [
       "\n",
       "        <iframe\n",
       "            width=\"1000\"\n",
       "            height=\"600\"\n",
       "            src=\"https://adventofcode.com/2022/day/15\"\n",
       "            frameborder=\"0\"\n",
       "            allowfullscreen\n",
       "            \n",
       "        ></iframe>\n",
       "        "
      ],
      "text/plain": [
       "<IPython.lib.display.IFrame at 0x110efee20>"
      ]
     },
     "execution_count": 6,
     "metadata": {},
     "output_type": "execute_result"
    }
   ],
   "source": [
    "day = 15\n",
    "from IPython.display import IFrame\n",
    "url = \"https://adventofcode.com/2022/day/%d\"%(day)\n",
    "IFrame(src=url, width=1000, height=600)"
   ]
  },
  {
   "cell_type": "code",
   "execution_count": 8,
   "metadata": {},
   "outputs": [],
   "source": [
    "import urllib.request\n",
    "import sys\n",
    "from timeit import default_timer as timer\n",
    "import itertools\n",
    "\n",
    "\n",
    "def gather_input_data(url, sessionId, transform=lambda x: str(x, \"utf-8\").strip('\\n')):\n",
    "    request = urllib.request.Request(url)\n",
    "    request.add_header(\"cookie\", \"session={}\".format(sessionId)) # Source the data directly from AoC\n",
    "\n",
    "    values = []\n",
    "    with urllib.request.urlopen(request) as data:\n",
    "        for line in data:\n",
    "            values.append(transform(line))\n",
    "\n",
    "    return values\n",
    "\n",
    "def get_data(day, year=2022):\n",
    "    with open('sessionID') as f:\n",
    "        sessionId = f.readlines()[0]\n",
    "    url = \"https://adventofcode.com/%d/day/%d/input\"%(year,day)\n",
    "    data = gather_input_data(url, sessionId)\n",
    "    return data\n",
    "\n",
    "def read_file(filename):\n",
    "    # read file\n",
    "    with open(filename) as f:\n",
    "        lines = f.readlines()\n",
    "    output = [str.rstrip(line) for line in lines]    \n",
    "    return output\n"
   ]
  },
  {
   "cell_type": "code",
   "execution_count": 10,
   "metadata": {},
   "outputs": [],
   "source": [
    "test = False\n",
    "data = get_data(day)\n",
    "if test:\n",
    "    data = read_file('test.txt')\n",
    "    \n",
    "import re\n",
    "from scipy.spatial.distance import cityblock\n",
    "\n",
    "data = [re.findall('-?\\d+', val) for val in data] \n",
    "s = []\n",
    "b = []\n",
    "for line in data:\n",
    "    s.append((int(line[0]),int(line[1])))\n",
    "    b.append((int(line[2]),int(line[3])))\n",
    "\n",
    "SB = []\n",
    "for ss,bb in zip(s,b):\n",
    "        man_dist = cityblock(ss,bb)\n",
    "        SB.append((ss,bb,man_dist))"
   ]
  },
  {
   "cell_type": "code",
   "execution_count": 15,
   "metadata": {},
   "outputs": [],
   "source": [
    "\n",
    "def fill_row_part1(row_of_interest, SB = SB):\n",
    "    empty = []\n",
    "    for ss,bb,dd in SB:\n",
    "        (sx,sy) = ss\n",
    "\n",
    "        # just add values that will effect row of interest \n",
    "        dist_to_interest = dd - abs(sy - row_of_interest)\n",
    "        if dist_to_interest < 0:\n",
    "            continue\n",
    "\n",
    "        # collect ranges for now\n",
    "        # distance to interest gives us taper\n",
    "        empty.extend(range(sx-dist_to_interest,sx+dist_to_interest))\n",
    "        # check if S in row_of_interest, then get rid of that\n",
    "    return empty\n",
    "\n",
    "def fill_row_part2(row_of_interest, SB=SB):\n",
    "    empty = []\n",
    "    for ss,bb,dd in SB:\n",
    " \n",
    "        (sx,sy) = ss\n",
    "\n",
    "        # just add values that will effect row of interest \n",
    "        dist_to_interest = dd - abs(sy - row_of_interest)\n",
    "        if dist_to_interest < 0:\n",
    "            continue\n",
    "\n",
    "        # collect ranges for now\n",
    "        # distance to interest gives us taper\n",
    "        #print(dd,dist_to_interest)\n",
    "        empty.append((sx-dist_to_interest,sx+dist_to_interest))\n",
    "        # check if S in row_of_interest, then get rid of that\n",
    "    empty.sort()\n",
    "    interval = [[empty[0][0],empty[0][1]]]\n",
    "    for lo,hi in empty[1:]:\n",
    "        [ilo, ihi] = interval[-1]\n",
    "\n",
    "        if lo > ihi + 1:\n",
    "            interval.append([lo, hi])\n",
    "            continue\n",
    "        \n",
    "        interval[-1][1] = max(ihi, hi)        \n",
    "        \n",
    "    return interval"
   ]
  },
  {
   "cell_type": "code",
   "execution_count": 16,
   "metadata": {},
   "outputs": [],
   "source": [
    "row_of_interest = 2000000 \n",
    "if test:\n",
    "    row_of_interest = 10\n",
    "    \n",
    "empty = fill_row_part1(row_of_interest)\n",
    "print(len(set(empty)))"
   ]
  },
  {
   "cell_type": "code",
   "execution_count": 17,
   "metadata": {},
   "outputs": [
    {
     "name": "stdout",
     "output_type": "stream",
     "text": [
      "10649103160102\n"
     ]
    }
   ],
   "source": [
    "# we are looking for a blanks space in box \n",
    "# for each row find highest interval\n",
    "# if the blank space in on that row, then\n",
    "# the lower value of that highest interval \n",
    "# will be bigger than edge of the box (in this case 0)\n",
    "\n",
    "max_ord = 4000000\n",
    "min_ord = 0\n",
    "done = False\n",
    "for row_to_search in range(0,max_ord + 1):\n",
    "    q = fill_row_part2(row_to_search)\n",
    "    x = 0\n",
    "    for lo, hi in q:\n",
    "        \n",
    "        if x < lo:\n",
    "            print(x * max_ord + row_to_search)\n",
    "            done = True\n",
    "        x = max(x, hi + 1)\n",
    "        if x > max_ord:\n",
    "            break\n",
    "    if done:\n",
    "        break"
   ]
  },
  {
   "cell_type": "code",
   "execution_count": null,
   "metadata": {},
   "outputs": [],
   "source": []
  },
  {
   "cell_type": "code",
   "execution_count": null,
   "metadata": {},
   "outputs": [],
   "source": []
  }
 ],
 "metadata": {
  "kernelspec": {
   "display_name": "Python 3 (ipykernel)",
   "language": "python",
   "name": "python3"
  },
  "language_info": {
   "codemirror_mode": {
    "name": "ipython",
    "version": 3
   },
   "file_extension": ".py",
   "mimetype": "text/x-python",
   "name": "python",
   "nbconvert_exporter": "python",
   "pygments_lexer": "ipython3",
   "version": "3.8.13"
  }
 },
 "nbformat": 4,
 "nbformat_minor": 4
}
