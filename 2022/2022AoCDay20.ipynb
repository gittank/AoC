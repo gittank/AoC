{
 "cells": [
  {
   "cell_type": "code",
   "execution_count": null,
   "metadata": {
    "scrolled": true
   },
   "outputs": [],
   "source": [
    "day = 20\n",
    "from IPython.display import IFrame\n",
    "url = \"https://adventofcode.com/2022/day/%d\"%(day)\n",
    "IFrame(src=url, width=1000, height=600)"
   ]
  },
  {
   "cell_type": "code",
   "execution_count": null,
   "metadata": {},
   "outputs": [],
   "source": [
    "import urllib.request\n",
    "import sys\n",
    "from timeit import default_timer as timer\n",
    "import itertools\n",
    "import math\n",
    "\n",
    "\n",
    "def gather_input_data(url, sessionId, transform=lambda x: str(x, \"utf-8\").strip('\\n')):\n",
    "    request = urllib.request.Request(url)\n",
    "    request.add_header(\"cookie\", \"session={}\".format(sessionId)) # Source the data directly from AoC\n",
    "\n",
    "    values = []\n",
    "    with urllib.request.urlopen(request) as data:\n",
    "        for line in data:\n",
    "            values.append(transform(line))\n",
    "\n",
    "    return values\n",
    "\n",
    "def get_data(day, year=2022):\n",
    "    with open('sessionID') as f:\n",
    "        sessionId = f.readlines()[0]\n",
    "    url = \"https://adventofcode.com/%d/day/%d/input\"%(year,day)\n",
    "    data = gather_input_data(url, sessionId)\n",
    "    return data\n",
    "\n",
    "def read_file(filename):\n",
    "    # read file\n",
    "    with open(filename) as f:\n",
    "        lines = f.readlines()\n",
    "    output = [str.rstrip(line) for line in lines]    \n",
    "    return output\n",
    "\n",
    "def get_index(idx, data):\n",
    "    out = [ii for ii,val in enumerate(data) if val[0] == idx]\n",
    "    return out[0]"
   ]
  },
  {
   "cell_type": "code",
   "execution_count": null,
   "metadata": {},
   "outputs": [],
   "source": [
    "import numpy as np\n",
    "import sys\n",
    "import math\n",
    "from copy import deepcopy\n",
    "from collections import defaultdict, deque\n",
    "\n",
    "data = get_data(day)\n",
    "data = (list(enumerate(data)))\n"
   ]
  },
  {
   "cell_type": "code",
   "execution_count": null,
   "metadata": {},
   "outputs": [],
   "source": [
    "\n",
    "\n",
    "\n",
    "def solve():\n",
    "\n",
    "    X = deque(data)\n",
    "    for t in range(1):\n",
    "        for i in range(len(X)):\n",
    "            for j in range(len(X)):\n",
    "                if X[j][0]==i:\n",
    "                    break\n",
    "            while X[0][0]!=i:\n",
    "                X.append(X.popleft())\n",
    "            val = X.popleft()\n",
    "            to_pop = val[1]\n",
    "            to_pop %= len(X)\n",
    "            assert 0<=to_pop < len(X)\n",
    "\n",
    "            for _ in range(to_pop):\n",
    "                X.append(X.popleft())\n",
    "            X.append(val)\n",
    "    for j in range(len(X)):\n",
    "        if X[j][1] == 0:\n",
    "            break\n",
    "    return (X[(j+1000)%len(X)][1] + X[(j+2000)%len(X)][1] + X[(j+3000)%len(X)][1])\n",
    "solve()\n"
   ]
  },
  {
   "cell_type": "code",
   "execution_count": null,
   "metadata": {},
   "outputs": [],
   "source": []
  },
  {
   "cell_type": "code",
   "execution_count": null,
   "metadata": {},
   "outputs": [],
   "source": []
  }
 ],
 "metadata": {
  "kernelspec": {
   "display_name": "Python 3 (ipykernel)",
   "language": "python",
   "name": "python3"
  },
  "language_info": {
   "codemirror_mode": {
    "name": "ipython",
    "version": 3
   },
   "file_extension": ".py",
   "mimetype": "text/x-python",
   "name": "python",
   "nbconvert_exporter": "python",
   "pygments_lexer": "ipython3",
   "version": "3.8.13"
  }
 },
 "nbformat": 4,
 "nbformat_minor": 4
}
