{
 "cells": [
  {
   "cell_type": "code",
   "execution_count": 2,
   "metadata": {
    "scrolled": true
   },
   "outputs": [
    {
     "data": {
      "text/html": [
       "\n",
       "        <iframe\n",
       "            width=\"1000\"\n",
       "            height=\"600\"\n",
       "            src=\"https://adventofcode.com/2022/day/20\"\n",
       "            frameborder=\"0\"\n",
       "            allowfullscreen\n",
       "            \n",
       "        ></iframe>\n",
       "        "
      ],
      "text/plain": [
       "<IPython.lib.display.IFrame at 0x11369ba60>"
      ]
     },
     "execution_count": 2,
     "metadata": {},
     "output_type": "execute_result"
    }
   ],
   "source": [
    "day = 20\n",
    "from IPython.display import IFrame\n",
    "url = \"https://adventofcode.com/2022/day/%d\"%(day)\n",
    "IFrame(src=url, width=1000, height=600)"
   ]
  },
  {
   "cell_type": "code",
   "execution_count": 84,
   "metadata": {},
   "outputs": [],
   "source": [
    "import urllib.request\n",
    "import sys\n",
    "from timeit import default_timer as timer\n",
    "import itertools\n",
    "import math\n",
    "\n",
    "\n",
    "def gather_input_data(url, sessionId, transform=lambda x: str(x, \"utf-8\").strip('\\n')):\n",
    "    request = urllib.request.Request(url)\n",
    "    request.add_header(\"cookie\", \"session={}\".format(sessionId)) # Source the data directly from AoC\n",
    "\n",
    "    values = []\n",
    "    with urllib.request.urlopen(request) as data:\n",
    "        for line in data:\n",
    "            values.append(transform(line))\n",
    "\n",
    "    return values\n",
    "\n",
    "def get_data(day, year=2022):\n",
    "    with open('sessionID') as f:\n",
    "        sessionId = f.readlines()[0]\n",
    "    url = \"https://adventofcode.com/%d/day/%d/input\"%(year,day)\n",
    "    data = gather_input_data(url, sessionId)\n",
    "    return data\n",
    "\n",
    "def read_file(filename):\n",
    "    # read file\n",
    "    with open(filename) as f:\n",
    "        lines = f.readlines()\n",
    "    output = [str.rstrip(line) for line in lines]    \n",
    "    return output\n",
    "\n",
    "def get_index(idx, data):\n",
    "    out = [ii for ii,val in enumerate(data) if val[0] == idx]\n",
    "    return out[0]"
   ]
  },
  {
   "cell_type": "code",
   "execution_count": 93,
   "metadata": {},
   "outputs": [],
   "source": [
    "import numpy as np\n",
    "import sys\n",
    "import math\n",
    "from copy import deepcopy\n",
    "from collections import defaultdict, deque\n",
    "\n",
    "data = get_data(day)\n",
    "data = (list(enumerate(data)))\n"
   ]
  },
  {
   "cell_type": "code",
   "execution_count": 94,
   "metadata": {},
   "outputs": [
    {
     "ename": "TypeError",
     "evalue": "not all arguments converted during string formatting",
     "output_type": "error",
     "traceback": [
      "\u001b[0;31m---------------------------------------------------------------------------\u001b[0m",
      "\u001b[0;31mTypeError\u001b[0m                                 Traceback (most recent call last)",
      "Input \u001b[0;32mIn [94]\u001b[0m, in \u001b[0;36m<cell line: 23>\u001b[0;34m()\u001b[0m\n\u001b[1;32m     21\u001b[0m             \u001b[38;5;28;01mbreak\u001b[39;00m\n\u001b[1;32m     22\u001b[0m     \u001b[38;5;28;01mreturn\u001b[39;00m (X[(j\u001b[38;5;241m+\u001b[39m\u001b[38;5;241m1000\u001b[39m)\u001b[38;5;241m%\u001b[39m\u001b[38;5;28mlen\u001b[39m(X)][\u001b[38;5;241m1\u001b[39m] \u001b[38;5;241m+\u001b[39m X[(j\u001b[38;5;241m+\u001b[39m\u001b[38;5;241m2000\u001b[39m)\u001b[38;5;241m%\u001b[39m\u001b[38;5;28mlen\u001b[39m(X)][\u001b[38;5;241m1\u001b[39m] \u001b[38;5;241m+\u001b[39m X[(j\u001b[38;5;241m+\u001b[39m\u001b[38;5;241m3000\u001b[39m)\u001b[38;5;241m%\u001b[39m\u001b[38;5;28mlen\u001b[39m(X)][\u001b[38;5;241m1\u001b[39m])\n\u001b[0;32m---> 23\u001b[0m \u001b[38;5;28mprint\u001b[39m(\u001b[43msolve\u001b[49m\u001b[43m(\u001b[49m\u001b[43m)\u001b[49m)\n",
      "Input \u001b[0;32mIn [94]\u001b[0m, in \u001b[0;36msolve\u001b[0;34m()\u001b[0m\n\u001b[1;32m     11\u001b[0m val \u001b[38;5;241m=\u001b[39m X\u001b[38;5;241m.\u001b[39mpopleft()\n\u001b[1;32m     12\u001b[0m to_pop \u001b[38;5;241m=\u001b[39m val[\u001b[38;5;241m1\u001b[39m]\n\u001b[0;32m---> 13\u001b[0m to_pop \u001b[38;5;241m%\u001b[39m\u001b[38;5;241m=\u001b[39m \u001b[38;5;28mlen\u001b[39m(X)\n\u001b[1;32m     14\u001b[0m \u001b[38;5;28;01massert\u001b[39;00m \u001b[38;5;241m0\u001b[39m\u001b[38;5;241m<\u001b[39m\u001b[38;5;241m=\u001b[39mto_pop \u001b[38;5;241m<\u001b[39m \u001b[38;5;28mlen\u001b[39m(X)\n\u001b[1;32m     16\u001b[0m \u001b[38;5;28;01mfor\u001b[39;00m _ \u001b[38;5;129;01min\u001b[39;00m \u001b[38;5;28mrange\u001b[39m(to_pop):\n",
      "\u001b[0;31mTypeError\u001b[0m: not all arguments converted during string formatting"
     ]
    }
   ],
   "source": [
    "\n",
    "\n",
    "\n",
    "def solve():\n",
    "\n",
    "    X = deque(data)\n",
    "    for t in range(1):\n",
    "        for i in range(len(X)):\n",
    "            for j in range(len(X)):\n",
    "                if X[j][0]==i:\n",
    "                    break\n",
    "            while X[0][0]!=i:\n",
    "                X.append(X.popleft())\n",
    "            val = X.popleft()\n",
    "            to_pop = val[1]\n",
    "            to_pop %= len(X)\n",
    "            assert 0<=to_pop < len(X)\n",
    "\n",
    "            for _ in range(to_pop):\n",
    "                X.append(X.popleft())\n",
    "            X.append(val)\n",
    "    for j in range(len(X)):\n",
    "        if X[j][1] == 0:\n",
    "            break\n",
    "    return (X[(j+1000)%len(X)][1] + X[(j+2000)%len(X)][1] + X[(j+3000)%len(X)][1])\n",
    "print(solve())\n"
   ]
  },
  {
   "cell_type": "code",
   "execution_count": null,
   "metadata": {},
   "outputs": [],
   "source": []
  },
  {
   "cell_type": "code",
   "execution_count": null,
   "metadata": {},
   "outputs": [],
   "source": []
  }
 ],
 "metadata": {
  "kernelspec": {
   "display_name": "Python 3 (ipykernel)",
   "language": "python",
   "name": "python3"
  },
  "language_info": {
   "codemirror_mode": {
    "name": "ipython",
    "version": 3
   },
   "file_extension": ".py",
   "mimetype": "text/x-python",
   "name": "python",
   "nbconvert_exporter": "python",
   "pygments_lexer": "ipython3",
   "version": "3.8.13"
  }
 },
 "nbformat": 4,
 "nbformat_minor": 4
}
