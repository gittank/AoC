{
 "cells": [
  {
   "cell_type": "code",
   "execution_count": 1,
   "metadata": {},
   "outputs": [
    {
     "data": {
      "text/html": [
       "\n",
       "        <iframe\n",
       "            width=\"1000\"\n",
       "            height=\"600\"\n",
       "            src=\"https://adventofcode.com/2022/day/16\"\n",
       "            frameborder=\"0\"\n",
       "            allowfullscreen\n",
       "            \n",
       "        ></iframe>\n",
       "        "
      ],
      "text/plain": [
       "<IPython.lib.display.IFrame at 0x11077d520>"
      ]
     },
     "execution_count": 1,
     "metadata": {},
     "output_type": "execute_result"
    }
   ],
   "source": [
    "day = 16\n",
    "from IPython.display import IFrame\n",
    "url = \"https://adventofcode.com/2022/day/%d\"%(day)\n",
    "IFrame(src=url, width=1000, height=600)"
   ]
  },
  {
   "cell_type": "code",
   "execution_count": 97,
   "metadata": {},
   "outputs": [],
   "source": [
    "import urllib.request\n",
    "import sys\n",
    "from timeit import default_timer as timer\n",
    "import itertools\n",
    "\n",
    "\n",
    "def gather_input_data(url, sessionId, transform=lambda x: str(x, \"utf-8\").strip('\\n')):\n",
    "    request = urllib.request.Request(url)\n",
    "    request.add_header(\"cookie\", \"session={}\".format(sessionId)) # Source the data directly from AoC\n",
    "\n",
    "    values = []\n",
    "    with urllib.request.urlopen(request) as data:\n",
    "        for line in data:\n",
    "            values.append(transform(line))\n",
    "\n",
    "    return values\n",
    "\n",
    "def get_data(day, year=2022):\n",
    "    with open('sessionID') as f:\n",
    "        sessionId = f.readlines()[0]\n",
    "    url = \"https://adventofcode.com/%d/day/%d/input\"%(year,day)\n",
    "    data = gather_input_data(url, sessionId)\n",
    "    return data\n",
    "\n",
    "def read_file(filename):\n",
    "    # read file\n",
    "    with open(filename) as f:\n",
    "        lines = f.readlines()\n",
    "    output = [str.rstrip(line) for line in lines]    \n",
    "    return output\n",
    "\n"
   ]
  },
  {
   "cell_type": "code",
   "execution_count": 98,
   "metadata": {},
   "outputs": [
    {
     "name": "stdout",
     "output_type": "stream",
     "text": [
      "1720\n"
     ]
    }
   ],
   "source": [
    "from collections import deque\n",
    "\n",
    "valves = {}\n",
    "tunnels = {}\n",
    "data = get_data(day)\n",
    "for line in data:\n",
    "    line = line.strip()\n",
    "    valve = line.split()[1]\n",
    "    flow = int(line.split(\";\")[0].split(\"=\")[1])\n",
    "    targets = line.split(\"to \")[1].split(\" \", 1)[1].split(\", \")\n",
    "    valves[valve] = flow\n",
    "    tunnels[valve] = targets\n",
    "\n",
    "dists = {}\n",
    "nonempty = []\n",
    "\n",
    "for valve in valves:\n",
    "    if valve != \"AA\" and not valves[valve]:\n",
    "        continue\n",
    "    \n",
    "    if valve != \"AA\":\n",
    "        nonempty.append(valve)\n",
    "\n",
    "    dists[valve] = {valve: 0, \"AA\": 0}\n",
    "    visited = {valve}\n",
    "    \n",
    "    queue = deque([(0, valve)])\n",
    "    \n",
    "    while queue:\n",
    "        distance, position = queue.popleft()\n",
    "        for neighbor in tunnels[position]:\n",
    "            if neighbor in visited:\n",
    "                continue\n",
    "            visited.add(neighbor)\n",
    "            if valves[neighbor]:\n",
    "                dists[valve][neighbor] = distance + 1\n",
    "            queue.append((distance + 1, neighbor))\n",
    "\n",
    "    del dists[valve][valve]\n",
    "    if valve != \"AA\":\n",
    "        del dists[valve][\"AA\"]\n",
    "\n",
    "indices = {}\n",
    "\n",
    "for index, element in enumerate(nonempty):\n",
    "    indices[element] = index\n",
    "\n",
    "cache = {}\n",
    "\n",
    "def dfs(time, valve, bitmask):\n",
    "    if (time, valve, bitmask) in cache:\n",
    "        return cache[(time, valve, bitmask)]\n",
    "    \n",
    "    maxval = 0\n",
    "    for neighbor in dists[valve]:\n",
    "        bit = 1 << indices[neighbor]\n",
    "        if bitmask & bit:\n",
    "            continue\n",
    "        remtime = time - dists[valve][neighbor] - 1\n",
    "        if remtime <= 0:\n",
    "            continue\n",
    "        maxval = max(maxval, dfs(remtime, neighbor, bitmask | bit) + valves[neighbor] * remtime)\n",
    "        \n",
    "    cache[(time, valve, bitmask)] = maxval\n",
    "    return maxval\n",
    "\n",
    "print(dfs(30, \"AA\", 0))"
   ]
  },
  {
   "cell_type": "code",
   "execution_count": 101,
   "metadata": {},
   "outputs": [
    {
     "name": "stdout",
     "output_type": "stream",
     "text": [
      "2582\n"
     ]
    }
   ],
   "source": [
    "b = (1 << len(nonempty)) - 1\n",
    "\n",
    "m = 0\n",
    "\n",
    "for i in range((b + 1) // 2):\n",
    "    m = max(m, dfs(26, \"AA\", i) + dfs(26, \"AA\", b ^ i))\n",
    "\n",
    "print(m)"
   ]
  },
  {
   "cell_type": "code",
   "execution_count": null,
   "metadata": {},
   "outputs": [],
   "source": []
  },
  {
   "cell_type": "code",
   "execution_count": null,
   "metadata": {},
   "outputs": [],
   "source": []
  },
  {
   "cell_type": "code",
   "execution_count": null,
   "metadata": {},
   "outputs": [],
   "source": []
  },
  {
   "cell_type": "code",
   "execution_count": 66,
   "metadata": {},
   "outputs": [],
   "source": []
  },
  {
   "cell_type": "code",
   "execution_count": null,
   "metadata": {},
   "outputs": [],
   "source": []
  }
 ],
 "metadata": {
  "kernelspec": {
   "display_name": "Python 3 (ipykernel)",
   "language": "python",
   "name": "python3"
  },
  "language_info": {
   "codemirror_mode": {
    "name": "ipython",
    "version": 3
   },
   "file_extension": ".py",
   "mimetype": "text/x-python",
   "name": "python",
   "nbconvert_exporter": "python",
   "pygments_lexer": "ipython3",
   "version": "3.8.13"
  }
 },
 "nbformat": 4,
 "nbformat_minor": 4
}
