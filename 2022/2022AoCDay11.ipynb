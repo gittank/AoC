{
 "cells": [
  {
   "cell_type": "code",
   "execution_count": 1,
   "metadata": {},
   "outputs": [
    {
     "data": {
      "text/html": [
       "\n",
       "        <iframe\n",
       "            width=\"1000\"\n",
       "            height=\"600\"\n",
       "            src=\"https://adventofcode.com/2022/day/11\"\n",
       "            frameborder=\"0\"\n",
       "            allowfullscreen\n",
       "            \n",
       "        ></iframe>\n",
       "        "
      ],
      "text/plain": [
       "<IPython.lib.display.IFrame at 0x112c400a0>"
      ]
     },
     "execution_count": 1,
     "metadata": {},
     "output_type": "execute_result"
    }
   ],
   "source": [
    "day = 11\n",
    "from IPython.display import IFrame\n",
    "url = \"https://adventofcode.com/2022/day/%d\"%(day)\n",
    "IFrame(src=url, width=1000, height=600)"
   ]
  },
  {
   "cell_type": "code",
   "execution_count": 93,
   "metadata": {},
   "outputs": [],
   "source": [
    "import urllib.request\n",
    "import sys\n",
    "from timeit import default_timer as timer\n",
    "import itertools\n",
    "\n",
    "\n",
    "def gather_input_data(url, sessionId, transform=lambda x: str(x, \"utf-8\").strip('\\n')):\n",
    "    request = urllib.request.Request(url)\n",
    "    request.add_header(\"cookie\", \"session={}\".format(sessionId)) # Source the data directly from AoC\n",
    "\n",
    "    values = []\n",
    "    with urllib.request.urlopen(request) as data:\n",
    "        for line in data:\n",
    "            values.append(transform(line))\n",
    "\n",
    "    return values\n",
    "\n",
    "def get_data(day, year=2022):\n",
    "    with open('sessionID') as f:\n",
    "        sessionId = f.readlines()[0]\n",
    "    url = \"https://adventofcode.com/%d/day/%d/input\"%(year,day)\n",
    "    data = gather_input_data(url, sessionId)\n",
    "    return data\n",
    "\n",
    "\n",
    "def parse_line(val):\n",
    "    d,c = val.split(' ')\n",
    "    return [d, int(c)]\n",
    "\n",
    "def read_file(filename):\n",
    "    # read file\n",
    "    with open(filename) as f:\n",
    "        lines = f.readlines()\n",
    "    output = [str.rstrip(line) for line in lines]    \n",
    "    return output\n",
    "\n",
    "def init_monkey(record):\n",
    "    worry = record[1].split(':')[1].split(',')\n",
    "    worry = [int(val) for val in worry]\n",
    "    operation = record[2].split('=')[1]\n",
    "    test = int(record[3].split('by')[1])\n",
    "    true = int(record[4].split('monkey')[1])\n",
    "    false = int(record[5].split('monkey')[1])\n",
    "    monkey = {'operation':operation, 'worry':worry, 'test':test, 'true':true, 'false':false, 'inspect':0}\n",
    "    return monkey\n",
    "\n",
    "def monkey_do(monkey, monkeys, part1=True):\n",
    "    for old in monkey['worry']:\n",
    "        \n",
    "        new = eval(monkey['operation'])\n",
    "        if part1:\n",
    "            new = new // 3\n",
    "        else:\n",
    "            new = new % mod\n",
    "            \n",
    "        if (new % monkey['test']==0):\n",
    "            monkeys[monkey['true']]['worry'].append(new)\n",
    "        else:\n",
    "            monkeys[monkey['false']]['worry'].append(new)\n",
    "            \n",
    "        monkey['inspect'] += 1\n",
    "    monkey['worry'] = []\n",
    "    return monkeys"
   ]
  },
  {
   "cell_type": "code",
   "execution_count": 94,
   "metadata": {},
   "outputs": [
    {
     "name": "stdout",
     "output_type": "stream",
     "text": [
      "62491\n"
     ]
    }
   ],
   "source": [
    "test = False\n",
    "data = get_data(day)\n",
    "if test:\n",
    "    data = read_file('test.txt')\n",
    "    \n",
    "monkeys = [init_monkey(list(y)) for x, y in itertools.groupby(data, lambda z: z == '') if not x]\n",
    "\n",
    "for rounds in range(20):\n",
    "    for monkey in monkeys:\n",
    "        counts[ii] = len(monkey['worry'])\n",
    "        monkeys = monkey_do(monkey, monkeys, True)\n",
    "        \n",
    "inspects = [m['inspect'] for m in monkeys]\n",
    "inspects_first = max(inspects)\n",
    "inspects.remove(inspects_first)\n",
    "inspects_second = max(inspects)\n",
    "part1 = inspects_first * inspects_second\n",
    "print(part1)"
   ]
  },
  {
   "cell_type": "code",
   "execution_count": 95,
   "metadata": {},
   "outputs": [
    {
     "name": "stdout",
     "output_type": "stream",
     "text": [
      "17408399184\n"
     ]
    }
   ],
   "source": [
    "test = False\n",
    "data = get_data(day)\n",
    "if test:\n",
    "    data = read_file('test.txt')\n",
    "    \n",
    "monkeys = [init_monkey(list(y)) for x, y in itertools.groupby(data, lambda z: z == '') if not x]\n",
    "\n",
    "from numpy import prod\n",
    "reduce_worry = prod([monkey['test'] for monkey in monkeys])\n",
    "\n",
    "for rounds in range(10000):\n",
    "    for monkey in monkeys:\n",
    "        counts[ii] = len(monkey['worry'])\n",
    "        monkeys = monkey_do(monkey, monkeys, False)\n",
    "        \n",
    "inspects = [m['inspect'] for m in monkeys]\n",
    "inspects_first = max(inspects)\n",
    "inspects.remove(inspects_first)\n",
    "inspects_second = max(inspects)\n",
    "part2 = inspects_first * inspects_second\n",
    "print(part2)"
   ]
  }
 ],
 "metadata": {
  "kernelspec": {
   "display_name": "Python 3 (ipykernel)",
   "language": "python",
   "name": "python3"
  },
  "language_info": {
   "codemirror_mode": {
    "name": "ipython",
    "version": 3
   },
   "file_extension": ".py",
   "mimetype": "text/x-python",
   "name": "python",
   "nbconvert_exporter": "python",
   "pygments_lexer": "ipython3",
   "version": "3.8.13"
  }
 },
 "nbformat": 4,
 "nbformat_minor": 4
}
