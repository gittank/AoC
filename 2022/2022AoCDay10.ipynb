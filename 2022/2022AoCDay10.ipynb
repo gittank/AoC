{
 "cells": [
  {
   "cell_type": "code",
   "execution_count": 226,
   "metadata": {},
   "outputs": [
    {
     "data": {
      "text/html": [
       "\n",
       "        <iframe\n",
       "            width=\"1000\"\n",
       "            height=\"600\"\n",
       "            src=\"https://adventofcode.com/2022/day/10\"\n",
       "            frameborder=\"0\"\n",
       "            allowfullscreen\n",
       "            \n",
       "        ></iframe>\n",
       "        "
      ],
      "text/plain": [
       "<IPython.lib.display.IFrame at 0x1150e2130>"
      ]
     },
     "execution_count": 226,
     "metadata": {},
     "output_type": "execute_result"
    }
   ],
   "source": [
    "day = 10\n",
    "from IPython.display import IFrame\n",
    "url = \"https://adventofcode.com/2022/day/%d\"%(day)\n",
    "IFrame(src=url, width=1000, height=600)"
   ]
  },
  {
   "cell_type": "code",
   "execution_count": 245,
   "metadata": {},
   "outputs": [],
   "source": [
    "import urllib.request\n",
    "import sys\n",
    "from collections import defaultdict\n",
    "from timeit import default_timer as timer\n",
    "import numpy as np\n",
    "\n",
    "\n",
    "def gather_input_data(url, sessionId, transform=lambda x: str(x, \"utf-8\").strip('\\n')):\n",
    "    request = urllib.request.Request(url)\n",
    "    request.add_header(\"cookie\", \"session={}\".format(sessionId)) # Source the data directly from AoC\n",
    "\n",
    "    values = []\n",
    "    with urllib.request.urlopen(request) as data:\n",
    "        for line in data:\n",
    "            values.append(transform(line))\n",
    "\n",
    "    return values\n",
    "\n",
    "def get_data(day, year=2022):\n",
    "    with open('sessionID') as f:\n",
    "        sessionId = f.readlines()[0]\n",
    "    url = \"https://adventofcode.com/%d/day/%d/input\"%(year,day)\n",
    "    data = gather_input_data(url, sessionId)\n",
    "    return data\n",
    "\n",
    "\n",
    "def parse_line(val):\n",
    "    d,c = val.split(' ')\n",
    "    return [d, int(c)]\n",
    "\n",
    "def read_file(filename):\n",
    "    # read file\n",
    "    with open(filename) as f:\n",
    "        lines = f.readlines()\n",
    "    output = [str.rstrip(line) for line in lines]    \n",
    "    return output"
   ]
  },
  {
   "cell_type": "code",
   "execution_count": 315,
   "metadata": {},
   "outputs": [],
   "source": [
    "test = False\n",
    "start = timer()\n",
    "data = get_data(day)\n",
    "if test:\n",
    "    data = read_file('test.txt')\n",
    "    \n",
    "    \n",
    "    "
   ]
  },
  {
   "cell_type": "code",
   "execution_count": 337,
   "metadata": {},
   "outputs": [
    {
     "name": "stdout",
     "output_type": "stream",
     "text": [
      "13740\n",
      "####.#..#.###..###..####.####..##..#....\n",
      "...#.#..#.#..#.#..#.#....#....#..#.#....\n",
      "..#..#..#.#..#.#..#.###..###..#....#....\n",
      ".#...#..#.###..###..#....#....#....#....\n",
      "#....#..#.#....#.#..#....#....#..#.#....\n",
      "####..##..#....#..#.#....####..##..####.\n"
     ]
    }
   ],
   "source": [
    "register = 1\n",
    "cycle = []\n",
    "\n",
    "for instruction in data:\n",
    "    if instruction == 'noop':\n",
    "        cycle.append(register)\n",
    "    else:\n",
    "        val = int(instruction.split()[1])\n",
    "        cycle.append(register)\n",
    "        cycle.append(register)\n",
    "        register += val\n",
    "\n",
    "part1 = (sum((ii+1) * reg  for ii, reg in list(enumerate(cycle))[19::40]))\n",
    "print(part1)\n",
    "\n",
    "for ii in range(0, len(cycle), 40):\n",
    "    for jj in range(40):\n",
    "        print(end = \"#\" if abs(cycle[ii + jj] - jj) <= 1 else \".\")\n",
    "    print()"
   ]
  },
  {
   "cell_type": "code",
   "execution_count": null,
   "metadata": {},
   "outputs": [],
   "source": []
  }
 ],
 "metadata": {
  "kernelspec": {
   "display_name": "Python 3 (ipykernel)",
   "language": "python",
   "name": "python3"
  },
  "language_info": {
   "codemirror_mode": {
    "name": "ipython",
    "version": 3
   },
   "file_extension": ".py",
   "mimetype": "text/x-python",
   "name": "python",
   "nbconvert_exporter": "python",
   "pygments_lexer": "ipython3",
   "version": "3.8.13"
  }
 },
 "nbformat": 4,
 "nbformat_minor": 4
}
