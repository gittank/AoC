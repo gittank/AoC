{
 "cells": [
  {
   "cell_type": "code",
   "execution_count": 1,
   "metadata": {},
   "outputs": [
    {
     "data": {
      "text/html": [
       "\n",
       "        <iframe\n",
       "            width=\"1000\"\n",
       "            height=\"600\"\n",
       "            src=\"https://adventofcode.com/2022/day/9\"\n",
       "            frameborder=\"0\"\n",
       "            allowfullscreen\n",
       "            \n",
       "        ></iframe>\n",
       "        "
      ],
      "text/plain": [
       "<IPython.lib.display.IFrame at 0x1042c2280>"
      ]
     },
     "execution_count": 1,
     "metadata": {},
     "output_type": "execute_result"
    }
   ],
   "source": [
    "day = 9\n",
    "from IPython.display import IFrame\n",
    "url = \"https://adventofcode.com/2022/day/%d\"%(day)\n",
    "IFrame(src=url, width=1000, height=600)"
   ]
  },
  {
   "cell_type": "code",
   "execution_count": 222,
   "metadata": {},
   "outputs": [],
   "source": [
    "import urllib.request\n",
    "import sys\n",
    "from collections import defaultdict\n",
    "from timeit import default_timer as timer\n",
    "import numpy as np\n",
    "\n",
    "\n",
    "def gather_input_data(url, sessionId, transform=lambda x: str(x, \"utf-8\").strip('\\n')):\n",
    "    request = urllib.request.Request(url)\n",
    "    request.add_header(\"cookie\", \"session={}\".format(sessionId)) # Source the data directly from AoC\n",
    "\n",
    "    values = []\n",
    "    with urllib.request.urlopen(request) as data:\n",
    "        for line in data:\n",
    "            values.append(transform(line))\n",
    "\n",
    "    return values\n",
    "\n",
    "def get_data(day, year=2022):\n",
    "    with open('sessionID') as f:\n",
    "        sessionId = f.readlines()[0]\n",
    "    url = \"https://adventofcode.com/%d/day/%d/input\"%(year,day)\n",
    "    data = gather_input_data(url, sessionId)\n",
    "    return data\n",
    "\n",
    "\n",
    "def parse_line(val):\n",
    "    d,c = val.split(' ')\n",
    "    return [d, int(c)]\n",
    "\n",
    "def flatten_list_of_list(regular_list):\n",
    "    return [item for sublist in regular_list for item in sublist]\n",
    "\n",
    "class Point:\n",
    "    def __init__(self, x=0, y=0):\n",
    "        self.x = x\n",
    "        self.y = y\n",
    "\n",
    "    def display(self):\n",
    "        print('({0}, {1})'.format(self.x, self.y))\n",
    "        \n",
    "    def values(self):\n",
    "        return self.x, self.y\n",
    "    \n",
    "    \n",
    "    def move(self, motion):\n",
    "        if motion == 'R':\n",
    "            self.x = self.x + 1\n",
    "        if motion == 'L':\n",
    "            self.x = self.x - 1\n",
    "        if motion == 'U':\n",
    "            self.y = self.y + 1\n",
    "        if motion == 'D':\n",
    "            self.y = self.y - 1\n",
    "        \n",
    "    def distance(self, point):\n",
    "        return max(abs(self.x-point.x), abs(self.y-point.y))\n",
    "    \n",
    "    def catch_up(self, point):\n",
    "        x_dist = self.x - point.x\n",
    "        y_dist = self.y - point.y\n",
    "        if x_dist < 0:\n",
    "            self.move('R')\n",
    "        if x_dist > 0:\n",
    "            self.move('L')\n",
    "        if y_dist < 0:\n",
    "            self.move('U')\n",
    "        if y_dist > 0:\n",
    "            self.move('D')\n",
    "            \n",
    "    def apply_motion(self, point, direction, count):\n",
    "        out = []\n",
    "        for _ in range(count):\n",
    "            self.move(direction)\n",
    "            if point.distance(head) > 1:\n",
    "                point.catch_up(head)\n",
    "            out.append(point.values())\n",
    "        return out\n",
    "    \n"
   ]
  },
  {
   "cell_type": "code",
   "execution_count": 225,
   "metadata": {},
   "outputs": [
    {
     "name": "stdout",
     "output_type": "stream",
     "text": [
      "Completed in 161.551796ms\n",
      "5683\n",
      "Completed in 121.483013ms\n",
      "2372\n"
     ]
    }
   ],
   "source": [
    "test = False\n",
    "start = timer()\n",
    "data = get_data(9)\n",
    "if test:\n",
    "    data = ['R 4',\n",
    "    'U 4',\n",
    "    'L 3',\n",
    "    'D 1',\n",
    "    'R 4',\n",
    "    'D 1',\n",
    "    'L 5',\n",
    "    'R 2']\n",
    "\n",
    "motions = [parse_line(val) for val in data]\n",
    "head = Point()\n",
    "tail = Point()\n",
    "tail_states = flatten_list_of_list([head.apply_motion(tail, direction, count) for direction, count in motions])        \n",
    "part1 = len(set(tail_states))\n",
    "print(\"Completed in %fms\" % ((timer() - start) * 1000))\n",
    "print(part1)\n",
    "\n",
    "\n",
    "start = timer()\n",
    "knots = [Point(), Point(), Point(), Point(), Point(), Point(), Point(), Point(), Point(), Point()]\n",
    "tail_states = []\n",
    "for direction, count in motions:\n",
    "    for _ in range(count):\n",
    "        knots[0].move(direction)\n",
    "        for ii, tail in enumerate(knots[1:]):\n",
    "            if tail.distance(knots[ii]) > 1:\n",
    "                tail.catch_up(knots[ii])\n",
    "        tail_states.append(knots[-1].values())\n",
    "        \n",
    "part2 = len(set(tail_states))\n",
    "print(\"Completed in %fms\" % ((timer() - start) * 1000))\n",
    "print(part2)\n"
   ]
  },
  {
   "cell_type": "code",
   "execution_count": null,
   "metadata": {},
   "outputs": [],
   "source": []
  }
 ],
 "metadata": {
  "kernelspec": {
   "display_name": "Python 3 (ipykernel)",
   "language": "python",
   "name": "python3"
  },
  "language_info": {
   "codemirror_mode": {
    "name": "ipython",
    "version": 3
   },
   "file_extension": ".py",
   "mimetype": "text/x-python",
   "name": "python",
   "nbconvert_exporter": "python",
   "pygments_lexer": "ipython3",
   "version": "3.8.13"
  }
 },
 "nbformat": 4,
 "nbformat_minor": 4
}
